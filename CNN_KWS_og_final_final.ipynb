{
  "cells": [
    {
      "cell_type": "code",
      "execution_count": null,
      "id": "3GvqSfPXdMxD",
      "metadata": {
        "id": "3GvqSfPXdMxD"
      },
      "outputs": [],
      "source": [
        "# PREPROCESSING: normalize the input files (raw_data) to be between -1 and 1, because that's how TF works the best\n",
        "# Try to train using GPU resource (if available)\n",
        "# Talk about acceleration basing on our research with Pini\n",
        "# Which model/architecture does Leonid expect as (ANN, CNN, etc.)\n",
        "# Test different number of layers\n",
        "# Try to correlate the different classification outputs to represent how similarity can have causality relationship with disimilarity\n",
        "# Apply some manipulations to dataset so we can generate more samples, such as small shifts, pitch modulations, etc.\n",
        "\n",
        "# Optimize Hardware performance - Throughput, #Mac operations, etc"
      ]
    },
    {
      "cell_type": "code",
      "execution_count": 5,
      "id": "FIZ7wEgUdHev",
      "metadata": {
        "colab": {
          "base_uri": "https://localhost:8080/"
        },
        "id": "FIZ7wEgUdHev",
        "outputId": "1753c0ad-c5bc-4245-c5aa-642575844013"
      },
      "outputs": [
        {
          "output_type": "stream",
          "name": "stdout",
          "text": [
            "Collecting pydub\n",
            "  Downloading pydub-0.25.1-py2.py3-none-any.whl.metadata (1.4 kB)\n",
            "Downloading pydub-0.25.1-py2.py3-none-any.whl (32 kB)\n",
            "Installing collected packages: pydub\n",
            "Successfully installed pydub-0.25.1\n",
            "Collecting tensorflow_io\n",
            "  Downloading tensorflow_io-0.37.1-cp310-cp310-manylinux_2_17_x86_64.manylinux2014_x86_64.whl.metadata (14 kB)\n",
            "Requirement already satisfied: tensorflow-io-gcs-filesystem==0.37.1 in /usr/local/lib/python3.10/dist-packages (from tensorflow_io) (0.37.1)\n",
            "Downloading tensorflow_io-0.37.1-cp310-cp310-manylinux_2_17_x86_64.manylinux2014_x86_64.whl (49.6 MB)\n",
            "\u001b[2K   \u001b[90m━━━━━━━━━━━━━━━━━━━━━━━━━━━━━━━━━━━━━━━━\u001b[0m \u001b[32m49.6/49.6 MB\u001b[0m \u001b[31m42.0 MB/s\u001b[0m eta \u001b[36m0:00:00\u001b[0m\n",
            "\u001b[?25hInstalling collected packages: tensorflow_io\n",
            "Successfully installed tensorflow_io-0.37.1\n",
            "Requirement already satisfied: tensorflow_datasets in /usr/local/lib/python3.10/dist-packages (4.9.6)\n",
            "Requirement already satisfied: absl-py in /usr/local/lib/python3.10/dist-packages (from tensorflow_datasets) (1.4.0)\n",
            "Requirement already satisfied: click in /usr/local/lib/python3.10/dist-packages (from tensorflow_datasets) (8.1.7)\n",
            "Requirement already satisfied: dm-tree in /usr/local/lib/python3.10/dist-packages (from tensorflow_datasets) (0.1.8)\n",
            "Requirement already satisfied: immutabledict in /usr/local/lib/python3.10/dist-packages (from tensorflow_datasets) (4.2.0)\n",
            "Requirement already satisfied: numpy in /usr/local/lib/python3.10/dist-packages (from tensorflow_datasets) (1.26.4)\n",
            "Requirement already satisfied: promise in /usr/local/lib/python3.10/dist-packages (from tensorflow_datasets) (2.3)\n",
            "Requirement already satisfied: protobuf>=3.20 in /usr/local/lib/python3.10/dist-packages (from tensorflow_datasets) (3.20.3)\n",
            "Requirement already satisfied: psutil in /usr/local/lib/python3.10/dist-packages (from tensorflow_datasets) (5.9.5)\n",
            "Requirement already satisfied: pyarrow in /usr/local/lib/python3.10/dist-packages (from tensorflow_datasets) (14.0.2)\n",
            "Requirement already satisfied: requests>=2.19.0 in /usr/local/lib/python3.10/dist-packages (from tensorflow_datasets) (2.32.3)\n",
            "Requirement already satisfied: simple-parsing in /usr/local/lib/python3.10/dist-packages (from tensorflow_datasets) (0.1.5)\n",
            "Requirement already satisfied: tensorflow-metadata in /usr/local/lib/python3.10/dist-packages (from tensorflow_datasets) (1.15.0)\n",
            "Requirement already satisfied: termcolor in /usr/local/lib/python3.10/dist-packages (from tensorflow_datasets) (2.4.0)\n",
            "Requirement already satisfied: toml in /usr/local/lib/python3.10/dist-packages (from tensorflow_datasets) (0.10.2)\n",
            "Requirement already satisfied: tqdm in /usr/local/lib/python3.10/dist-packages (from tensorflow_datasets) (4.66.5)\n",
            "Requirement already satisfied: wrapt in /usr/local/lib/python3.10/dist-packages (from tensorflow_datasets) (1.16.0)\n",
            "Requirement already satisfied: array-record>=0.5.0 in /usr/local/lib/python3.10/dist-packages (from tensorflow_datasets) (0.5.1)\n",
            "Requirement already satisfied: etils>=1.6.0 in /usr/local/lib/python3.10/dist-packages (from etils[enp,epath,epy,etree]>=1.6.0; python_version < \"3.11\"->tensorflow_datasets) (1.7.0)\n",
            "Requirement already satisfied: fsspec in /usr/local/lib/python3.10/dist-packages (from etils[enp,epath,epy,etree]>=1.6.0; python_version < \"3.11\"->tensorflow_datasets) (2024.6.1)\n",
            "Requirement already satisfied: importlib_resources in /usr/local/lib/python3.10/dist-packages (from etils[enp,epath,epy,etree]>=1.6.0; python_version < \"3.11\"->tensorflow_datasets) (6.4.4)\n",
            "Requirement already satisfied: typing_extensions in /usr/local/lib/python3.10/dist-packages (from etils[enp,epath,epy,etree]>=1.6.0; python_version < \"3.11\"->tensorflow_datasets) (4.12.2)\n",
            "Requirement already satisfied: zipp in /usr/local/lib/python3.10/dist-packages (from etils[enp,epath,epy,etree]>=1.6.0; python_version < \"3.11\"->tensorflow_datasets) (3.20.1)\n",
            "Requirement already satisfied: charset-normalizer<4,>=2 in /usr/local/lib/python3.10/dist-packages (from requests>=2.19.0->tensorflow_datasets) (3.3.2)\n",
            "Requirement already satisfied: idna<4,>=2.5 in /usr/local/lib/python3.10/dist-packages (from requests>=2.19.0->tensorflow_datasets) (3.8)\n",
            "Requirement already satisfied: urllib3<3,>=1.21.1 in /usr/local/lib/python3.10/dist-packages (from requests>=2.19.0->tensorflow_datasets) (2.0.7)\n",
            "Requirement already satisfied: certifi>=2017.4.17 in /usr/local/lib/python3.10/dist-packages (from requests>=2.19.0->tensorflow_datasets) (2024.8.30)\n",
            "Requirement already satisfied: six in /usr/local/lib/python3.10/dist-packages (from promise->tensorflow_datasets) (1.16.0)\n",
            "Requirement already satisfied: docstring-parser~=0.15 in /usr/local/lib/python3.10/dist-packages (from simple-parsing->tensorflow_datasets) (0.16)\n",
            "Requirement already satisfied: tensorflow in /usr/local/lib/python3.10/dist-packages (2.17.0)\n",
            "Requirement already satisfied: absl-py>=1.0.0 in /usr/local/lib/python3.10/dist-packages (from tensorflow) (1.4.0)\n",
            "Requirement already satisfied: astunparse>=1.6.0 in /usr/local/lib/python3.10/dist-packages (from tensorflow) (1.6.3)\n",
            "Requirement already satisfied: flatbuffers>=24.3.25 in /usr/local/lib/python3.10/dist-packages (from tensorflow) (24.3.25)\n",
            "Requirement already satisfied: gast!=0.5.0,!=0.5.1,!=0.5.2,>=0.2.1 in /usr/local/lib/python3.10/dist-packages (from tensorflow) (0.6.0)\n",
            "Requirement already satisfied: google-pasta>=0.1.1 in /usr/local/lib/python3.10/dist-packages (from tensorflow) (0.2.0)\n",
            "Requirement already satisfied: h5py>=3.10.0 in /usr/local/lib/python3.10/dist-packages (from tensorflow) (3.11.0)\n",
            "Requirement already satisfied: libclang>=13.0.0 in /usr/local/lib/python3.10/dist-packages (from tensorflow) (18.1.1)\n",
            "Requirement already satisfied: ml-dtypes<0.5.0,>=0.3.1 in /usr/local/lib/python3.10/dist-packages (from tensorflow) (0.4.0)\n",
            "Requirement already satisfied: opt-einsum>=2.3.2 in /usr/local/lib/python3.10/dist-packages (from tensorflow) (3.3.0)\n",
            "Requirement already satisfied: packaging in /usr/local/lib/python3.10/dist-packages (from tensorflow) (24.1)\n",
            "Requirement already satisfied: protobuf!=4.21.0,!=4.21.1,!=4.21.2,!=4.21.3,!=4.21.4,!=4.21.5,<5.0.0dev,>=3.20.3 in /usr/local/lib/python3.10/dist-packages (from tensorflow) (3.20.3)\n",
            "Requirement already satisfied: requests<3,>=2.21.0 in /usr/local/lib/python3.10/dist-packages (from tensorflow) (2.32.3)\n",
            "Requirement already satisfied: setuptools in /usr/local/lib/python3.10/dist-packages (from tensorflow) (71.0.4)\n",
            "Requirement already satisfied: six>=1.12.0 in /usr/local/lib/python3.10/dist-packages (from tensorflow) (1.16.0)\n",
            "Requirement already satisfied: termcolor>=1.1.0 in /usr/local/lib/python3.10/dist-packages (from tensorflow) (2.4.0)\n",
            "Requirement already satisfied: typing-extensions>=3.6.6 in /usr/local/lib/python3.10/dist-packages (from tensorflow) (4.12.2)\n",
            "Requirement already satisfied: wrapt>=1.11.0 in /usr/local/lib/python3.10/dist-packages (from tensorflow) (1.16.0)\n",
            "Requirement already satisfied: grpcio<2.0,>=1.24.3 in /usr/local/lib/python3.10/dist-packages (from tensorflow) (1.64.1)\n",
            "Requirement already satisfied: tensorboard<2.18,>=2.17 in /usr/local/lib/python3.10/dist-packages (from tensorflow) (2.17.0)\n",
            "Requirement already satisfied: keras>=3.2.0 in /usr/local/lib/python3.10/dist-packages (from tensorflow) (3.4.1)\n",
            "Requirement already satisfied: tensorflow-io-gcs-filesystem>=0.23.1 in /usr/local/lib/python3.10/dist-packages (from tensorflow) (0.37.1)\n",
            "Requirement already satisfied: numpy<2.0.0,>=1.23.5 in /usr/local/lib/python3.10/dist-packages (from tensorflow) (1.26.4)\n",
            "Requirement already satisfied: wheel<1.0,>=0.23.0 in /usr/local/lib/python3.10/dist-packages (from astunparse>=1.6.0->tensorflow) (0.44.0)\n",
            "Requirement already satisfied: rich in /usr/local/lib/python3.10/dist-packages (from keras>=3.2.0->tensorflow) (13.8.0)\n",
            "Requirement already satisfied: namex in /usr/local/lib/python3.10/dist-packages (from keras>=3.2.0->tensorflow) (0.0.8)\n",
            "Requirement already satisfied: optree in /usr/local/lib/python3.10/dist-packages (from keras>=3.2.0->tensorflow) (0.12.1)\n",
            "Requirement already satisfied: charset-normalizer<4,>=2 in /usr/local/lib/python3.10/dist-packages (from requests<3,>=2.21.0->tensorflow) (3.3.2)\n",
            "Requirement already satisfied: idna<4,>=2.5 in /usr/local/lib/python3.10/dist-packages (from requests<3,>=2.21.0->tensorflow) (3.8)\n",
            "Requirement already satisfied: urllib3<3,>=1.21.1 in /usr/local/lib/python3.10/dist-packages (from requests<3,>=2.21.0->tensorflow) (2.0.7)\n",
            "Requirement already satisfied: certifi>=2017.4.17 in /usr/local/lib/python3.10/dist-packages (from requests<3,>=2.21.0->tensorflow) (2024.8.30)\n",
            "Requirement already satisfied: markdown>=2.6.8 in /usr/local/lib/python3.10/dist-packages (from tensorboard<2.18,>=2.17->tensorflow) (3.7)\n",
            "Requirement already satisfied: tensorboard-data-server<0.8.0,>=0.7.0 in /usr/local/lib/python3.10/dist-packages (from tensorboard<2.18,>=2.17->tensorflow) (0.7.2)\n",
            "Requirement already satisfied: werkzeug>=1.0.1 in /usr/local/lib/python3.10/dist-packages (from tensorboard<2.18,>=2.17->tensorflow) (3.0.4)\n",
            "Requirement already satisfied: MarkupSafe>=2.1.1 in /usr/local/lib/python3.10/dist-packages (from werkzeug>=1.0.1->tensorboard<2.18,>=2.17->tensorflow) (2.1.5)\n",
            "Requirement already satisfied: markdown-it-py>=2.2.0 in /usr/local/lib/python3.10/dist-packages (from rich->keras>=3.2.0->tensorflow) (3.0.0)\n",
            "Requirement already satisfied: pygments<3.0.0,>=2.13.0 in /usr/local/lib/python3.10/dist-packages (from rich->keras>=3.2.0->tensorflow) (2.16.1)\n",
            "Requirement already satisfied: mdurl~=0.1 in /usr/local/lib/python3.10/dist-packages (from markdown-it-py>=2.2.0->rich->keras>=3.2.0->tensorflow) (0.1.2)\n"
          ]
        }
      ],
      "source": [
        "# dependencies\n",
        "! pip install pydub\n",
        "! pip install tensorflow_io\n",
        "! pip install tensorflow_datasets\n",
        "! pip install tensorflow\n",
        "! pip install tensorflow_io\n",
        "! pip install pydub\n",
        "! pip install tensorflow_datasets\n",
        "! pip install tensorflow\n",
        "!pip install scikit-learn\n",
        "!pip install nnaudio\n"
      ]
    },
    {
      "cell_type": "code",
      "execution_count": 8,
      "id": "68ca7fbc125461f5",
      "metadata": {
        "ExecuteTime": {
          "end_time": "2024-06-15T16:27:28.255851Z",
          "start_time": "2024-06-15T16:27:28.234790Z"
        },
        "id": "68ca7fbc125461f5"
      },
      "outputs": [],
      "source": [
        "import tensorflow_datasets as tfds\n",
        "import tensorflow as tf\n",
        "import tensorflow_io as tfio"
      ]
    },
    {
      "cell_type": "code",
      "execution_count": 9,
      "id": "496243c54d1b5fa1",
      "metadata": {
        "ExecuteTime": {
          "end_time": "2024-06-15T13:27:07.814067Z",
          "start_time": "2024-06-15T12:45:42.268314Z"
        },
        "colab": {
          "base_uri": "https://localhost:8080/",
          "height": 170,
          "referenced_widgets": [
            "01068b379336488e8d084717688627f6",
            "9a01d1f708e9479c9d3053f74e2cabd7",
            "b23d6353c83a4e478b5429e7da5ab153",
            "c55e52381b9c4fdb89cb1f4455add227",
            "0983628c69164fedbb8f3e5f8c5d37b0",
            "e7f57de8d06447a2ab6bc5da64963a5b",
            "2841cd144bc24b57a7635565117febc8",
            "7412bea10e404df2a0dc256621616763",
            "7b7b5d73d15744b58d86d5df7931711b",
            "2d3b9d8c386f4ccb9719d740571ec229",
            "887d886ac7f740fb9ba8cb6992777294",
            "b27cd907142548dbb5d57ea8cd879a76",
            "542f3a6d4bce40e2b3db313620a37309",
            "1ece4907d4a54b339daa2ed30ba2c6ec",
            "c1a602d9397f4fe6b494ad8c59fd8bb0",
            "5c2601439b0b4a7ebf94deda9c686479",
            "016d026af3554c8082951b98a70a5101",
            "f64f98d2dcbc48aab810516e9ca7a520",
            "26058d1e78254ab1b7f429e9902a000d",
            "84da8b06091440f7b69bac804cb8661d",
            "306fba23cf9b4b1996b798269972eade",
            "f7b9ed0c76534f33bee960d131cc85ca",
            "6760bda06c8344d5aa59ba9ea59f8b2a",
            "c7a527c2d584405191885c0bd4d2e623",
            "8a19dfcca146476da19c4fc22662536b",
            "f83b65a262d547eb92204a1a42252cd0",
            "6ccfb928ab43403dba2762adaf9c92dd",
            "754924f8eac0424d90962ff064c682e3",
            "9cb48f88795f444baf8ec5d6542c91cf",
            "529697ac03ae4d3db8128391d833706f",
            "b5e3c493034e40b6bacc2b8b9dca2667",
            "e368d368234d4c34889adce71140270a",
            "12fee5d96e1946bb802be1b1104ea6a3",
            "bf93acdc3ba44872918e4975659ab8ce",
            "fe75a13e3d36473b88415a71a34c6611",
            "fb9d98cfe7774a958a005465428c8e87",
            "39682e7cf0474969b947e9dc62a4f479",
            "aaa03449a4c7452bb9e0934cc3bc18c2",
            "ce584102005242afa1c8c0f7e7fadf14",
            "2580834b137340a789499a291f931682",
            "459721d5133e4fa7ae6e38923d7f8cda",
            "a610f95643b541968df0dc49a440e3a3",
            "0fedd666bbbf46bd9d08899e9fc2aaf8",
            "09a8c222d46c4687977e0e84ccd50e63",
            "58973d03df624e3191ef561e6f7ca032",
            "eb35ce53a2f945fbab0a51ab44e21982",
            "157f18ae7db2477da78203875223b249",
            "4178661cfe494d669f0e565fa66df6f1",
            "2dcbb76470824110be4f842f87ca04df",
            "9982d6a855724f28beea4a90df487c6c",
            "160aecd9403d4db1b54401a042c4ac4c",
            "a625652ebf4f4c88bafdf3150339c927",
            "5875335d42a045f0a3e748babed0b253",
            "058994fc0b10432fae759fce8af9a09c",
            "61eb033fcc0b4f8fa2ca6c81880c7e19",
            "7eeb005ae29c455680e828d59c904b01",
            "09e1d7b92da4487291405cd32b79afbc",
            "48d2789f915540c1ab03fb30f399ddad",
            "d07f4965ef284a448928d86cf43532cc",
            "740a246c1ff043f2870b08d0468e3937",
            "49e99c4c50d74ead86a2c534a4f1f74b",
            "61da831262b046e3a37ca7fa977ca925",
            "a0556a97f52f4db1955501f8f20cf9a5",
            "9226042910ac49c2a6f62c99a632940c",
            "81cc13e52544478f8a0a45550f2bf630",
            "c84c389df862402aa1aca94576286c84",
            "57deec78cd104465ba0237cebbfcc3c1",
            "faae61211a094cfbb6ca36a2b4b5e031",
            "aec647cf085146b2bba9e3ae9139987e",
            "a2d683ff511342a482b76e019eefd6ec",
            "73d3092e807a40369112faa706436c7e",
            "d81833b3a0e44d38807b3db58bcb8c34",
            "616b7b140b0d40dd94d5ca4d6e8c598d",
            "bc289f489d454fa89eb65077fac56707",
            "777aa5a547eb4fef85b7cb65f86ddfa0",
            "d1509e9ad1d2451b9fdba2ec5379b016",
            "daeb72b82b4043f2bb589fcd35c7d179",
            "45d872f390b7492d9634d6650298201a",
            "03286dc1d7d24845a93c18ba77957daa",
            "267700519ae7496e8984e51d659c7f83",
            "419553392cc5436d9938a4f2b1163902",
            "adcbbabe54ef47448334142f2503ba50",
            "be25c60e4f4a4e1da83d90c3ab6bab7a",
            "1dfcafe5e4ab409b9835229a1e8faca3",
            "17c448c098844f1088ff42dc98fb5443",
            "f48cff69d1d34bffb0dd400a780f393b",
            "9b3b2c3fb14d41f9a37af2ff6f88676b",
            "c903df69d1574242b97e450d30b799b9",
            "f55b3c88099940ecb76e639d74dfe3e5",
            "86c33877572a4ce6a5163667cd9c912a",
            "9d15d65e2f0347a5893a3c2292d29dac",
            "77192c5739164abcaa3ead29b4cf8676",
            "c42ef1e2760a49cb8d3c68e5037dc3e8",
            "402d5805965b40f99541abe4d00baeb6",
            "41b1f1dde6f74f9c8d9616a2e89387f2",
            "dd77710051ea42efbf29cf722699a17b",
            "f345d255cc2742deb21673b726fe52b4",
            "90f12fd1dee04c929e470e31a88e8bb6",
            "6fa8b2c660ad418c925f82a856aa2779"
          ]
        },
        "id": "496243c54d1b5fa1",
        "outputId": "c64dead1-bc34-4447-98e2-0dc00aa801bc"
      },
      "outputs": [
        {
          "output_type": "stream",
          "name": "stdout",
          "text": [
            "Downloading and preparing dataset 2.37 GiB (download: 2.37 GiB, generated: 8.17 GiB, total: 10.53 GiB) to /root/tensorflow_datasets/speech_commands/0.0.3...\n"
          ]
        },
        {
          "output_type": "display_data",
          "data": {
            "text/plain": [
              "Dl Completed...: 0 url [00:00, ? url/s]"
            ],
            "application/vnd.jupyter.widget-view+json": {
              "version_major": 2,
              "version_minor": 0,
              "model_id": "01068b379336488e8d084717688627f6"
            }
          },
          "metadata": {}
        },
        {
          "output_type": "display_data",
          "data": {
            "text/plain": [
              "Dl Size...: 0 MiB [00:00, ? MiB/s]"
            ],
            "application/vnd.jupyter.widget-view+json": {
              "version_major": 2,
              "version_minor": 0,
              "model_id": "b27cd907142548dbb5d57ea8cd879a76"
            }
          },
          "metadata": {}
        },
        {
          "output_type": "display_data",
          "data": {
            "text/plain": [
              "Generating splits...:   0%|          | 0/3 [00:00<?, ? splits/s]"
            ],
            "application/vnd.jupyter.widget-view+json": {
              "version_major": 2,
              "version_minor": 0,
              "model_id": "6760bda06c8344d5aa59ba9ea59f8b2a"
            }
          },
          "metadata": {}
        },
        {
          "output_type": "display_data",
          "data": {
            "text/plain": [
              "Generating train examples...:   0%|          | 0/85511 [00:00<?, ? examples/s]"
            ],
            "application/vnd.jupyter.widget-view+json": {
              "version_major": 2,
              "version_minor": 0,
              "model_id": "bf93acdc3ba44872918e4975659ab8ce"
            }
          },
          "metadata": {}
        },
        {
          "output_type": "display_data",
          "data": {
            "text/plain": [
              "Shuffling /root/tensorflow_datasets/speech_commands/incomplete.JMNGGT_0.0.3/speech_commands-train.tfrecord*...…"
            ],
            "application/vnd.jupyter.widget-view+json": {
              "version_major": 2,
              "version_minor": 0,
              "model_id": "58973d03df624e3191ef561e6f7ca032"
            }
          },
          "metadata": {}
        },
        {
          "output_type": "display_data",
          "data": {
            "text/plain": [
              "Generating validation examples...:   0%|          | 0/10102 [00:00<?, ? examples/s]"
            ],
            "application/vnd.jupyter.widget-view+json": {
              "version_major": 2,
              "version_minor": 0,
              "model_id": "7eeb005ae29c455680e828d59c904b01"
            }
          },
          "metadata": {}
        },
        {
          "output_type": "display_data",
          "data": {
            "text/plain": [
              "Shuffling /root/tensorflow_datasets/speech_commands/incomplete.JMNGGT_0.0.3/speech_commands-validation.tfrecor…"
            ],
            "application/vnd.jupyter.widget-view+json": {
              "version_major": 2,
              "version_minor": 0,
              "model_id": "57deec78cd104465ba0237cebbfcc3c1"
            }
          },
          "metadata": {}
        },
        {
          "output_type": "display_data",
          "data": {
            "text/plain": [
              "Generating test examples...:   0%|          | 0/4890 [00:00<?, ? examples/s]"
            ],
            "application/vnd.jupyter.widget-view+json": {
              "version_major": 2,
              "version_minor": 0,
              "model_id": "45d872f390b7492d9634d6650298201a"
            }
          },
          "metadata": {}
        },
        {
          "output_type": "display_data",
          "data": {
            "text/plain": [
              "Shuffling /root/tensorflow_datasets/speech_commands/incomplete.JMNGGT_0.0.3/speech_commands-test.tfrecord*...:…"
            ],
            "application/vnd.jupyter.widget-view+json": {
              "version_major": 2,
              "version_minor": 0,
              "model_id": "f55b3c88099940ecb76e639d74dfe3e5"
            }
          },
          "metadata": {}
        },
        {
          "output_type": "stream",
          "name": "stderr",
          "text": [
            "WARNING:absl:`FeatureConnector.dtype` is deprecated. Please change your code to use NumPy with the field `FeatureConnector.np_dtype` or use TensorFlow with the field `FeatureConnector.tf_dtype`.\n",
            "WARNING:absl:You use TensorFlow DType <dtype: 'int16'> in tfds.features This will soon be deprecated in favor of NumPy DTypes. In the meantime it was converted to int16.\n"
          ]
        },
        {
          "output_type": "stream",
          "name": "stdout",
          "text": [
            "Dataset speech_commands downloaded and prepared to /root/tensorflow_datasets/speech_commands/0.0.3. Subsequent calls will reuse this data.\n"
          ]
        }
      ],
      "source": [
        "version = 3 # just 3 is available\n",
        "ds = tfds.load(f'speech_commands:0.0.{version}')\n",
        "train = ds['train']\n",
        "validation = ds['validation']\n",
        "test = ds['test']\n",
        "# tf.data.experimental.save(train, 'train_data')\n",
        "# tf.data.experimental.save(validation, 'validation_data')\n",
        "# tf.data.experimental.save(test, 'test_data')\n"
      ]
    },
    {
      "cell_type": "code",
      "execution_count": null,
      "id": "UKlwnS7pfjIa",
      "metadata": {
        "colab": {
          "base_uri": "https://localhost:8080/"
        },
        "id": "UKlwnS7pfjIa",
        "outputId": "2c719be2-711f-4940-a2af-f53cf39b061c"
      },
      "outputs": [
        {
          "output_type": "execute_result",
          "data": {
            "text/plain": [
              "{'train': <_PrefetchDataset element_spec={'audio': TensorSpec(shape=(None,), dtype=tf.int16, name=None), 'label': TensorSpec(shape=(), dtype=tf.int64, name=None)}>,\n",
              " 'validation': <_PrefetchDataset element_spec={'audio': TensorSpec(shape=(None,), dtype=tf.int16, name=None), 'label': TensorSpec(shape=(), dtype=tf.int64, name=None)}>,\n",
              " 'test': <_PrefetchDataset element_spec={'audio': TensorSpec(shape=(None,), dtype=tf.int16, name=None), 'label': TensorSpec(shape=(), dtype=tf.int64, name=None)}>}"
            ]
          },
          "metadata": {},
          "execution_count": 8
        }
      ],
      "source": [
        "ds #random comment"
      ]
    },
    {
      "cell_type": "code",
      "execution_count": 11,
      "id": "5a5075512d14bd83",
      "metadata": {
        "ExecuteTime": {
          "end_time": "2024-06-15T13:30:15.628395Z",
          "start_time": "2024-06-15T13:30:15.562271Z"
        },
        "colab": {
          "base_uri": "https://localhost:8080/"
        },
        "id": "5a5075512d14bd83",
        "outputId": "4ad970fe-f6d4-44d3-cca1-f965bcb47de3"
      },
      "outputs": [
        {
          "output_type": "stream",
          "name": "stdout",
          "text": [
            "{'audio': <tf.Tensor: shape=(16000,), dtype=int16, numpy=array([-15, -18, -12, ...,  16,  21,  25], dtype=int16)>, 'label': <tf.Tensor: shape=(), dtype=int64, numpy=4>}\n",
            "\n",
            "{'audio': <tf.Tensor: shape=(16000,), dtype=int16, numpy=array([  75,   29,  -85, ..., -343,  304,  879], dtype=int16)>, 'label': <tf.Tensor: shape=(), dtype=int64, numpy=5>}\n",
            "\n"
          ]
        }
      ],
      "source": [
        "audio_list = []\n",
        "for example in train.take(2):\n",
        "    raw_audio = example['audio'].numpy()\n",
        "    audio_list.append(raw_audio)\n",
        "    numbered_label = example['label']\n",
        "    # str_label = example['file']\n",
        "    print(example)\n",
        "    print()"
      ]
    },
    {
      "cell_type": "code",
      "execution_count": null,
      "id": "5c76c79a742122d",
      "metadata": {
        "ExecuteTime": {
          "end_time": "2024-06-15T13:30:23.027150Z",
          "start_time": "2024-06-15T13:30:23.019032Z"
        },
        "colab": {
          "base_uri": "https://localhost:8080/",
          "height": 134
        },
        "id": "5c76c79a742122d",
        "outputId": "589f828e-9f13-498a-e605-da4b69f06c66"
      },
      "outputs": [
        {
          "output_type": "display_data",
          "data": {
            "text/plain": [
              "<IPython.lib.display.Audio object>"
            ],
            "text/html": [
              "\n",
              "                <audio  controls=\"controls\" >\n",
              "                    <source src=\"data:audio/wav;base64,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\" type=\"audio/wav\" />\n",
              "                    Your browser does not support the audio element.\n",
              "                </audio>\n",
              "              "
            ]
          },
          "metadata": {}
        },
        {
          "output_type": "display_data",
          "data": {
            "text/plain": [
              "<IPython.lib.display.Audio object>"
            ],
            "text/html": [
              "\n",
              "                <audio  controls=\"controls\" >\n",
              "                    <source src=\"data:audio/wav;base64,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\" type=\"audio/wav\" />\n",
              "                    Your browser does not support the audio element.\n",
              "                </audio>\n",
              "              "
            ]
          },
          "metadata": {}
        }
      ],
      "source": [
        "# play audio\n",
        "from IPython.display import Audio\n",
        "for aud in audio_list:\n",
        "  display(Audio(aud, rate=16000))"
      ]
    },
    {
      "cell_type": "code",
      "execution_count": 32,
      "id": "69ea3c76258a6ec0",
      "metadata": {
        "ExecuteTime": {
          "end_time": "2024-06-15T13:31:57.291148Z",
          "start_time": "2024-06-15T13:31:57.284805Z"
        },
        "id": "69ea3c76258a6ec0"
      },
      "outputs": [],
      "source": [
        "#load data set info\n",
        "info = tfds.builder(f'speech_commands:0.0.{version}').info"
      ]
    },
    {
      "cell_type": "code",
      "execution_count": 33,
      "id": "e66c2e31268cc368",
      "metadata": {
        "ExecuteTime": {
          "end_time": "2024-06-15T13:31:59.191416Z",
          "start_time": "2024-06-15T13:31:59.188716Z"
        },
        "colab": {
          "base_uri": "https://localhost:8080/"
        },
        "id": "e66c2e31268cc368",
        "outputId": "b1ac7835-e939-4a59-c1ed-8bd8a742b0c8"
      },
      "outputs": [
        {
          "output_type": "execute_result",
          "data": {
            "text/plain": [
              "tfds.core.DatasetInfo(\n",
              "    name='speech_commands',\n",
              "    full_name='speech_commands/0.0.3',\n",
              "    description=\"\"\"\n",
              "    An audio dataset of spoken words designed to help train and evaluate keyword\n",
              "    spotting systems. Its primary goal is to provide a way to build and test small\n",
              "    models that detect when a single word is spoken, from a set of ten target words,\n",
              "    with as few false positives as possible from background noise or unrelated\n",
              "    speech. Note that in the train and validation set, the label \"unknown\" is much\n",
              "    more prevalent than the labels of the target words or background noise. One\n",
              "    difference from the release version is the handling of silent segments. While in\n",
              "    the test set the silence segments are regular 1 second files, in the training\n",
              "    they are provided as long segments under \"background_noise\" folder. Here we\n",
              "    split these background noise into 1 second clips, and also keep one of the files\n",
              "    for the validation set.\n",
              "    \"\"\",\n",
              "    homepage='https://arxiv.org/abs/1804.03209',\n",
              "    data_dir='/root/tensorflow_datasets/speech_commands/0.0.3',\n",
              "    file_format=tfrecord,\n",
              "    download_size=2.37 GiB,\n",
              "    dataset_size=8.17 GiB,\n",
              "    features=FeaturesDict({\n",
              "        'audio': Audio(shape=(None,), dtype=int16),\n",
              "        'label': ClassLabel(shape=(), dtype=int64, num_classes=12),\n",
              "    }),\n",
              "    supervised_keys=('audio', 'label'),\n",
              "    disable_shuffling=False,\n",
              "    splits={\n",
              "        'test': <SplitInfo num_examples=4890, num_shards=4>,\n",
              "        'train': <SplitInfo num_examples=85511, num_shards=64>,\n",
              "        'validation': <SplitInfo num_examples=10102, num_shards=8>,\n",
              "    },\n",
              "    citation=\"\"\"@article{speechcommandsv2,\n",
              "       author = {{Warden}, P.},\n",
              "        title = \"{Speech Commands: A Dataset for Limited-Vocabulary Speech Recognition}\",\n",
              "      journal = {ArXiv e-prints},\n",
              "      archivePrefix = \"arXiv\",\n",
              "      eprint = {1804.03209},\n",
              "      primaryClass = \"cs.CL\",\n",
              "      keywords = {Computer Science - Computation and Language, Computer Science - Human-Computer Interaction},\n",
              "        year = 2018,\n",
              "        month = apr,\n",
              "        url = {https://arxiv.org/abs/1804.03209},\n",
              "    }\"\"\",\n",
              ")"
            ]
          },
          "metadata": {},
          "execution_count": 33
        }
      ],
      "source": [
        "info"
      ]
    },
    {
      "cell_type": "code",
      "execution_count": 34,
      "id": "af60e95a5568f298",
      "metadata": {
        "ExecuteTime": {
          "end_time": "2024-06-15T13:33:40.132563Z",
          "start_time": "2024-06-15T13:33:40.129007Z"
        },
        "colab": {
          "base_uri": "https://localhost:8080/"
        },
        "id": "af60e95a5568f298",
        "outputId": "f6ae1709-b7a7-4a17-ebae-2b7a326397a0"
      },
      "outputs": [
        {
          "output_type": "stream",
          "name": "stdout",
          "text": [
            "0: down\n",
            "1: go\n",
            "2: left\n",
            "3: no\n",
            "4: off\n",
            "5: on\n",
            "6: right\n",
            "7: stop\n",
            "8: up\n",
            "9: yes\n",
            "10: _silence_\n",
            "11: _unknown_\n"
          ]
        }
      ],
      "source": [
        "# get the list of labels\n",
        "labels = info.features['label'].names\n",
        "# get the number of labels\n",
        "num_labels = info.features['label'].num_classes\n",
        "# print the labels with their corresponding index\n",
        "for i, label in enumerate(labels):\n",
        "    print(f'{i}: {label}')"
      ]
    },
    {
      "cell_type": "code",
      "execution_count": 35,
      "id": "5f48128bdbe8fed2",
      "metadata": {
        "ExecuteTime": {
          "end_time": "2024-06-15T13:35:05.079961Z",
          "start_time": "2024-06-15T13:35:05.076375Z"
        },
        "colab": {
          "base_uri": "https://localhost:8080/"
        },
        "id": "5f48128bdbe8fed2",
        "outputId": "9287120b-06c3-40ac-ab52-7c43dcc043c1"
      },
      "outputs": [
        {
          "output_type": "execute_result",
          "data": {
            "text/plain": [
              "(85511, 10102, 4890)"
            ]
          },
          "metadata": {},
          "execution_count": 35
        }
      ],
      "source": [
        "# get the number of examples in the train, validation and test sets\n",
        "num_train = info.splits['train'].num_examples\n",
        "num_validation = info.splits['validation'].num_examples\n",
        "num_test = info.splits['test'].num_examples\n",
        "num_train, num_validation, num_test"
      ]
    },
    {
      "cell_type": "markdown",
      "source": [
        "# baseline CNN"
      ],
      "metadata": {
        "id": "Olf1FH9vwGg8"
      },
      "id": "Olf1FH9vwGg8"
    },
    {
      "cell_type": "code",
      "execution_count": 10,
      "id": "6a4b57de04f44d05",
      "metadata": {
        "ExecuteTime": {
          "end_time": "2024-06-15T13:48:24.805519Z",
          "start_time": "2024-06-15T13:48:24.801589Z"
        },
        "colab": {
          "base_uri": "https://localhost:8080/"
        },
        "id": "6a4b57de04f44d05",
        "outputId": "9b102ad0-2214-4c56-e666-af5ac9605511"
      },
      "outputs": [
        {
          "output_type": "stream",
          "name": "stdout",
          "text": [
            "Original audio shape: Tensor(\"Shape:0\", shape=(1,), dtype=int32)\n",
            "Audio shape after conversion to float32: Tensor(\"Shape_1:0\", shape=(1,), dtype=int32)\n",
            "Audio shape after trimming: Tensor(\"Shape_3:0\", shape=(1,), dtype=int32)\n",
            "Audio shape after padding/truncating: Tensor(\"Shape_5:0\", shape=(1,), dtype=int32)\n",
            "Final audio shape:  Tensor(\"Shape_7:0\", shape=(1,), dtype=int32)\n",
            "return value shape:  Tensor(\"Shape_8:0\", shape=(3,), dtype=int32)\n",
            "return value type:  <class 'tensorflow.python.framework.ops.SymbolicTensor'>\n",
            "Original audio shape: Tensor(\"Shape:0\", shape=(1,), dtype=int32)\n",
            "Audio shape after conversion to float32: Tensor(\"Shape_1:0\", shape=(1,), dtype=int32)\n",
            "Audio shape after trimming: Tensor(\"Shape_3:0\", shape=(1,), dtype=int32)\n",
            "Audio shape after padding/truncating: Tensor(\"Shape_5:0\", shape=(1,), dtype=int32)\n",
            "Final audio shape:  Tensor(\"Shape_7:0\", shape=(1,), dtype=int32)\n",
            "return value shape:  Tensor(\"Shape_8:0\", shape=(3,), dtype=int32)\n",
            "return value type:  <class 'tensorflow.python.framework.ops.SymbolicTensor'>\n",
            "Original audio shape: Tensor(\"Shape:0\", shape=(1,), dtype=int32)\n",
            "Audio shape after conversion to float32: Tensor(\"Shape_1:0\", shape=(1,), dtype=int32)\n",
            "Audio shape after trimming: Tensor(\"Shape_3:0\", shape=(1,), dtype=int32)\n",
            "Audio shape after padding/truncating: Tensor(\"Shape_5:0\", shape=(1,), dtype=int32)\n",
            "Final audio shape:  Tensor(\"Shape_7:0\", shape=(1,), dtype=int32)\n",
            "return value shape:  Tensor(\"Shape_8:0\", shape=(3,), dtype=int32)\n",
            "return value type:  <class 'tensorflow.python.framework.ops.SymbolicTensor'>\n"
          ]
        }
      ],
      "source": [
        "import tensorflow as tf\n",
        "import tensorflow_datasets as tfds\n",
        "import tensorflow_io as tfio\n",
        "\n",
        "# Constants\n",
        "SAMPLE_RATE = 16000\n",
        "DURATION = 1  # 1 second\n",
        "NUM_MFCC = 13  # Number of MFCC features\n",
        "\n",
        "# Function to preprocess audio\n",
        "def preprocess_audio(audio):\n",
        "    print(\"Original audio shape:\", tf.shape(audio))\n",
        "    # Convert audio to float32\n",
        "    audio = tf.cast(audio, tf.float32) / 32768.0\n",
        "    # audio = tf.squeeze(audio) # ensure the audio is 1-dimensional\n",
        "    print(\"Audio shape after conversion to float32:\", tf.shape(audio))\n",
        "\n",
        "    # Trim the noise from the beginning and the end of the audio signal\n",
        "    position = tfio.audio.trim(audio, axis=0, epsilon=0.05)\n",
        "    start = position[0]\n",
        "    stop = position[1]\n",
        "    audio = audio[start:stop]\n",
        "    print(\"Audio shape after trimming:\", tf.shape(audio))\n",
        "    # Pad or truncate audio to 1 second\n",
        "    # audio = tfio.audio.pad(audio, 0, SAMPLE_RATE - tf.shape(audio)[0])\n",
        "    # audio = tfio.audio.crop(audio, 0, SAMPLE_RATE)\n",
        "    audio = tf.pad(audio, paddings=[[0, SAMPLE_RATE - tf.shape(audio)[0]]], mode='CONSTANT', constant_values=0)\n",
        "    audio = tf.slice(audio, [0], [SAMPLE_RATE])\n",
        "    print(\"Audio shape after padding/truncating:\", tf.shape(audio))\n",
        "\n",
        "    # Compute spectrogram\n",
        "    spectrogram = tfio.audio.spectrogram(audio, nfft=512, window=512, stride=256)\n",
        "\n",
        "    # Convert to mel-spectrogram\n",
        "    mel_spectrogram = tfio.audio.melscale(spectrogram, rate=SAMPLE_RATE, mels=128, fmin=0, fmax=8000)\n",
        "\n",
        "    # Convert to db scale\n",
        "    dbscale_mel_spectrogram = tfio.audio.dbscale(mel_spectrogram, top_db=80)\n",
        "\n",
        "    #convert to needed shape:\n",
        "    # Transpose the mel-spectrogram to match the expected input shape\n",
        "    dbscale_mel_spectrogram = tf.transpose(dbscale_mel_spectrogram)\n",
        "    # Add a channel dimension\n",
        "    dbscale_mel_spectrogram = tf.expand_dims(dbscale_mel_spectrogram, axis=-1)\n",
        "    print(\"Final audio shape: \", tf.shape(audio))\n",
        "    print(\"return value shape: \", tf.shape(dbscale_mel_spectrogram))\n",
        "    print(\"return value type: \", type(dbscale_mel_spectrogram))\n",
        "    return dbscale_mel_spectrogram\n",
        "\n",
        "# Function to preprocess dataset\n",
        "def preprocess_dataset(dataset):\n",
        "    dataset = dataset.map(lambda x: (preprocess_audio(x['audio']), x['label']), num_parallel_calls=tf.data.experimental.AUTOTUNE)\n",
        "    return dataset\n",
        "\n",
        "# Preprocess datasets\n",
        "train_preprocessed = preprocess_dataset(train)\n",
        "validation_preprocessed = preprocess_dataset(validation)\n",
        "test_preprocessed = preprocess_dataset(test)\n",
        "\n",
        "# Batch and prefetch the datasets\n",
        "BATCH_SIZE = 32\n",
        "\n",
        "train_preprocessed = train_preprocessed.batch(BATCH_SIZE).prefetch(tf.data.experimental.AUTOTUNE)\n",
        "\n",
        "validation_preprocessed = validation_preprocessed.batch(BATCH_SIZE).prefetch(tf.data.experimental.AUTOTUNE)\n",
        "\n",
        "test_preprocessed = test_preprocessed.batch(BATCH_SIZE).prefetch(tf.data.experimental.AUTOTUNE)\n",
        "\n",
        "\n",
        "\n"
      ]
    },
    {
      "cell_type": "code",
      "execution_count": 11,
      "id": "qD6pFkYP3AzL",
      "metadata": {
        "id": "qD6pFkYP3AzL",
        "colab": {
          "base_uri": "https://localhost:8080/"
        },
        "outputId": "ebf9ddb0-1567-4168-fc38-4c5988f4584e"
      },
      "outputs": [
        {
          "output_type": "stream",
          "name": "stderr",
          "text": [
            "/usr/local/lib/python3.10/dist-packages/keras/src/layers/convolutional/base_conv.py:107: UserWarning: Do not pass an `input_shape`/`input_dim` argument to a layer. When using Sequential models, prefer using an `Input(shape)` object as the first layer in the model instead.\n",
            "  super().__init__(activity_regularizer=activity_regularizer, **kwargs)\n"
          ]
        }
      ],
      "source": [
        "from tensorflow.keras.models import Sequential\n",
        "from tensorflow.keras.layers import Conv2D, MaxPooling2D, Flatten, Dense, Dropout, BatchNormalization\n",
        "\n",
        "def create_model(input_shape):\n",
        "    model = Sequential([\n",
        "        Conv2D(32, (3, 3), activation='relu', input_shape=input_shape),\n",
        "        MaxPooling2D((2, 2)),\n",
        "        BatchNormalization(),\n",
        "\n",
        "        Conv2D(64, (3, 3), activation='relu'),\n",
        "        MaxPooling2D((2, 2)),\n",
        "        BatchNormalization(),\n",
        "\n",
        "        Conv2D(128, (3, 3), activation='relu'),\n",
        "        MaxPooling2D((2, 2)),\n",
        "        BatchNormalization(),\n",
        "\n",
        "        Flatten(),\n",
        "        Dense(256, activation='relu'),\n",
        "        Dropout(0.5),\n",
        "        Dense(12, activation='softmax')\n",
        "    ])\n",
        "    return model\n",
        "\n",
        "# Input shape\n",
        "# input_shape = (128, 126, 1)  # Adjust based on the actual shape of your mel-spectrograms\n",
        "input_shape = (128,63,1)\n",
        "\n",
        "# Create and compile the model\n",
        "model = create_model(input_shape)\n",
        "model.compile(optimizer='adam', loss='sparse_categorical_crossentropy', metrics=['accuracy'])\n"
      ]
    },
    {
      "cell_type": "code",
      "execution_count": 13,
      "id": "Xbfisvu-V-7t",
      "metadata": {
        "id": "Xbfisvu-V-7t"
      },
      "outputs": [],
      "source": [
        "from sklearn.metrics import f1_score, confusion_matrix, classification_report\n",
        "import numpy as np"
      ]
    },
    {
      "cell_type": "code",
      "source": [
        "import numpy as np\n",
        "from sklearn.metrics import accuracy_score, precision_score, recall_score, f1_score, confusion_matrix, classification_report\n",
        "import os\n",
        "import time\n",
        "import tensorflow as tf\n",
        "\n",
        "def benchmark_model(model, train_data, validation_data, test_data, model_name,drive_path = '/content/drive/MyDrive/Colab Notebooks/models/', epochs = 10):\n",
        "\n",
        "    metrics = {}\n",
        "\n",
        "    # Start timing for training\n",
        "    start_time = time.time()\n",
        "\n",
        "    # Training the model\n",
        "    history = model.fit(train_data, validation_data=validation_data, epochs=epochs)\n",
        "\n",
        "    # Calculate training time\n",
        "    total_time = time.time() - start_time\n",
        "    metrics['Training Time (seconds)'] = total_time\n",
        "    print(f\"Training Time: {total_time:.2f} seconds\")\n",
        "\n",
        "    # Evaluate the model on test data\n",
        "    test_loss, test_accuracy = model.evaluate(test_data)\n",
        "    metrics['Test Accuracy (%)'] = test_accuracy * 100\n",
        "    print(f\"Test Accuracy: {test_accuracy * 100:.2f}%\")\n",
        "\n",
        "    # Make predictions on test data\n",
        "    y_pred = np.argmax(model.predict(test_data), axis=-1)\n",
        "    y_true = np.concatenate([y for x, y in test_data], axis=0)\n",
        "\n",
        "    # Compute F1 Score, Precision, Recall, and Confusion Matrix\n",
        "    f1 = f1_score(y_true, y_pred, average='weighted')\n",
        "    precision = precision_score(y_true, y_pred, average='weighted')\n",
        "    recall = recall_score(y_true, y_pred, average='weighted')\n",
        "    conf_matrix = confusion_matrix(y_true, y_pred)\n",
        "\n",
        "    metrics['F1 Score'] = f1\n",
        "    metrics['Precision'] = precision\n",
        "    metrics['Recall'] = recall\n",
        "    metrics['Confusion Matrix'] = conf_matrix\n",
        "\n",
        "    print(f'F1 Score: {f1:.2f}')\n",
        "    print(f'Precision: {precision:.2f}')\n",
        "    print(f'Recall: {recall:.2f}')\n",
        "    print('Confusion Matrix:')\n",
        "    print(conf_matrix)\n",
        "    print('Classification Report:')\n",
        "    print(classification_report(y_true, y_pred))\n",
        "\n",
        "    # Model size (in MB)\n",
        "    model_path = os.path.join(drive_path, f'{model_name}_epochs{epochs}.h5')\n",
        "    model.save(model_path)\n",
        "    model_size = os.path.getsize(model_path) / (1024 * 1024)  # Convert to MB\n",
        "    metrics['Model Size (MB)'] = model_size\n",
        "    print(f'Model Size: {model_size:.2f} MB')\n",
        "\n",
        "    # Number of parameters\n",
        "    total_params = model.count_params()\n",
        "    trainable_params = np.sum([tf.keras.backend.count_params(p) for p in model.trainable_weights])\n",
        "    non_trainable_params = total_params - trainable_params\n",
        "\n",
        "    metrics['Total Parameters'] = total_params\n",
        "    metrics['Trainable Parameters'] = trainable_params\n",
        "    metrics['Non-trainable Parameters'] = non_trainable_params\n",
        "\n",
        "    print(f\"Total Parameters: {total_params}\")\n",
        "    print(f\"Trainable Parameters: {trainable_params}\")\n",
        "    print(f\"Non-trainable Parameters: {non_trainable_params}\")\n",
        "\n",
        "    return metrics\n"
      ],
      "metadata": {
        "id": "NTbVDPew3CZ1"
      },
      "id": "NTbVDPew3CZ1",
      "execution_count": 19,
      "outputs": []
    },
    {
      "cell_type": "code",
      "source": [
        "benchmark_model(model,train_preprocessed,validation_preprocessed,test_preprocessed, \"ClassicCNN\")"
      ],
      "metadata": {
        "colab": {
          "base_uri": "https://localhost:8080/"
        },
        "id": "SCk1EF__4DKO",
        "outputId": "6333656f-29f2-4f38-92a7-9b93740e4e50"
      },
      "id": "SCk1EF__4DKO",
      "execution_count": 20,
      "outputs": [
        {
          "output_type": "stream",
          "name": "stdout",
          "text": [
            "Epoch 1/10\n",
            "\u001b[1m2673/2673\u001b[0m \u001b[32m━━━━━━━━━━━━━━━━━━━━\u001b[0m\u001b[37m\u001b[0m \u001b[1m15s\u001b[0m 6ms/step - accuracy: 0.9360 - loss: 0.2048 - val_accuracy: 0.9141 - val_loss: 0.3288\n",
            "Epoch 2/10\n",
            "\u001b[1m2673/2673\u001b[0m \u001b[32m━━━━━━━━━━━━━━━━━━━━\u001b[0m\u001b[37m\u001b[0m \u001b[1m15s\u001b[0m 6ms/step - accuracy: 0.9406 - loss: 0.1933 - val_accuracy: 0.9148 - val_loss: 0.3500\n",
            "Epoch 3/10\n",
            "\u001b[1m2673/2673\u001b[0m \u001b[32m━━━━━━━━━━━━━━━━━━━━\u001b[0m\u001b[37m\u001b[0m \u001b[1m15s\u001b[0m 6ms/step - accuracy: 0.9408 - loss: 0.1941 - val_accuracy: 0.9167 - val_loss: 0.3467\n",
            "Epoch 4/10\n",
            "\u001b[1m2673/2673\u001b[0m \u001b[32m━━━━━━━━━━━━━━━━━━━━\u001b[0m\u001b[37m\u001b[0m \u001b[1m15s\u001b[0m 6ms/step - accuracy: 0.9442 - loss: 0.1784 - val_accuracy: 0.9210 - val_loss: 0.3884\n",
            "Epoch 5/10\n",
            "\u001b[1m2673/2673\u001b[0m \u001b[32m━━━━━━━━━━━━━━━━━━━━\u001b[0m\u001b[37m\u001b[0m \u001b[1m16s\u001b[0m 6ms/step - accuracy: 0.9458 - loss: 0.1728 - val_accuracy: 0.9190 - val_loss: 0.3781\n",
            "Epoch 6/10\n",
            "\u001b[1m2673/2673\u001b[0m \u001b[32m━━━━━━━━━━━━━━━━━━━━\u001b[0m\u001b[37m\u001b[0m \u001b[1m15s\u001b[0m 6ms/step - accuracy: 0.9480 - loss: 0.1655 - val_accuracy: 0.9205 - val_loss: 0.3718\n",
            "Epoch 7/10\n",
            "\u001b[1m2673/2673\u001b[0m \u001b[32m━━━━━━━━━━━━━━━━━━━━\u001b[0m\u001b[37m\u001b[0m \u001b[1m15s\u001b[0m 6ms/step - accuracy: 0.9514 - loss: 0.1563 - val_accuracy: 0.9182 - val_loss: 0.3813\n",
            "Epoch 8/10\n",
            "\u001b[1m2673/2673\u001b[0m \u001b[32m━━━━━━━━━━━━━━━━━━━━\u001b[0m\u001b[37m\u001b[0m \u001b[1m15s\u001b[0m 6ms/step - accuracy: 0.9509 - loss: 0.1571 - val_accuracy: 0.9181 - val_loss: 0.3796\n",
            "Epoch 9/10\n",
            "\u001b[1m2673/2673\u001b[0m \u001b[32m━━━━━━━━━━━━━━━━━━━━\u001b[0m\u001b[37m\u001b[0m \u001b[1m16s\u001b[0m 6ms/step - accuracy: 0.9548 - loss: 0.1506 - val_accuracy: 0.9195 - val_loss: 0.3873\n",
            "Epoch 10/10\n",
            "\u001b[1m2673/2673\u001b[0m \u001b[32m━━━━━━━━━━━━━━━━━━━━\u001b[0m\u001b[37m\u001b[0m \u001b[1m15s\u001b[0m 6ms/step - accuracy: 0.9535 - loss: 0.1487 - val_accuracy: 0.9186 - val_loss: 0.4711\n",
            "Training Time: 154.38 seconds\n",
            "\u001b[1m153/153\u001b[0m \u001b[32m━━━━━━━━━━━━━━━━━━━━\u001b[0m\u001b[37m\u001b[0m \u001b[1m1s\u001b[0m 5ms/step - accuracy: 0.8000 - loss: 1.1544\n",
            "Test Accuracy: 80.43%\n",
            "\u001b[1m153/153\u001b[0m \u001b[32m━━━━━━━━━━━━━━━━━━━━\u001b[0m\u001b[37m\u001b[0m \u001b[1m1s\u001b[0m 5ms/step\n"
          ]
        },
        {
          "output_type": "stream",
          "name": "stderr",
          "text": [
            "WARNING:absl:You are saving your model as an HDF5 file via `model.save()` or `keras.saving.save_model(model)`. This file format is considered legacy. We recommend using instead the native Keras format, e.g. `model.save('my_model.keras')` or `keras.saving.save_model(model, 'my_model.keras')`. \n"
          ]
        },
        {
          "output_type": "stream",
          "name": "stdout",
          "text": [
            "F1 Score: 0.83\n",
            "Precision: 0.90\n",
            "Recall: 0.80\n",
            "Confusion Matrix:\n",
            "[[322   3   0  15   0   1   0   1   0   2   0  62]\n",
            " [  4 303   0  20   3   0   0   1   0   0   0  71]\n",
            " [  0   0 345   0   1   0   1   0   0   7   0  58]\n",
            " [  5  20   1 337   0   0   0   0   0   0   0  42]\n",
            " [  0   0   1   0 327   5   0   0  18   0   0  51]\n",
            " [  0   0   0   0  20 299   0   0   1   0   0  76]\n",
            " [  0   0   2   0   0   0 322   0   0   0   0  72]\n",
            " [  2   2   0   0   2   0   0 324  10   0   0  71]\n",
            " [  0   0   0   1  10   1   0   4 342   0   0  67]\n",
            " [  1   1   2   0   0   0   0   0   0 383   0  32]\n",
            " [  0   0   0   0   1   0   0   0   0   0 232 175]\n",
            " [  0   2   3   1   1   1   1   0   2   0   0 397]]\n",
            "Classification Report:\n",
            "              precision    recall  f1-score   support\n",
            "\n",
            "           0       0.96      0.79      0.87       406\n",
            "           1       0.92      0.75      0.83       402\n",
            "           2       0.97      0.84      0.90       412\n",
            "           3       0.90      0.83      0.87       405\n",
            "           4       0.90      0.81      0.85       402\n",
            "           5       0.97      0.76      0.85       396\n",
            "           6       0.99      0.81      0.89       396\n",
            "           7       0.98      0.79      0.87       411\n",
            "           8       0.92      0.80      0.86       425\n",
            "           9       0.98      0.91      0.94       419\n",
            "          10       1.00      0.57      0.72       408\n",
            "          11       0.34      0.97      0.50       408\n",
            "\n",
            "    accuracy                           0.80      4890\n",
            "   macro avg       0.90      0.80      0.83      4890\n",
            "weighted avg       0.90      0.80      0.83      4890\n",
            "\n",
            "Model Size: 32.68 MB\n",
            "Total Parameters: 2849420\n",
            "Trainable Parameters: 2848972\n",
            "Non-trainable Parameters: 448\n"
          ]
        },
        {
          "output_type": "execute_result",
          "data": {
            "text/plain": [
              "{'Training Time (seconds)': 154.37893557548523,\n",
              " 'Test Accuracy (%)': 80.42944669723511,\n",
              " 'F1 Score': 0.830484203700637,\n",
              " 'Precision': 0.9026186067977109,\n",
              " 'Recall': 0.8042944785276074,\n",
              " 'Confusion Matrix': array([[322,   3,   0,  15,   0,   1,   0,   1,   0,   2,   0,  62],\n",
              "        [  4, 303,   0,  20,   3,   0,   0,   1,   0,   0,   0,  71],\n",
              "        [  0,   0, 345,   0,   1,   0,   1,   0,   0,   7,   0,  58],\n",
              "        [  5,  20,   1, 337,   0,   0,   0,   0,   0,   0,   0,  42],\n",
              "        [  0,   0,   1,   0, 327,   5,   0,   0,  18,   0,   0,  51],\n",
              "        [  0,   0,   0,   0,  20, 299,   0,   0,   1,   0,   0,  76],\n",
              "        [  0,   0,   2,   0,   0,   0, 322,   0,   0,   0,   0,  72],\n",
              "        [  2,   2,   0,   0,   2,   0,   0, 324,  10,   0,   0,  71],\n",
              "        [  0,   0,   0,   1,  10,   1,   0,   4, 342,   0,   0,  67],\n",
              "        [  1,   1,   2,   0,   0,   0,   0,   0,   0, 383,   0,  32],\n",
              "        [  0,   0,   0,   0,   1,   0,   0,   0,   0,   0, 232, 175],\n",
              "        [  0,   2,   3,   1,   1,   1,   1,   0,   2,   0,   0, 397]]),\n",
              " 'Model Size (MB)': 32.67559051513672,\n",
              " 'Total Parameters': 2849420,\n",
              " 'Trainable Parameters': 2848972,\n",
              " 'Non-trainable Parameters': 448}"
            ]
          },
          "metadata": {},
          "execution_count": 20
        }
      ]
    },
    {
      "cell_type": "code",
      "execution_count": 11,
      "id": "gF2IOesA3Dy2",
      "metadata": {
        "colab": {
          "base_uri": "https://localhost:8080/"
        },
        "id": "gF2IOesA3Dy2",
        "outputId": "fbcd97a6-89ae-4305-fc0e-f02739e7c683"
      },
      "outputs": [
        {
          "output_type": "stream",
          "name": "stdout",
          "text": [
            "Training for 10 epochs\n",
            "Epoch 1/10\n",
            "\u001b[1m2673/2673\u001b[0m \u001b[32m━━━━━━━━━━━━━━━━━━━━\u001b[0m\u001b[37m\u001b[0m \u001b[1m105s\u001b[0m 39ms/step - accuracy: 0.8741 - loss: 0.3996 - val_accuracy: 0.8892 - val_loss: 0.3462\n",
            "Epoch 2/10\n",
            "\u001b[1m2673/2673\u001b[0m \u001b[32m━━━━━━━━━━━━━━━━━━━━\u001b[0m\u001b[37m\u001b[0m \u001b[1m103s\u001b[0m 39ms/step - accuracy: 0.8869 - loss: 0.3614 - val_accuracy: 0.8989 - val_loss: 0.3420\n",
            "Epoch 3/10\n",
            "\u001b[1m2673/2673\u001b[0m \u001b[32m━━━━━━━━━━━━━━━━━━━━\u001b[0m\u001b[37m\u001b[0m \u001b[1m101s\u001b[0m 38ms/step - accuracy: 0.8967 - loss: 0.3260 - val_accuracy: 0.8945 - val_loss: 0.3442\n",
            "Epoch 4/10\n",
            "\u001b[1m2673/2673\u001b[0m \u001b[32m━━━━━━━━━━━━━━━━━━━━\u001b[0m\u001b[37m\u001b[0m \u001b[1m142s\u001b[0m 38ms/step - accuracy: 0.9073 - loss: 0.2976 - val_accuracy: 0.8895 - val_loss: 0.3890\n",
            "Epoch 5/10\n",
            "\u001b[1m2673/2673\u001b[0m \u001b[32m━━━━━━━━━━━━━━━━━━━━\u001b[0m\u001b[37m\u001b[0m \u001b[1m104s\u001b[0m 39ms/step - accuracy: 0.9148 - loss: 0.2730 - val_accuracy: 0.9105 - val_loss: 0.3214\n",
            "Epoch 6/10\n",
            "\u001b[1m2673/2673\u001b[0m \u001b[32m━━━━━━━━━━━━━━━━━━━━\u001b[0m\u001b[37m\u001b[0m \u001b[1m137s\u001b[0m 37ms/step - accuracy: 0.9199 - loss: 0.2514 - val_accuracy: 0.9125 - val_loss: 0.3080\n",
            "Epoch 7/10\n",
            "\u001b[1m2673/2673\u001b[0m \u001b[32m━━━━━━━━━━━━━━━━━━━━\u001b[0m\u001b[37m\u001b[0m \u001b[1m102s\u001b[0m 38ms/step - accuracy: 0.9248 - loss: 0.2360 - val_accuracy: 0.9176 - val_loss: 0.3454\n",
            "Epoch 8/10\n",
            "\u001b[1m2673/2673\u001b[0m \u001b[32m━━━━━━━━━━━━━━━━━━━━\u001b[0m\u001b[37m\u001b[0m \u001b[1m153s\u001b[0m 42ms/step - accuracy: 0.9301 - loss: 0.2222 - val_accuracy: 0.9157 - val_loss: 0.3071\n",
            "Epoch 9/10\n",
            "\u001b[1m2673/2673\u001b[0m \u001b[32m━━━━━━━━━━━━━━━━━━━━\u001b[0m\u001b[37m\u001b[0m \u001b[1m132s\u001b[0m 39ms/step - accuracy: 0.9347 - loss: 0.2106 - val_accuracy: 0.9132 - val_loss: 0.3328\n",
            "Epoch 10/10\n",
            "\u001b[1m2673/2673\u001b[0m \u001b[32m━━━━━━━━━━━━━━━━━━━━\u001b[0m\u001b[37m\u001b[0m \u001b[1m104s\u001b[0m 39ms/step - accuracy: 0.9388 - loss: 0.1975 - val_accuracy: 0.9198 - val_loss: 0.3594\n",
            "\u001b[1m153/153\u001b[0m \u001b[32m━━━━━━━━━━━━━━━━━━━━\u001b[0m\u001b[37m\u001b[0m \u001b[1m4s\u001b[0m 28ms/step - accuracy: 0.8041 - loss: 0.7895\n",
            "Test Accuracy: 80.27%\n",
            "\u001b[1m153/153\u001b[0m \u001b[32m━━━━━━━━━━━━━━━━━━━━\u001b[0m\u001b[37m\u001b[0m \u001b[1m4s\u001b[0m 28ms/step\n"
          ]
        },
        {
          "output_type": "stream",
          "name": "stderr",
          "text": [
            "WARNING:absl:You are saving your model as an HDF5 file via `model.save()` or `keras.saving.save_model(model)`. This file format is considered legacy. We recommend using instead the native Keras format, e.g. `model.save('my_model.keras')` or `keras.saving.save_model(model, 'my_model.keras')`. \n"
          ]
        },
        {
          "output_type": "stream",
          "name": "stdout",
          "text": [
            "F1 Score: 0.83\n",
            "Confusion Matrix:\n",
            "[[313   7   0  16   0   1   0   4   0   2   0  63]\n",
            " [  5 322   0  11   0   0   0   3   1   0   0  60]\n",
            " [  1   0 335   0   0   0   0   0   0   4   0  72]\n",
            " [  7  31   2 322   1   0   0   0   0   0   0  42]\n",
            " [  0   1   0   0 319   6   0   1  18   0   0  57]\n",
            " [  0   0   0   0  15 329   0   0   0   0   0  52]\n",
            " [  0   0   3   0   0   0 312   0   0   0   0  81]\n",
            " [  1   5   0   0   1   0   0 333   7   0   0  64]\n",
            " [  0   0   1   0  15   4   0  10 326   0   0  69]\n",
            " [  0   0   2   0   0   0   0   0   0 388   0  29]\n",
            " [  0   0   0   0   0   0   0   0   0   0 230 178]\n",
            " [  0   3   1   3   2   2   1   0   0   0   0 396]]\n",
            "Classification Report:\n",
            "              precision    recall  f1-score   support\n",
            "\n",
            "           0       0.96      0.77      0.85       406\n",
            "           1       0.87      0.80      0.84       402\n",
            "           2       0.97      0.81      0.89       412\n",
            "           3       0.91      0.80      0.85       405\n",
            "           4       0.90      0.79      0.85       402\n",
            "           5       0.96      0.83      0.89       396\n",
            "           6       1.00      0.79      0.88       396\n",
            "           7       0.95      0.81      0.87       411\n",
            "           8       0.93      0.77      0.84       425\n",
            "           9       0.98      0.93      0.95       419\n",
            "          10       1.00      0.56      0.72       408\n",
            "          11       0.34      0.97      0.50       408\n",
            "\n",
            "    accuracy                           0.80      4890\n",
            "   macro avg       0.90      0.80      0.83      4890\n",
            "weighted avg       0.90      0.80      0.83      4890\n",
            "\n"
          ]
        }
      ],
      "source": [
        "# Training the model\n",
        "import os\n",
        "\n",
        "drive_path = '/content/drive/MyDrive/Colab Notebooks/models/'  # Adjust the path as needed\n",
        "if not os.path.exists(drive_path):\n",
        "    os.makedirs(drive_path)\n",
        "\n",
        "EPOCHS = [10]\n",
        "path = r\"C:\\Users\\User\\Desktop\\Computer Eng\\Advanced Computer Architecture\"\n",
        "for ep in EPOCHS:\n",
        "  print(f'Training for {ep} epochs')\n",
        "  history = model.fit(train_preprocessed, validation_data=validation_preprocessed, epochs=ep)\n",
        "  test_loss, test_accuracy = model.evaluate(test_preprocessed)\n",
        "  print(f'Test Accuracy: {test_accuracy * 100:.2f}%')\n",
        "  # Make predictions on the test set\n",
        "  y_pred = np.argmax(model.predict(test_preprocessed), axis=-1)\n",
        "  y_true = np.concatenate([y for x, y in test_preprocessed], axis=0)\n",
        "\n",
        "  # Calculate F1 score and confusion matrix\n",
        "  f1 = f1_score(y_true, y_pred, average='weighted')\n",
        "  conf_matrix = confusion_matrix(y_true, y_pred)\n",
        "\n",
        "  print(f'F1 Score: {f1:.2f}')\n",
        "  print('Confusion Matrix:')\n",
        "  print(conf_matrix)\n",
        "  print('Classification Report:')\n",
        "  print(classification_report(y_true, y_pred))\n",
        "\n",
        "  model.save(os.path.join(drive_path, f'kws_cnn_model_ephocs{ep}.h5'))\n",
        "\n",
        "\n",
        "\n"
      ]
    },
    {
      "cell_type": "code",
      "source": [
        "test_loss, test_accuracy = model.evaluate(test_preprocessed)\n",
        "print(f'Test Accuracy: {test_accuracy * 100:.2f}%')\n",
        "# Make predictions on the test set\n",
        "y_pred = np.argmax(model.predict(test_preprocessed), axis=-1)\n",
        "y_true = np.concatenate([y for x, y in test_preprocessed], axis=0)\n",
        "\n",
        "# Calculate F1 score and confusion matrix\n",
        "f1 = f1_score(y_true, y_pred, average='weighted')\n",
        "conf_matrix = confusion_matrix(y_true, y_pred)\n",
        "\n",
        "print(f'F1 Score: {f1:.2f}')\n",
        "print('Confusion Matrix:')\n",
        "print(conf_matrix)\n",
        "print('Classification Report:')\n",
        "print(classification_report(y_true, y_pred))"
      ],
      "metadata": {
        "id": "c1HmAJKX-1XY"
      },
      "id": "c1HmAJKX-1XY",
      "execution_count": null,
      "outputs": []
    },
    {
      "cell_type": "code",
      "execution_count": 22,
      "id": "01ZWzrqW3Fdy",
      "metadata": {
        "colab": {
          "base_uri": "https://localhost:8080/"
        },
        "id": "01ZWzrqW3Fdy",
        "outputId": "2a718576-b1a9-4e64-b675-06d9acfe3943"
      },
      "outputs": [
        {
          "output_type": "stream",
          "name": "stdout",
          "text": [
            "\u001b[1m153/153\u001b[0m \u001b[32m━━━━━━━━━━━━━━━━━━━━\u001b[0m\u001b[37m\u001b[0m \u001b[1m1s\u001b[0m 6ms/step - accuracy: 0.8000 - loss: 1.1544\n",
            "Test Accuracy: 80.43%\n"
          ]
        }
      ],
      "source": [
        "# Evaluate the model on the test set\n",
        "test_loss, test_accuracy = model.evaluate(test_preprocessed)\n",
        "print(f'Test Accuracy: {test_accuracy * 100:.2f}%')\n"
      ]
    },
    {
      "cell_type": "markdown",
      "source": [
        "# 1D CNN"
      ],
      "metadata": {
        "id": "M-XKuyC8OP0Q"
      },
      "id": "M-XKuyC8OP0Q"
    },
    {
      "cell_type": "code",
      "source": [
        "import numpy as np\n",
        "from sklearn.metrics import accuracy_score, precision_score, recall_score, f1_score, confusion_matrix, classification_report\n",
        "import os\n",
        "import time\n",
        "import tensorflow as tf\n",
        "\n",
        "def benchmark_model_1d(model, train_data, validation_data, test_data, model_name,callback, drive_path = '/content/drive/MyDrive/Colab Notebooks/models/', epochs = 10):\n",
        "\n",
        "    metrics = {}\n",
        "\n",
        "    # Start timing for training\n",
        "    start_time = time.time()\n",
        "\n",
        "    # Training the model\n",
        "    history = model.fit(train_data, validation_data=validation_data, epochs=epochs,callback = [callback])\n",
        "\n",
        "    # Calculate training time\n",
        "    total_time = time.time() - start_time\n",
        "    metrics['Training Time (seconds)'] = total_time\n",
        "    print(f\"Training Time: {total_time:.2f} seconds\")\n",
        "\n",
        "    # Evaluate the model on test data\n",
        "    test_loss, test_accuracy = model.evaluate(test_data)\n",
        "    metrics['Test Accuracy (%)'] = test_accuracy * 100\n",
        "    print(f\"Test Accuracy: {test_accuracy * 100:.2f}%\")\n",
        "\n",
        "    # Make predictions on test data\n",
        "    y_pred = np.argmax(model.predict(test_data), axis=-1)\n",
        "    y_true = np.concatenate([y for x, y in test_data], axis=0)\n",
        "\n",
        "    # Compute F1 Score, Precision, Recall, and Confusion Matrix\n",
        "    f1 = f1_score(y_true, y_pred, average='weighted')\n",
        "    precision = precision_score(y_true, y_pred, average='weighted')\n",
        "    recall = recall_score(y_true, y_pred, average='weighted')\n",
        "    conf_matrix = confusion_matrix(y_true, y_pred)\n",
        "\n",
        "    metrics['F1 Score'] = f1\n",
        "    metrics['Precision'] = precision\n",
        "    metrics['Recall'] = recall\n",
        "    metrics['Confusion Matrix'] = conf_matrix\n",
        "\n",
        "    print(f'F1 Score: {f1:.2f}')\n",
        "    print(f'Precision: {precision:.2f}')\n",
        "    print(f'Recall: {recall:.2f}')\n",
        "    print('Confusion Matrix:')\n",
        "    print(conf_matrix)\n",
        "    print('Classification Report:')\n",
        "    print(classification_report(y_true, y_pred))\n",
        "\n",
        "    # Model size (in MB)\n",
        "    model_path = os.path.join(drive_path, f'{model_name}_epochs{epochs}.h5')\n",
        "    model.save(model_path)\n",
        "    model_size = os.path.getsize(model_path) / (1024 * 1024)  # Convert to MB\n",
        "    metrics['Model Size (MB)'] = model_size\n",
        "    print(f'Model Size: {model_size:.2f} MB')\n",
        "\n",
        "    # Number of parameters\n",
        "    total_params = model.count_params()\n",
        "    trainable_params = np.sum([tf.keras.backend.count_params(p) for p in model.trainable_weights])\n",
        "    non_trainable_params = total_params - trainable_params\n",
        "\n",
        "    metrics['Total Parameters'] = total_params\n",
        "    metrics['Trainable Parameters'] = trainable_params\n",
        "    metrics['Non-trainable Parameters'] = non_trainable_params\n",
        "\n",
        "    print(f\"Total Parameters: {total_params}\")\n",
        "    print(f\"Trainable Parameters: {trainable_params}\")\n",
        "    print(f\"Non-trainable Parameters: {non_trainable_params}\")\n",
        "\n",
        "    return metrics\n"
      ],
      "metadata": {
        "id": "zGNyF1bCP3Je"
      },
      "id": "zGNyF1bCP3Je",
      "execution_count": 47,
      "outputs": []
    },
    {
      "cell_type": "code",
      "source": [
        "import tensorflow as tf\n",
        "import tensorflow_datasets as tfds\n",
        "import tensorflow_io as tfio\n",
        "\n",
        "# Constants\n",
        "SAMPLE_RATE = 16000\n",
        "DURATION = 1  # 1 second\n",
        "NUM_MFCC = 13  # Number of MFCC features\n",
        "\n",
        "# Function to preprocess audio\n",
        "def preprocess_audio(audio):\n",
        "    # Convert audio to float32\n",
        "    audio = tf.cast(audio, tf.float32) / 32768.0\n",
        "    # audio = tf.squeeze(audio) # ensure the audio is 1-dimensional\n",
        "    print(tf.shape(audio))\n",
        "\n",
        "    # Trim the noise from the beginning and the end of the audio signal\n",
        "    position = tfio.audio.trim(audio, axis=0, epsilon=0.05)\n",
        "    start = position[0]\n",
        "    stop = position[1]\n",
        "    audio = audio[start:stop]\n",
        "\n",
        "    # Pad or truncate audio to 1 second\n",
        "    # audio = tfio.audio.pad(audio, 0, SAMPLE_RATE - tf.shape(audio)[0])\n",
        "    # audio = tfio.audio.crop(audio, 0, SAMPLE_RATE)\n",
        "    audio = tf.pad(audio, paddings=[[0, SAMPLE_RATE - tf.shape(audio)[0]]], mode='CONSTANT', constant_values=0)\n",
        "    audio = tf.slice(audio, [0], [SAMPLE_RATE])\n",
        "\n",
        "    # only in 2d:\n",
        "    # Compute spectrogram\n",
        "    # spectrogram = tfio.audio.spectrogram(audio, nfft=512, window=512, stride=256)\n",
        "\n",
        "    # Convert to mel-spectrogram\n",
        "    # mel_spectrogram = tfio.audio.melscale(spectrogram, rate=SAMPLE_RATE, mels=128, fmin=0, fmax=8000)\n",
        "\n",
        "    # Convert to db scale\n",
        "    # dbscale_mel_spectrogram = tfio.audio.dbscale(mel_spectrogram, top_db=80)\n",
        "\n",
        "    #convert to needed shape:\n",
        "    # Transpose the mel-spectrogram to match the expected input shape\n",
        "    # dbscale_mel_spectrogram = tf.transpose(dbscale_mel_spectrogram)\n",
        "    # Add a channel dimension\n",
        "    # dbscale_mel_spectrogram = tf.expand_dims(dbscale_mel_spectrogram, axis=-1)\n",
        "\n",
        "    # in 1d:\n",
        "    audio = tf.expand_dims(audio, axis=-1)  # Shape will be (16000, 1)\n",
        "\n",
        "\n",
        "    return audio\n",
        "\n",
        "# Function to preprocess dataset\n",
        "def preprocess_dataset(dataset):\n",
        "    dataset = dataset.map(lambda x: (preprocess_audio(x['audio']), x['label']), num_parallel_calls=tf.data.experimental.AUTOTUNE)\n",
        "    return dataset\n",
        "\n",
        "# Preprocess datasets\n",
        "train_preprocess = preprocess_dataset(ds['train'])\n",
        "validation_preprocess = preprocess_dataset(ds['validation'])\n",
        "test_preprocess = preprocess_dataset(ds['test'])\n",
        "\n",
        "# Batch and prefetch the datasets\n",
        "BATCH_SIZE = 32\n",
        "\n",
        "train_preprocess = train_preprocess.batch(BATCH_SIZE).prefetch(tf.data.experimental.AUTOTUNE)\n",
        "validation_preprocess = validation_preprocess.batch(BATCH_SIZE).prefetch(tf.data.experimental.AUTOTUNE)\n",
        "test_preprocess = test_preprocess.batch(BATCH_SIZE).prefetch(tf.data.experimental.AUTOTUNE)\n",
        "\n"
      ],
      "metadata": {
        "colab": {
          "base_uri": "https://localhost:8080/"
        },
        "id": "czQJ8sp8OXVG",
        "outputId": "91965e19-1bd3-4da8-e224-7a66d3a275fc"
      },
      "id": "czQJ8sp8OXVG",
      "execution_count": 48,
      "outputs": [
        {
          "output_type": "stream",
          "name": "stdout",
          "text": [
            "Tensor(\"Shape:0\", shape=(1,), dtype=int32)\n",
            "Tensor(\"Shape:0\", shape=(1,), dtype=int32)\n",
            "Tensor(\"Shape:0\", shape=(1,), dtype=int32)\n"
          ]
        }
      ]
    },
    {
      "cell_type": "code",
      "source": [
        "'''\n",
        "from tensorflow.keras.models import Sequential\n",
        "from tensorflow.keras.layers import Conv2D, MaxPooling2D, Flatten, Dense, Dropout, BatchNormalization\n",
        "\n",
        "def create_model(input_shape):\n",
        "    model = Sequential([\n",
        "        Conv2D(32, (3, 3), activation='relu', input_shape=input_shape),\n",
        "        MaxPooling2D((2, 2)),\n",
        "        BatchNormalization(),\n",
        "\n",
        "        Conv2D(64, (3, 3), activation='relu'),\n",
        "        MaxPooling2D((2, 2)),\n",
        "        BatchNormalization(),\n",
        "\n",
        "        Conv2D(128, (3, 3), activation='relu'),\n",
        "        MaxPooling2D((2, 2)),\n",
        "        BatchNormalization(),\n",
        "\n",
        "        Flatten(),\n",
        "        Dense(256, activation='relu'),\n",
        "        Dropout(0.5),\n",
        "        Dense(12, activation='softmax')\n",
        "    ])\n",
        "    return model\n",
        "'''\n",
        "# Define the model for 1D Convolution\n",
        "from tensorflow.keras.models import Sequential\n",
        "from tensorflow.keras.layers import Conv1D, MaxPooling1D, Flatten, Dense, Dropout, BatchNormalization\n",
        "from tensorflow.keras.optimizers import Adam\n",
        "\n",
        "def create_model(input_shape):\n",
        "    model = Sequential([\n",
        "        Conv1D(32, kernel_size=5, activation='relu', input_shape=input_shape),\n",
        "        MaxPooling1D(pool_size=2),\n",
        "        BatchNormalization(),\n",
        "\n",
        "        Conv1D(64, kernel_size=5, activation='relu'),\n",
        "        MaxPooling1D(pool_size=2),\n",
        "        BatchNormalization(),\n",
        "\n",
        "        Conv1D(128, kernel_size=3, activation='relu'),\n",
        "        MaxPooling1D(pool_size=2),\n",
        "        BatchNormalization(),\n",
        "\n",
        "        Conv1D(256, kernel_size=3, activation='relu'),\n",
        "        MaxPooling1D(pool_size=2),\n",
        "        BatchNormalization(),\n",
        "\n",
        "        Flatten(),\n",
        "        Dense(256, activation='relu'),\n",
        "        Dropout(0.5),\n",
        "        Dense(12, activation='softmax')\n",
        "    ])\n",
        "    return model\n",
        "\n",
        "\n",
        "# Input shape\n",
        "# input_shape = (128, 126, 1)  # Adjust based on the actual shape of your mel-spectrograms\n",
        "# input_shape = (128,63,1)\n",
        "# Input shape for 1D convolution\n",
        "\n",
        "input_shape = (16000, 1)  # (16000, 1)\n",
        "\n",
        "# Create and compile the model\n",
        "model = create_model(input_shape)\n",
        "optimizer = Adam(learning_rate=0.001)\n",
        "\n",
        "model.compile(optimizer=optimizer, loss='sparse_categorical_crossentropy', metrics=['accuracy'])\n",
        "\n",
        "# Learning rate scheduler\n",
        "def scheduler(epoch, lr):\n",
        "    if epoch < 10:\n",
        "        return lr\n",
        "    else:\n",
        "        return lr * tf.math.exp(-0.1)\n",
        "\n",
        "callback = tf.keras.callbacks.LearningRateScheduler(scheduler)\n"
      ],
      "metadata": {
        "colab": {
          "base_uri": "https://localhost:8080/"
        },
        "id": "zLVoIRJjOOoJ",
        "outputId": "dba178e0-2690-4133-c879-a42405fd67ad"
      },
      "id": "zLVoIRJjOOoJ",
      "execution_count": 49,
      "outputs": [
        {
          "output_type": "stream",
          "name": "stderr",
          "text": [
            "/usr/local/lib/python3.10/dist-packages/keras/src/layers/convolutional/base_conv.py:107: UserWarning: Do not pass an `input_shape`/`input_dim` argument to a layer. When using Sequential models, prefer using an `Input(shape)` object as the first layer in the model instead.\n",
            "  super().__init__(activity_regularizer=activity_regularizer, **kwargs)\n"
          ]
        }
      ]
    },
    {
      "cell_type": "code",
      "source": [
        "# Training the model\n",
        "import os\n",
        "\n",
        "drive_path = '/content/drive/MyDrive/Colab Notebooks/models/'  # Adjust the path as needed\n",
        "if not os.path.exists(drive_path):\n",
        "    os.makedirs(drive_path)\n",
        "\n",
        "EPOCHS = [3,5,10]\n",
        "path = r\"C:\\Users\\User\\Desktop\\Computer Eng\\Advanced Computer Architecture\"\n",
        "for ep in EPOCHS:\n",
        "  print(f'Training for {ep} epochs')\n",
        "  history = model.fit(train, validation_data=validation, epochs=ep, callbacks=[callback])\n",
        "  test_loss, test_accuracy = model.evaluate(test)\n",
        "  print(f'Test Accuracy: {test_accuracy * 100:.2f}%')\n",
        "  # Make predictions on the test set\n",
        "  y_pred = np.argmax(model.predict(test), axis=-1)\n",
        "  y_true = np.concatenate([y for x, y in test], axis=0)\n",
        "\n",
        "  # Calculate F1 score and confusion matrix\n",
        "  f1 = f1_score(y_true, y_pred, average='weighted')\n",
        "  conf_matrix = confusion_matrix(y_true, y_pred)\n",
        "\n",
        "  print(f'F1 Score: {f1:.2f}')\n",
        "  print('Confusion Matrix:')\n",
        "  print(conf_matrix)\n",
        "  print('Classification Report:')\n",
        "  print(classification_report(y_true, y_pred))\n",
        "\n",
        "  model.save(os.path.join(drive_path, f'kws_cnn_model_ephocs{ep}.h5'))\n",
        "\n",
        "\n",
        "\n"
      ],
      "metadata": {
        "colab": {
          "base_uri": "https://localhost:8080/",
          "height": 529
        },
        "id": "fDJo-T03Oo1s",
        "outputId": "d588e065-ea4f-475d-c782-d4eb41324914"
      },
      "id": "fDJo-T03Oo1s",
      "execution_count": 53,
      "outputs": [
        {
          "output_type": "stream",
          "name": "stdout",
          "text": [
            "Training for 3 epochs\n",
            "Epoch 1/3\n"
          ]
        },
        {
          "output_type": "error",
          "ename": "ValueError",
          "evalue": "Exception encountered when calling Sequential.call().\n\n\u001b[1mInvalid input shape for input Tensor(\"sequential_6_1/Cast:0\", shape=(None,), dtype=float32). Expected shape (None, 16000, 1), but input has incompatible shape (None,)\u001b[0m\n\nArguments received by Sequential.call():\n  • inputs={'audio': 'tf.Tensor(shape=(None,), dtype=int16)', 'label': 'tf.Tensor(shape=(), dtype=int64)'}\n  • training=True\n  • mask={'audio': 'None', 'label': 'None'}",
          "traceback": [
            "\u001b[0;31m---------------------------------------------------------------------------\u001b[0m",
            "\u001b[0;31mValueError\u001b[0m                                Traceback (most recent call last)",
            "\u001b[0;32m<ipython-input-53-2a96573542e7>\u001b[0m in \u001b[0;36m<cell line: 10>\u001b[0;34m()\u001b[0m\n\u001b[1;32m     10\u001b[0m \u001b[0;32mfor\u001b[0m \u001b[0mep\u001b[0m \u001b[0;32min\u001b[0m \u001b[0mEPOCHS\u001b[0m\u001b[0;34m:\u001b[0m\u001b[0;34m\u001b[0m\u001b[0;34m\u001b[0m\u001b[0m\n\u001b[1;32m     11\u001b[0m   \u001b[0mprint\u001b[0m\u001b[0;34m(\u001b[0m\u001b[0;34mf'Training for {ep} epochs'\u001b[0m\u001b[0;34m)\u001b[0m\u001b[0;34m\u001b[0m\u001b[0;34m\u001b[0m\u001b[0m\n\u001b[0;32m---> 12\u001b[0;31m   \u001b[0mhistory\u001b[0m \u001b[0;34m=\u001b[0m \u001b[0mmodel\u001b[0m\u001b[0;34m.\u001b[0m\u001b[0mfit\u001b[0m\u001b[0;34m(\u001b[0m\u001b[0mtrain\u001b[0m\u001b[0;34m,\u001b[0m \u001b[0mvalidation_data\u001b[0m\u001b[0;34m=\u001b[0m\u001b[0mvalidation\u001b[0m\u001b[0;34m,\u001b[0m \u001b[0mepochs\u001b[0m\u001b[0;34m=\u001b[0m\u001b[0mep\u001b[0m\u001b[0;34m,\u001b[0m \u001b[0mcallbacks\u001b[0m\u001b[0;34m=\u001b[0m\u001b[0;34m[\u001b[0m\u001b[0mcallback\u001b[0m\u001b[0;34m]\u001b[0m\u001b[0;34m)\u001b[0m\u001b[0;34m\u001b[0m\u001b[0;34m\u001b[0m\u001b[0m\n\u001b[0m\u001b[1;32m     13\u001b[0m   \u001b[0mtest_loss\u001b[0m\u001b[0;34m,\u001b[0m \u001b[0mtest_accuracy\u001b[0m \u001b[0;34m=\u001b[0m \u001b[0mmodel\u001b[0m\u001b[0;34m.\u001b[0m\u001b[0mevaluate\u001b[0m\u001b[0;34m(\u001b[0m\u001b[0mtest\u001b[0m\u001b[0;34m)\u001b[0m\u001b[0;34m\u001b[0m\u001b[0;34m\u001b[0m\u001b[0m\n\u001b[1;32m     14\u001b[0m   \u001b[0mprint\u001b[0m\u001b[0;34m(\u001b[0m\u001b[0;34mf'Test Accuracy: {test_accuracy * 100:.2f}%'\u001b[0m\u001b[0;34m)\u001b[0m\u001b[0;34m\u001b[0m\u001b[0;34m\u001b[0m\u001b[0m\n",
            "\u001b[0;32m/usr/local/lib/python3.10/dist-packages/keras/src/utils/traceback_utils.py\u001b[0m in \u001b[0;36merror_handler\u001b[0;34m(*args, **kwargs)\u001b[0m\n\u001b[1;32m    120\u001b[0m             \u001b[0;31m# To get the full stack trace, call:\u001b[0m\u001b[0;34m\u001b[0m\u001b[0;34m\u001b[0m\u001b[0m\n\u001b[1;32m    121\u001b[0m             \u001b[0;31m# `keras.config.disable_traceback_filtering()`\u001b[0m\u001b[0;34m\u001b[0m\u001b[0;34m\u001b[0m\u001b[0m\n\u001b[0;32m--> 122\u001b[0;31m             \u001b[0;32mraise\u001b[0m \u001b[0me\u001b[0m\u001b[0;34m.\u001b[0m\u001b[0mwith_traceback\u001b[0m\u001b[0;34m(\u001b[0m\u001b[0mfiltered_tb\u001b[0m\u001b[0;34m)\u001b[0m \u001b[0;32mfrom\u001b[0m \u001b[0;32mNone\u001b[0m\u001b[0;34m\u001b[0m\u001b[0;34m\u001b[0m\u001b[0m\n\u001b[0m\u001b[1;32m    123\u001b[0m         \u001b[0;32mfinally\u001b[0m\u001b[0;34m:\u001b[0m\u001b[0;34m\u001b[0m\u001b[0;34m\u001b[0m\u001b[0m\n\u001b[1;32m    124\u001b[0m             \u001b[0;32mdel\u001b[0m \u001b[0mfiltered_tb\u001b[0m\u001b[0;34m\u001b[0m\u001b[0;34m\u001b[0m\u001b[0m\n",
            "\u001b[0;32m/usr/local/lib/python3.10/dist-packages/keras/src/models/functional.py\u001b[0m in \u001b[0;36m_adjust_input_rank\u001b[0;34m(self, flat_inputs)\u001b[0m\n\u001b[1;32m    242\u001b[0m                     \u001b[0madjusted\u001b[0m\u001b[0;34m.\u001b[0m\u001b[0mappend\u001b[0m\u001b[0;34m(\u001b[0m\u001b[0mops\u001b[0m\u001b[0;34m.\u001b[0m\u001b[0mexpand_dims\u001b[0m\u001b[0;34m(\u001b[0m\u001b[0mx\u001b[0m\u001b[0;34m,\u001b[0m \u001b[0maxis\u001b[0m\u001b[0;34m=\u001b[0m\u001b[0;34m-\u001b[0m\u001b[0;36m1\u001b[0m\u001b[0;34m)\u001b[0m\u001b[0;34m)\u001b[0m\u001b[0;34m\u001b[0m\u001b[0;34m\u001b[0m\u001b[0m\n\u001b[1;32m    243\u001b[0m                     \u001b[0;32mcontinue\u001b[0m\u001b[0;34m\u001b[0m\u001b[0;34m\u001b[0m\u001b[0m\n\u001b[0;32m--> 244\u001b[0;31m             raise ValueError(\n\u001b[0m\u001b[1;32m    245\u001b[0m                 \u001b[0;34mf\"Invalid input shape for input {x}. Expected shape \"\u001b[0m\u001b[0;34m\u001b[0m\u001b[0;34m\u001b[0m\u001b[0m\n\u001b[1;32m    246\u001b[0m                 \u001b[0;34mf\"{ref_shape}, but input has incompatible shape {x.shape}\"\u001b[0m\u001b[0;34m\u001b[0m\u001b[0;34m\u001b[0m\u001b[0m\n",
            "\u001b[0;31mValueError\u001b[0m: Exception encountered when calling Sequential.call().\n\n\u001b[1mInvalid input shape for input Tensor(\"sequential_6_1/Cast:0\", shape=(None,), dtype=float32). Expected shape (None, 16000, 1), but input has incompatible shape (None,)\u001b[0m\n\nArguments received by Sequential.call():\n  • inputs={'audio': 'tf.Tensor(shape=(None,), dtype=int16)', 'label': 'tf.Tensor(shape=(), dtype=int64)'}\n  • training=True\n  • mask={'audio': 'None', 'label': 'None'}"
          ]
        }
      ]
    },
    {
      "cell_type": "markdown",
      "source": [
        "# Let's experiment with nnaudio preprocessing"
      ],
      "metadata": {
        "id": "HD8DWYRs_3Kp"
      },
      "id": "HD8DWYRs_3Kp"
    },
    {
      "cell_type": "markdown",
      "source": [],
      "metadata": {
        "id": "MLkFeIOAw92i"
      },
      "id": "MLkFeIOAw92i"
    },
    {
      "cell_type": "code",
      "source": [
        "# prompt: check nnaudio package version from terminal\n",
        "\n",
        "!pip show nnaudio\n"
      ],
      "metadata": {
        "colab": {
          "base_uri": "https://localhost:8080/"
        },
        "id": "vk_ZMBpGAu3k",
        "outputId": "e6d4edde-1ae4-48e7-cb7c-998a8bf6778b"
      },
      "id": "vk_ZMBpGAu3k",
      "execution_count": 14,
      "outputs": [
        {
          "output_type": "stream",
          "name": "stdout",
          "text": [
            "\u001b[33mWARNING: Package(s) not found: nnaudio\u001b[0m\u001b[33m\n",
            "\u001b[0m"
          ]
        }
      ]
    },
    {
      "cell_type": "code",
      "source": [
        "import nnAudio as nn\n",
        "from nnAudio.features import MelSpectrogram"
      ],
      "metadata": {
        "colab": {
          "base_uri": "https://localhost:8080/"
        },
        "id": "NSkfbAbLB2cZ",
        "outputId": "cf4edd7b-3eac-4607-ce26-7ab622967e56"
      },
      "id": "NSkfbAbLB2cZ",
      "execution_count": 16,
      "outputs": [
        {
          "output_type": "stream",
          "name": "stdout",
          "text": [
            "Object `nn.features` not found.\n"
          ]
        }
      ]
    },
    {
      "cell_type": "code",
      "source": [
        "train = ds['train']\n",
        "validation = ds['validation']\n",
        "test = ds['test']"
      ],
      "metadata": {
        "id": "yRQp-FW2eUnp"
      },
      "id": "yRQp-FW2eUnp",
      "execution_count": null,
      "outputs": []
    },
    {
      "cell_type": "code",
      "source": [
        "train"
      ],
      "metadata": {
        "colab": {
          "base_uri": "https://localhost:8080/"
        },
        "id": "CuoFWuKke-VW",
        "outputId": "172818af-eb56-4811-89ba-809fe2f6fe9b"
      },
      "id": "CuoFWuKke-VW",
      "execution_count": null,
      "outputs": [
        {
          "output_type": "execute_result",
          "data": {
            "text/plain": [
              "<_PrefetchDataset element_spec={'audio': TensorSpec(shape=(None,), dtype=tf.int16, name=None), 'label': TensorSpec(shape=(), dtype=tf.int64, name=None)}>"
            ]
          },
          "metadata": {},
          "execution_count": 73
        }
      ]
    },
    {
      "cell_type": "code",
      "source": [
        "tf.print(ds['train'])"
      ],
      "metadata": {
        "colab": {
          "base_uri": "https://localhost:8080/"
        },
        "id": "Yt7Hqw51zUR3",
        "outputId": "54342d23-8b34-4d03-de5a-6ddfdf8a0bfc"
      },
      "id": "Yt7Hqw51zUR3",
      "execution_count": null,
      "outputs": [
        {
          "output_type": "stream",
          "name": "stdout",
          "text": [
            "<_PrefetchDataset element_spec={'audio': TensorSpec(shape=(None,), dtype=tf.int16, name=None), 'label': TensorSpec(shape=(), dtype=tf.int64, name=None)}>\n"
          ]
        }
      ]
    },
    {
      "cell_type": "code",
      "source": [
        "import tensorflow as tf\n",
        "import tensorflow_datasets as tfds\n",
        "\n",
        "# Load the dataset\n",
        "ds, info = tfds.load('speech_commands', split=['train', 'validation', 'test'], as_supervised=False, with_info=True)\n",
        "\n",
        "# Function to check dataset shape\n",
        "def check_dataset_shape(dataset, dataset_name):\n",
        "    num_samples = tf.data.experimental.cardinality(dataset).numpy()\n",
        "    print(f\"{dataset_name} dataset contains {num_samples} samples.\")\n",
        "    for example in dataset.take(1):  # Taking only one example to check the shape\n",
        "        audio = example['audio']\n",
        "        label = example['label']\n",
        "        tf.print(f\"\\n{dataset_name} Dataset\")\n",
        "        tf.print(\"Audio shape:\", tf.shape(audio))\n",
        "        tf.print(\"Label shape:\", tf.shape(label))\n",
        "        tf.print(\"Label value:\", label)\n",
        "\n",
        "# Check the shape of the 'train', 'validation', and 'test' datasets\n",
        "check_dataset_shape(train, \"Train\")\n",
        "check_dataset_shape(validation, \"Validation\")\n",
        "check_dataset_shape(test, \"Test\")\n"
      ],
      "metadata": {
        "colab": {
          "base_uri": "https://localhost:8080/"
        },
        "id": "mEZ4V_qnzjdM",
        "outputId": "f572ebe0-1da9-4651-a682-2143341e2f80"
      },
      "id": "mEZ4V_qnzjdM",
      "execution_count": null,
      "outputs": [
        {
          "output_type": "stream",
          "name": "stdout",
          "text": [
            "Train dataset contains 85511 samples.\n",
            "\n",
            "Train Dataset\n",
            "Audio shape: [16000]\n",
            "Label shape: []\n",
            "Label value: 4\n",
            "Validation dataset contains 10102 samples.\n",
            "\n",
            "Validation Dataset\n",
            "Audio shape: [16000]\n",
            "Label shape: []\n",
            "Label value: 3\n",
            "Test dataset contains 4890 samples.\n",
            "\n",
            "Test Dataset\n",
            "Audio shape: [16000]\n",
            "Label shape: []\n",
            "Label value: 7\n"
          ]
        }
      ]
    },
    {
      "cell_type": "code",
      "source": [
        "import tensorflow as tf\n",
        "import tensorflow_datasets as tfds\n",
        "import tensorflow_io as tfio\n",
        "import torch\n",
        "from nnAudio.features import MelSpectrogram\n",
        "import numpy as np\n",
        "\n",
        "# Constants\n",
        "SAMPLE_RATE = 16000\n",
        "EXPECTED_SHAPE = (128, 63)  # This should match the expected input shape of the CNN\n",
        "\n",
        "# Function to preprocess audio using nnAudio\n",
        "def preprocess_audio_nnaudio(audio):\n",
        "    # Print the shape of the original audio\n",
        "    print(\"Original audio shape:\", tf.shape(audio))\n",
        "\n",
        "    # Convert audio to float32\n",
        "    audio = tf.cast(audio, tf.float32) / 32768.0\n",
        "    print(\"Audio shape after conversion to float32:\", tf.shape(audio))\n",
        "\n",
        "    # Trim the noise from the beginning and the end of the audio signal\n",
        "    position = tfio.audio.trim(audio, axis=0, epsilon=0.05)\n",
        "    start = position[0]\n",
        "    stop = position[1]\n",
        "    audio = audio[start:stop]\n",
        "    print(\"Audio shape after trimming:\", tf.shape(audio))\n",
        "\n",
        "    # Pad or truncate audio to 1 second\n",
        "    audio = tf.pad(audio, paddings=[[0, SAMPLE_RATE - tf.shape(audio)[0]]], mode='CONSTANT', constant_values=0)\n",
        "    audio = tf.slice(audio, [0], [SAMPLE_RATE])\n",
        "    print(\"Audio shape after padding/truncating:\", tf.shape(audio))\n",
        "\n",
        "    # Function to compute Mel-spectrogram using nnAudio\n",
        "    def compute_mel_spectrogram(audio_np):\n",
        "        # Convert NumPy array to PyTorch tensor\n",
        "        audio_pt = torch.tensor(audio_np, dtype=torch.float32).unsqueeze(0)  # Add batch dimension\n",
        "\n",
        "        # Use nnAudio's MelSpectrogram\n",
        "        mel_spec = MelSpectrogram(sr=SAMPLE_RATE, n_fft=512, hop_length=256, n_mels=128, fmin=0, fmax=8000)\n",
        "        mel_spectrogram = mel_spec(audio_pt)\n",
        "\n",
        "        # Convert to dB scale (log scale)\n",
        "        db_mel_spectrogram = torch.log10(mel_spectrogram + 1e-6)\n",
        "\n",
        "        # Squeeze to remove batch dimension and convert back to NumPy\n",
        "        return db_mel_spectrogram.squeeze(0).cpu().numpy()\n",
        "\n",
        "    # Use tf.py_function to handle NumPy conversion and integrate nnAudio processing\n",
        "    db_mel_spectrogram = tf.py_function(\n",
        "        func=compute_mel_spectrogram,\n",
        "        inp=[audio],  # Pass TensorFlow tensor, TensorFlow will handle conversion\n",
        "        Tout=tf.float32\n",
        "    )\n",
        "\n",
        "    # Print shape after nnAudio processing (should be [128, 63])\n",
        "    print(\"Mel-spectrogram shape after nnAudio processing:\", tf.shape(db_mel_spectrogram))\n",
        "\n",
        "    # Set the correct shape for the tensor\n",
        "    db_mel_spectrogram.set_shape(EXPECTED_SHAPE)\n",
        "\n",
        "    # Add a channel dimension\n",
        "    db_mel_spectrogram = tf.expand_dims(db_mel_spectrogram, axis=-1)\n",
        "    print(\"Final mel-spectrogram type:\", type(db_mel_spectrogram))\n",
        "    print(\"Final mel-spectrogram shape:\", tf.shape(db_mel_spectrogram))\n",
        "\n",
        "    return db_mel_spectrogram\n",
        "\n",
        "# Function to preprocess dataset with nnAudio\n",
        "def preprocess_dataset_nnaudio(dataset):\n",
        "    dataset = dataset.map(lambda x: (preprocess_audio_nnaudio(x['audio']), x['label']), num_parallel_calls=tf.data.experimental.AUTOTUNE)\n",
        "    return dataset\n",
        "\n",
        "\n",
        "# Preprocess datasets using nnAudio\n",
        "train_preprocessed_nn = preprocess_dataset_nnaudio(train)\n",
        "validation_preprocessed_nn = preprocess_dataset_nnaudio(validation)\n",
        "test_preprocessed_nn = preprocess_dataset_nnaudio(test)\n",
        "\n",
        "# Batch and prefetch the datasets\n",
        "BATCH_SIZE = 32\n",
        "train_preprocessed_nn = train_preprocessed_nn.batch(BATCH_SIZE).prefetch(tf.data.experimental.AUTOTUNE)\n",
        "validation_preprocessed_nn = validation_preprocessed_nn.batch(BATCH_SIZE).prefetch(tf.data.experimental.AUTOTUNE)\n",
        "test_preprocessed_nn = test_preprocessed_nn.batch(BATCH_SIZE).prefetch(tf.data.experimental.AUTOTUNE)\n"
      ],
      "metadata": {
        "colab": {
          "base_uri": "https://localhost:8080/"
        },
        "id": "3hBxHEXC205a",
        "outputId": "eec7ec54-acf7-4c3b-8b2d-ddb66d24ea28"
      },
      "id": "3hBxHEXC205a",
      "execution_count": 25,
      "outputs": [
        {
          "output_type": "stream",
          "name": "stdout",
          "text": [
            "Original audio shape: Tensor(\"Shape:0\", shape=(1,), dtype=int32)\n",
            "Audio shape after conversion to float32: Tensor(\"Shape_1:0\", shape=(1,), dtype=int32)\n",
            "Audio shape after trimming: Tensor(\"Shape_3:0\", shape=(1,), dtype=int32)\n",
            "Audio shape after padding/truncating: Tensor(\"Shape_5:0\", shape=(1,), dtype=int32)\n",
            "Mel-spectrogram shape after nnAudio processing: Tensor(\"Shape_6:0\", shape=(None,), dtype=int32)\n",
            "Final mel-spectrogram type: <class 'tensorflow.python.framework.ops.SymbolicTensor'>\n",
            "Final mel-spectrogram shape: Tensor(\"Shape_7:0\", shape=(3,), dtype=int32)\n",
            "Original audio shape: Tensor(\"Shape:0\", shape=(1,), dtype=int32)\n",
            "Audio shape after conversion to float32: Tensor(\"Shape_1:0\", shape=(1,), dtype=int32)\n",
            "Audio shape after trimming: Tensor(\"Shape_3:0\", shape=(1,), dtype=int32)\n",
            "Audio shape after padding/truncating: Tensor(\"Shape_5:0\", shape=(1,), dtype=int32)\n",
            "Mel-spectrogram shape after nnAudio processing: Tensor(\"Shape_6:0\", shape=(None,), dtype=int32)\n",
            "Final mel-spectrogram type: <class 'tensorflow.python.framework.ops.SymbolicTensor'>\n",
            "Final mel-spectrogram shape: Tensor(\"Shape_7:0\", shape=(3,), dtype=int32)\n",
            "Original audio shape: Tensor(\"Shape:0\", shape=(1,), dtype=int32)\n",
            "Audio shape after conversion to float32: Tensor(\"Shape_1:0\", shape=(1,), dtype=int32)\n",
            "Audio shape after trimming: Tensor(\"Shape_3:0\", shape=(1,), dtype=int32)\n",
            "Audio shape after padding/truncating: Tensor(\"Shape_5:0\", shape=(1,), dtype=int32)\n",
            "Mel-spectrogram shape after nnAudio processing: Tensor(\"Shape_6:0\", shape=(None,), dtype=int32)\n",
            "Final mel-spectrogram type: <class 'tensorflow.python.framework.ops.SymbolicTensor'>\n",
            "Final mel-spectrogram shape: Tensor(\"Shape_7:0\", shape=(3,), dtype=int32)\n"
          ]
        }
      ]
    },
    {
      "cell_type": "code",
      "source": [
        "from tensorflow.keras.models import Sequential\n",
        "from tensorflow.keras.layers import Conv2D, MaxPooling2D, Flatten, Dense, Dropout, BatchNormalization\n",
        "\n",
        "def create_model(input_shape):\n",
        "    model = Sequential([\n",
        "        Conv2D(32, (3, 3), activation='relu', input_shape=input_shape),\n",
        "        MaxPooling2D((2, 2)),\n",
        "        BatchNormalization(),\n",
        "\n",
        "        Conv2D(64, (3, 3), activation='relu'),\n",
        "        MaxPooling2D((2, 2)),\n",
        "        BatchNormalization(),\n",
        "\n",
        "        Conv2D(128, (3, 3), activation='relu'),\n",
        "        MaxPooling2D((2, 2)),\n",
        "        BatchNormalization(),\n",
        "\n",
        "        Flatten(),\n",
        "        Dense(256, activation='relu'),\n",
        "        Dropout(0.5),\n",
        "        Dense(12, activation='softmax')\n",
        "    ])\n",
        "    return model\n",
        "\n",
        "# Input shape\n",
        "# input_shape = (128, 126, 1)  # Adjust based on the actual shape of your mel-spectrograms\n",
        "input_shape = (128,63,1)\n",
        "\n",
        "# Create and compile the model\n",
        "model = create_model(input_shape)\n",
        "model.compile(optimizer='adam', loss='sparse_categorical_crossentropy', metrics=['accuracy'])\n"
      ],
      "metadata": {
        "colab": {
          "base_uri": "https://localhost:8080/"
        },
        "id": "mDdSPGIW20jb",
        "outputId": "f53d2fe2-b094-4222-aad6-0b0e7271e07e"
      },
      "id": "mDdSPGIW20jb",
      "execution_count": 26,
      "outputs": [
        {
          "output_type": "stream",
          "name": "stderr",
          "text": [
            "/usr/local/lib/python3.10/dist-packages/keras/src/layers/convolutional/base_conv.py:107: UserWarning: Do not pass an `input_shape`/`input_dim` argument to a layer. When using Sequential models, prefer using an `Input(shape)` object as the first layer in the model instead.\n",
            "  super().__init__(activity_regularizer=activity_regularizer, **kwargs)\n"
          ]
        }
      ]
    },
    {
      "cell_type": "code",
      "source": [
        "benchmark_model(model,train_preprocessed_nn,validation_preprocessed_nn,test_preprocessed_nn, \"ClassicCNN+nnAudioPreProcessing\")"
      ],
      "metadata": {
        "id": "_v2jEgrx2z-x",
        "colab": {
          "base_uri": "https://localhost:8080/",
          "height": 1000
        },
        "outputId": "501178c2-6010-49c4-868b-010720ad8c89"
      },
      "id": "_v2jEgrx2z-x",
      "execution_count": 27,
      "outputs": [
        {
          "output_type": "stream",
          "name": "stdout",
          "text": [
            "Epoch 1/10\n"
          ]
        },
        {
          "output_type": "error",
          "ename": "InvalidArgumentError",
          "evalue": "Graph execution error:\n\nDetected at node EagerPyFunc defined at (most recent call last):\n<stack traces unavailable>\nDetected at node EagerPyFunc defined at (most recent call last):\n<stack traces unavailable>\n2 root error(s) found.\n  (0) INVALID_ARGUMENT:  TypeError: Scalar tensor has no `len()`\nTraceback (most recent call last):\n\n  File \"/usr/local/lib/python3.10/dist-packages/tensorflow/python/ops/script_ops.py\", line 268, in __call__\n    return func(device, token, args)\n\n  File \"/usr/local/lib/python3.10/dist-packages/tensorflow/python/ops/script_ops.py\", line 146, in __call__\n    outputs = self._call(device, args)\n\n  File \"/usr/local/lib/python3.10/dist-packages/tensorflow/python/ops/script_ops.py\", line 153, in _call\n    ret = self._func(*args)\n\n  File \"/usr/local/lib/python3.10/dist-packages/tensorflow/python/autograph/impl/api.py\", line 643, in wrapper\n    return func(*args, **kwargs)\n\n  File \"/tmp/__autograph_generated_filehhkaurpr.py\", line 27, in compute_mel_spectrogram\n    audio_pt = ag__.converted_call(ag__.converted_call(ag__.ld(torch).tensor, (ag__.ld(audio_np),), dict(dtype=ag__.ld(torch).float32), fscope_1).unsqueeze, (0,), None, fscope_1)\n\n  File \"/usr/local/lib/python3.10/dist-packages/tensorflow/python/autograph/impl/api.py\", line 335, in converted_call\n    return _call_unconverted(f, args, kwargs, options, False)\n\n  File \"/usr/local/lib/python3.10/dist-packages/tensorflow/python/autograph/impl/api.py\", line 459, in _call_unconverted\n    return f(*args, **kwargs)\n\n  File \"/usr/local/lib/python3.10/dist-packages/tensorflow/python/framework/ops.py\", line 349, in __len__\n    raise TypeError(\"Scalar tensor has no `len()`\")\n\nTypeError: Scalar tensor has no `len()`\n\n\n\t [[{{node EagerPyFunc}}]]\n\t [[IteratorGetNext]]\n\t [[IteratorGetNext/_4]]\n  (1) INVALID_ARGUMENT:  TypeError: Scalar tensor has no `len()`\nTraceback (most recent call last):\n\n  File \"/usr/local/lib/python3.10/dist-packages/tensorflow/python/ops/script_ops.py\", line 268, in __call__\n    return func(device, token, args)\n\n  File \"/usr/local/lib/python3.10/dist-packages/tensorflow/python/ops/script_ops.py\", line 146, in __call__\n    outputs = self._call(device, args)\n\n  File \"/usr/local/lib/python3.10/dist-packages/tensorflow/python/ops/script_ops.py\", line 153, in _call\n    ret = self._func(*args)\n\n  File \"/usr/local/lib/python3.10/dist-packages/tensorflow/python/autograph/impl/api.py\", line 643, in wrapper\n    return func(*args, **kwargs)\n\n  File \"/tmp/__autograph_generated_filehhkaurpr.py\", line 27, in compute_mel_spectrogram\n    audio_pt = ag__.converted_call(ag__.converted_call(ag__.ld(torch).tensor, (ag__.ld(audio_np),), dict(dtype=ag__.ld(torch).float32), fscope_1).unsqueeze, (0,), None, fscope_1)\n\n  File \"/usr/local/lib/python3.10/dist-packages/tensorflow/python/autograph/impl/api.py\", line 335, in converted_call\n    return _call_unconverted(f, args, kwargs, options, False)\n\n  File \"/usr/local/lib/python3.10/dist-packages/tensorflow/python/autograph/impl/api.py\", line 459, in _call_unconverted\n    return f(*args, **kwargs)\n\n  File \"/usr/local/lib/python3.10/dist-packages/tensorflow/python/framework/ops.py\", line 349, in __len__\n    raise TypeError(\"Scalar tensor has no `len()`\")\n\nTypeError: Scalar tensor has no `len()`\n\n\n\t [[{{node EagerPyFunc}}]]\n\t [[IteratorGetNext]]\n0 successful operations.\n0 derived errors ignored. [Op:__inference_one_step_on_iterator_217568]",
          "traceback": [
            "\u001b[0;31m---------------------------------------------------------------------------\u001b[0m",
            "\u001b[0;31mInvalidArgumentError\u001b[0m                      Traceback (most recent call last)",
            "\u001b[0;32m<ipython-input-27-4f5356c613c0>\u001b[0m in \u001b[0;36m<cell line: 1>\u001b[0;34m()\u001b[0m\n\u001b[0;32m----> 1\u001b[0;31m \u001b[0mbenchmark_model\u001b[0m\u001b[0;34m(\u001b[0m\u001b[0mmodel\u001b[0m\u001b[0;34m,\u001b[0m\u001b[0mtrain_preprocessed_nn\u001b[0m\u001b[0;34m,\u001b[0m\u001b[0mvalidation_preprocessed_nn\u001b[0m\u001b[0;34m,\u001b[0m\u001b[0mtest_preprocessed_nn\u001b[0m\u001b[0;34m,\u001b[0m \u001b[0;34m\"ClassicCNN+nnAudioPreProcessing\"\u001b[0m\u001b[0;34m)\u001b[0m\u001b[0;34m\u001b[0m\u001b[0;34m\u001b[0m\u001b[0m\n\u001b[0m",
            "\u001b[0;32m<ipython-input-19-b461eb546ea2>\u001b[0m in \u001b[0;36mbenchmark_model\u001b[0;34m(model, train_data, validation_data, test_data, model_name, drive_path, epochs)\u001b[0m\n\u001b[1;32m     13\u001b[0m \u001b[0;34m\u001b[0m\u001b[0m\n\u001b[1;32m     14\u001b[0m     \u001b[0;31m# Training the model\u001b[0m\u001b[0;34m\u001b[0m\u001b[0;34m\u001b[0m\u001b[0m\n\u001b[0;32m---> 15\u001b[0;31m     \u001b[0mhistory\u001b[0m \u001b[0;34m=\u001b[0m \u001b[0mmodel\u001b[0m\u001b[0;34m.\u001b[0m\u001b[0mfit\u001b[0m\u001b[0;34m(\u001b[0m\u001b[0mtrain_data\u001b[0m\u001b[0;34m,\u001b[0m \u001b[0mvalidation_data\u001b[0m\u001b[0;34m=\u001b[0m\u001b[0mvalidation_data\u001b[0m\u001b[0;34m,\u001b[0m \u001b[0mepochs\u001b[0m\u001b[0;34m=\u001b[0m\u001b[0mepochs\u001b[0m\u001b[0;34m)\u001b[0m\u001b[0;34m\u001b[0m\u001b[0;34m\u001b[0m\u001b[0m\n\u001b[0m\u001b[1;32m     16\u001b[0m \u001b[0;34m\u001b[0m\u001b[0m\n\u001b[1;32m     17\u001b[0m     \u001b[0;31m# Calculate training time\u001b[0m\u001b[0;34m\u001b[0m\u001b[0;34m\u001b[0m\u001b[0m\n",
            "\u001b[0;32m/usr/local/lib/python3.10/dist-packages/keras/src/utils/traceback_utils.py\u001b[0m in \u001b[0;36merror_handler\u001b[0;34m(*args, **kwargs)\u001b[0m\n\u001b[1;32m    120\u001b[0m             \u001b[0;31m# To get the full stack trace, call:\u001b[0m\u001b[0;34m\u001b[0m\u001b[0;34m\u001b[0m\u001b[0m\n\u001b[1;32m    121\u001b[0m             \u001b[0;31m# `keras.config.disable_traceback_filtering()`\u001b[0m\u001b[0;34m\u001b[0m\u001b[0;34m\u001b[0m\u001b[0m\n\u001b[0;32m--> 122\u001b[0;31m             \u001b[0;32mraise\u001b[0m \u001b[0me\u001b[0m\u001b[0;34m.\u001b[0m\u001b[0mwith_traceback\u001b[0m\u001b[0;34m(\u001b[0m\u001b[0mfiltered_tb\u001b[0m\u001b[0;34m)\u001b[0m \u001b[0;32mfrom\u001b[0m \u001b[0;32mNone\u001b[0m\u001b[0;34m\u001b[0m\u001b[0;34m\u001b[0m\u001b[0m\n\u001b[0m\u001b[1;32m    123\u001b[0m         \u001b[0;32mfinally\u001b[0m\u001b[0;34m:\u001b[0m\u001b[0;34m\u001b[0m\u001b[0;34m\u001b[0m\u001b[0m\n\u001b[1;32m    124\u001b[0m             \u001b[0;32mdel\u001b[0m \u001b[0mfiltered_tb\u001b[0m\u001b[0;34m\u001b[0m\u001b[0;34m\u001b[0m\u001b[0m\n",
            "\u001b[0;32m/usr/local/lib/python3.10/dist-packages/tensorflow/python/eager/execute.py\u001b[0m in \u001b[0;36mquick_execute\u001b[0;34m(op_name, num_outputs, inputs, attrs, ctx, name)\u001b[0m\n\u001b[1;32m     51\u001b[0m   \u001b[0;32mtry\u001b[0m\u001b[0;34m:\u001b[0m\u001b[0;34m\u001b[0m\u001b[0;34m\u001b[0m\u001b[0m\n\u001b[1;32m     52\u001b[0m     \u001b[0mctx\u001b[0m\u001b[0;34m.\u001b[0m\u001b[0mensure_initialized\u001b[0m\u001b[0;34m(\u001b[0m\u001b[0;34m)\u001b[0m\u001b[0;34m\u001b[0m\u001b[0;34m\u001b[0m\u001b[0m\n\u001b[0;32m---> 53\u001b[0;31m     tensors = pywrap_tfe.TFE_Py_Execute(ctx._handle, device_name, op_name,\n\u001b[0m\u001b[1;32m     54\u001b[0m                                         inputs, attrs, num_outputs)\n\u001b[1;32m     55\u001b[0m   \u001b[0;32mexcept\u001b[0m \u001b[0mcore\u001b[0m\u001b[0;34m.\u001b[0m\u001b[0m_NotOkStatusException\u001b[0m \u001b[0;32mas\u001b[0m \u001b[0me\u001b[0m\u001b[0;34m:\u001b[0m\u001b[0;34m\u001b[0m\u001b[0;34m\u001b[0m\u001b[0m\n",
            "\u001b[0;31mInvalidArgumentError\u001b[0m: Graph execution error:\n\nDetected at node EagerPyFunc defined at (most recent call last):\n<stack traces unavailable>\nDetected at node EagerPyFunc defined at (most recent call last):\n<stack traces unavailable>\n2 root error(s) found.\n  (0) INVALID_ARGUMENT:  TypeError: Scalar tensor has no `len()`\nTraceback (most recent call last):\n\n  File \"/usr/local/lib/python3.10/dist-packages/tensorflow/python/ops/script_ops.py\", line 268, in __call__\n    return func(device, token, args)\n\n  File \"/usr/local/lib/python3.10/dist-packages/tensorflow/python/ops/script_ops.py\", line 146, in __call__\n    outputs = self._call(device, args)\n\n  File \"/usr/local/lib/python3.10/dist-packages/tensorflow/python/ops/script_ops.py\", line 153, in _call\n    ret = self._func(*args)\n\n  File \"/usr/local/lib/python3.10/dist-packages/tensorflow/python/autograph/impl/api.py\", line 643, in wrapper\n    return func(*args, **kwargs)\n\n  File \"/tmp/__autograph_generated_filehhkaurpr.py\", line 27, in compute_mel_spectrogram\n    audio_pt = ag__.converted_call(ag__.converted_call(ag__.ld(torch).tensor, (ag__.ld(audio_np),), dict(dtype=ag__.ld(torch).float32), fscope_1).unsqueeze, (0,), None, fscope_1)\n\n  File \"/usr/local/lib/python3.10/dist-packages/tensorflow/python/autograph/impl/api.py\", line 335, in converted_call\n    return _call_unconverted(f, args, kwargs, options, False)\n\n  File \"/usr/local/lib/python3.10/dist-packages/tensorflow/python/autograph/impl/api.py\", line 459, in _call_unconverted\n    return f(*args, **kwargs)\n\n  File \"/usr/local/lib/python3.10/dist-packages/tensorflow/python/framework/ops.py\", line 349, in __len__\n    raise TypeError(\"Scalar tensor has no `len()`\")\n\nTypeError: Scalar tensor has no `len()`\n\n\n\t [[{{node EagerPyFunc}}]]\n\t [[IteratorGetNext]]\n\t [[IteratorGetNext/_4]]\n  (1) INVALID_ARGUMENT:  TypeError: Scalar tensor has no `len()`\nTraceback (most recent call last):\n\n  File \"/usr/local/lib/python3.10/dist-packages/tensorflow/python/ops/script_ops.py\", line 268, in __call__\n    return func(device, token, args)\n\n  File \"/usr/local/lib/python3.10/dist-packages/tensorflow/python/ops/script_ops.py\", line 146, in __call__\n    outputs = self._call(device, args)\n\n  File \"/usr/local/lib/python3.10/dist-packages/tensorflow/python/ops/script_ops.py\", line 153, in _call\n    ret = self._func(*args)\n\n  File \"/usr/local/lib/python3.10/dist-packages/tensorflow/python/autograph/impl/api.py\", line 643, in wrapper\n    return func(*args, **kwargs)\n\n  File \"/tmp/__autograph_generated_filehhkaurpr.py\", line 27, in compute_mel_spectrogram\n    audio_pt = ag__.converted_call(ag__.converted_call(ag__.ld(torch).tensor, (ag__.ld(audio_np),), dict(dtype=ag__.ld(torch).float32), fscope_1).unsqueeze, (0,), None, fscope_1)\n\n  File \"/usr/local/lib/python3.10/dist-packages/tensorflow/python/autograph/impl/api.py\", line 335, in converted_call\n    return _call_unconverted(f, args, kwargs, options, False)\n\n  File \"/usr/local/lib/python3.10/dist-packages/tensorflow/python/autograph/impl/api.py\", line 459, in _call_unconverted\n    return f(*args, **kwargs)\n\n  File \"/usr/local/lib/python3.10/dist-packages/tensorflow/python/framework/ops.py\", line 349, in __len__\n    raise TypeError(\"Scalar tensor has no `len()`\")\n\nTypeError: Scalar tensor has no `len()`\n\n\n\t [[{{node EagerPyFunc}}]]\n\t [[IteratorGetNext]]\n0 successful operations.\n0 derived errors ignored. [Op:__inference_one_step_on_iterator_217568]"
          ]
        }
      ]
    },
    {
      "cell_type": "code",
      "source": [
        "# Training the model\n",
        "import os\n",
        "\n",
        "drive_path = '/content/drive/MyDrive/Colab Notebooks/models/'  # Adjust the path as needed\n",
        "if not os.path.exists(drive_path):\n",
        "    os.makedirs(drive_path)\n",
        "\n",
        "EPOCHS = [3,5,10]\n",
        "path = r\"C:\\Users\\User\\Desktop\\Computer Eng\\Advanced Computer Architecture\"\n",
        "for ep in EPOCHS:\n",
        "  print(f'Training for {ep} epochs')\n",
        "  history = model.fit(train_preprocessed_nn, validation_data=validation_preprocessed_nn, epochs=ep)\n",
        "  test_loss, test_accuracy = model.evaluate(test_preprocessed_nn)\n",
        "  print(f'Test Accuracy: {test_accuracy * 100:.2f}%')\n",
        "  # Make predictions on the test set\n",
        "  y_pred = np.argmax(model.predict(test_preprocessed_nn), axis=-1)\n",
        "  y_true = np.concatenate([y for x, y in test_preprocessed_nn], axis=0)\n",
        "\n",
        "  # Calculate F1 score and confusion matrix\n",
        "  f1 = f1_score(y_true, y_pred, average='weighted')\n",
        "  conf_matrix = confusion_matrix(y_true, y_pred)\n",
        "\n",
        "  print(f'F1 Score: {f1:.2f}')\n",
        "  print('Confusion Matrix:')\n",
        "  print(conf_matrix)\n",
        "  print('Classification Report:')\n",
        "  print(classification_report(y_true, y_pred))\n",
        "\n",
        "  model.save(os.path.join(drive_path, f'kws_cnn_model_ephocs{ep}.h5'))\n",
        "\n",
        "\n",
        "\n"
      ],
      "metadata": {
        "colab": {
          "base_uri": "https://localhost:8080/",
          "height": 1000
        },
        "id": "U2gPgOQIerkH",
        "outputId": "5582468f-bc60-4829-eaed-534863d8bdba"
      },
      "id": "U2gPgOQIerkH",
      "execution_count": null,
      "outputs": [
        {
          "output_type": "stream",
          "name": "stdout",
          "text": [
            "Training for 3 epochs\n",
            "Epoch 1/3\n"
          ]
        },
        {
          "output_type": "error",
          "ename": "InvalidArgumentError",
          "evalue": "Graph execution error:\n\nDetected at node EagerPyFunc defined at (most recent call last):\n<stack traces unavailable>\nDetected at node EagerPyFunc defined at (most recent call last):\n<stack traces unavailable>\n2 root error(s) found.\n  (0) INVALID_ARGUMENT:  TypeError: Scalar tensor has no `len()`\nTraceback (most recent call last):\n\n  File \"/usr/local/lib/python3.10/dist-packages/tensorflow/python/ops/script_ops.py\", line 268, in __call__\n    return func(device, token, args)\n\n  File \"/usr/local/lib/python3.10/dist-packages/tensorflow/python/ops/script_ops.py\", line 146, in __call__\n    outputs = self._call(device, args)\n\n  File \"/usr/local/lib/python3.10/dist-packages/tensorflow/python/ops/script_ops.py\", line 153, in _call\n    ret = self._func(*args)\n\n  File \"/usr/local/lib/python3.10/dist-packages/tensorflow/python/autograph/impl/api.py\", line 643, in wrapper\n    return func(*args, **kwargs)\n\n  File \"/tmp/__autograph_generated_fileem1phc7x.py\", line 27, in compute_mel_spectrogram\n    audio_pt = ag__.converted_call(ag__.converted_call(ag__.ld(torch).tensor, (ag__.ld(audio_np),), dict(dtype=ag__.ld(torch).float32), fscope_1).unsqueeze, (0,), None, fscope_1)\n\n  File \"/usr/local/lib/python3.10/dist-packages/tensorflow/python/autograph/impl/api.py\", line 335, in converted_call\n    return _call_unconverted(f, args, kwargs, options, False)\n\n  File \"/usr/local/lib/python3.10/dist-packages/tensorflow/python/autograph/impl/api.py\", line 459, in _call_unconverted\n    return f(*args, **kwargs)\n\n  File \"/usr/local/lib/python3.10/dist-packages/tensorflow/python/framework/ops.py\", line 349, in __len__\n    raise TypeError(\"Scalar tensor has no `len()`\")\n\nTypeError: Scalar tensor has no `len()`\n\n\n\t [[{{node EagerPyFunc}}]]\n\t [[IteratorGetNext]]\n\t [[IteratorGetNext/_4]]\n  (1) INVALID_ARGUMENT:  TypeError: Scalar tensor has no `len()`\nTraceback (most recent call last):\n\n  File \"/usr/local/lib/python3.10/dist-packages/tensorflow/python/ops/script_ops.py\", line 268, in __call__\n    return func(device, token, args)\n\n  File \"/usr/local/lib/python3.10/dist-packages/tensorflow/python/ops/script_ops.py\", line 146, in __call__\n    outputs = self._call(device, args)\n\n  File \"/usr/local/lib/python3.10/dist-packages/tensorflow/python/ops/script_ops.py\", line 153, in _call\n    ret = self._func(*args)\n\n  File \"/usr/local/lib/python3.10/dist-packages/tensorflow/python/autograph/impl/api.py\", line 643, in wrapper\n    return func(*args, **kwargs)\n\n  File \"/tmp/__autograph_generated_fileem1phc7x.py\", line 27, in compute_mel_spectrogram\n    audio_pt = ag__.converted_call(ag__.converted_call(ag__.ld(torch).tensor, (ag__.ld(audio_np),), dict(dtype=ag__.ld(torch).float32), fscope_1).unsqueeze, (0,), None, fscope_1)\n\n  File \"/usr/local/lib/python3.10/dist-packages/tensorflow/python/autograph/impl/api.py\", line 335, in converted_call\n    return _call_unconverted(f, args, kwargs, options, False)\n\n  File \"/usr/local/lib/python3.10/dist-packages/tensorflow/python/autograph/impl/api.py\", line 459, in _call_unconverted\n    return f(*args, **kwargs)\n\n  File \"/usr/local/lib/python3.10/dist-packages/tensorflow/python/framework/ops.py\", line 349, in __len__\n    raise TypeError(\"Scalar tensor has no `len()`\")\n\nTypeError: Scalar tensor has no `len()`\n\n\n\t [[{{node EagerPyFunc}}]]\n\t [[IteratorGetNext]]\n0 successful operations.\n0 derived errors ignored. [Op:__inference_one_step_on_iterator_113143]",
          "traceback": [
            "\u001b[0;31m---------------------------------------------------------------------------\u001b[0m",
            "\u001b[0;31mInvalidArgumentError\u001b[0m                      Traceback (most recent call last)",
            "\u001b[0;32m<ipython-input-150-8541d6666c3c>\u001b[0m in \u001b[0;36m<cell line: 10>\u001b[0;34m()\u001b[0m\n\u001b[1;32m     10\u001b[0m \u001b[0;32mfor\u001b[0m \u001b[0mep\u001b[0m \u001b[0;32min\u001b[0m \u001b[0mEPOCHS\u001b[0m\u001b[0;34m:\u001b[0m\u001b[0;34m\u001b[0m\u001b[0;34m\u001b[0m\u001b[0m\n\u001b[1;32m     11\u001b[0m   \u001b[0mprint\u001b[0m\u001b[0;34m(\u001b[0m\u001b[0;34mf'Training for {ep} epochs'\u001b[0m\u001b[0;34m)\u001b[0m\u001b[0;34m\u001b[0m\u001b[0;34m\u001b[0m\u001b[0m\n\u001b[0;32m---> 12\u001b[0;31m   \u001b[0mhistory\u001b[0m \u001b[0;34m=\u001b[0m \u001b[0mmodel\u001b[0m\u001b[0;34m.\u001b[0m\u001b[0mfit\u001b[0m\u001b[0;34m(\u001b[0m\u001b[0mtrain_preprocessed_nn\u001b[0m\u001b[0;34m,\u001b[0m \u001b[0mvalidation_data\u001b[0m\u001b[0;34m=\u001b[0m\u001b[0mvalidation_preprocessed_nn\u001b[0m\u001b[0;34m,\u001b[0m \u001b[0mepochs\u001b[0m\u001b[0;34m=\u001b[0m\u001b[0mep\u001b[0m\u001b[0;34m)\u001b[0m\u001b[0;34m\u001b[0m\u001b[0;34m\u001b[0m\u001b[0m\n\u001b[0m\u001b[1;32m     13\u001b[0m   \u001b[0mtest_loss\u001b[0m\u001b[0;34m,\u001b[0m \u001b[0mtest_accuracy\u001b[0m \u001b[0;34m=\u001b[0m \u001b[0mmodel\u001b[0m\u001b[0;34m.\u001b[0m\u001b[0mevaluate\u001b[0m\u001b[0;34m(\u001b[0m\u001b[0mtest_preprocessed_nn\u001b[0m\u001b[0;34m)\u001b[0m\u001b[0;34m\u001b[0m\u001b[0;34m\u001b[0m\u001b[0m\n\u001b[1;32m     14\u001b[0m   \u001b[0mprint\u001b[0m\u001b[0;34m(\u001b[0m\u001b[0;34mf'Test Accuracy: {test_accuracy * 100:.2f}%'\u001b[0m\u001b[0;34m)\u001b[0m\u001b[0;34m\u001b[0m\u001b[0;34m\u001b[0m\u001b[0m\n",
            "\u001b[0;32m/usr/local/lib/python3.10/dist-packages/keras/src/utils/traceback_utils.py\u001b[0m in \u001b[0;36merror_handler\u001b[0;34m(*args, **kwargs)\u001b[0m\n\u001b[1;32m    120\u001b[0m             \u001b[0;31m# To get the full stack trace, call:\u001b[0m\u001b[0;34m\u001b[0m\u001b[0;34m\u001b[0m\u001b[0m\n\u001b[1;32m    121\u001b[0m             \u001b[0;31m# `keras.config.disable_traceback_filtering()`\u001b[0m\u001b[0;34m\u001b[0m\u001b[0;34m\u001b[0m\u001b[0m\n\u001b[0;32m--> 122\u001b[0;31m             \u001b[0;32mraise\u001b[0m \u001b[0me\u001b[0m\u001b[0;34m.\u001b[0m\u001b[0mwith_traceback\u001b[0m\u001b[0;34m(\u001b[0m\u001b[0mfiltered_tb\u001b[0m\u001b[0;34m)\u001b[0m \u001b[0;32mfrom\u001b[0m \u001b[0;32mNone\u001b[0m\u001b[0;34m\u001b[0m\u001b[0;34m\u001b[0m\u001b[0m\n\u001b[0m\u001b[1;32m    123\u001b[0m         \u001b[0;32mfinally\u001b[0m\u001b[0;34m:\u001b[0m\u001b[0;34m\u001b[0m\u001b[0;34m\u001b[0m\u001b[0m\n\u001b[1;32m    124\u001b[0m             \u001b[0;32mdel\u001b[0m \u001b[0mfiltered_tb\u001b[0m\u001b[0;34m\u001b[0m\u001b[0;34m\u001b[0m\u001b[0m\n",
            "\u001b[0;32m/usr/local/lib/python3.10/dist-packages/tensorflow/python/eager/execute.py\u001b[0m in \u001b[0;36mquick_execute\u001b[0;34m(op_name, num_outputs, inputs, attrs, ctx, name)\u001b[0m\n\u001b[1;32m     51\u001b[0m   \u001b[0;32mtry\u001b[0m\u001b[0;34m:\u001b[0m\u001b[0;34m\u001b[0m\u001b[0;34m\u001b[0m\u001b[0m\n\u001b[1;32m     52\u001b[0m     \u001b[0mctx\u001b[0m\u001b[0;34m.\u001b[0m\u001b[0mensure_initialized\u001b[0m\u001b[0;34m(\u001b[0m\u001b[0;34m)\u001b[0m\u001b[0;34m\u001b[0m\u001b[0;34m\u001b[0m\u001b[0m\n\u001b[0;32m---> 53\u001b[0;31m     tensors = pywrap_tfe.TFE_Py_Execute(ctx._handle, device_name, op_name,\n\u001b[0m\u001b[1;32m     54\u001b[0m                                         inputs, attrs, num_outputs)\n\u001b[1;32m     55\u001b[0m   \u001b[0;32mexcept\u001b[0m \u001b[0mcore\u001b[0m\u001b[0;34m.\u001b[0m\u001b[0m_NotOkStatusException\u001b[0m \u001b[0;32mas\u001b[0m \u001b[0me\u001b[0m\u001b[0;34m:\u001b[0m\u001b[0;34m\u001b[0m\u001b[0;34m\u001b[0m\u001b[0m\n",
            "\u001b[0;31mInvalidArgumentError\u001b[0m: Graph execution error:\n\nDetected at node EagerPyFunc defined at (most recent call last):\n<stack traces unavailable>\nDetected at node EagerPyFunc defined at (most recent call last):\n<stack traces unavailable>\n2 root error(s) found.\n  (0) INVALID_ARGUMENT:  TypeError: Scalar tensor has no `len()`\nTraceback (most recent call last):\n\n  File \"/usr/local/lib/python3.10/dist-packages/tensorflow/python/ops/script_ops.py\", line 268, in __call__\n    return func(device, token, args)\n\n  File \"/usr/local/lib/python3.10/dist-packages/tensorflow/python/ops/script_ops.py\", line 146, in __call__\n    outputs = self._call(device, args)\n\n  File \"/usr/local/lib/python3.10/dist-packages/tensorflow/python/ops/script_ops.py\", line 153, in _call\n    ret = self._func(*args)\n\n  File \"/usr/local/lib/python3.10/dist-packages/tensorflow/python/autograph/impl/api.py\", line 643, in wrapper\n    return func(*args, **kwargs)\n\n  File \"/tmp/__autograph_generated_fileem1phc7x.py\", line 27, in compute_mel_spectrogram\n    audio_pt = ag__.converted_call(ag__.converted_call(ag__.ld(torch).tensor, (ag__.ld(audio_np),), dict(dtype=ag__.ld(torch).float32), fscope_1).unsqueeze, (0,), None, fscope_1)\n\n  File \"/usr/local/lib/python3.10/dist-packages/tensorflow/python/autograph/impl/api.py\", line 335, in converted_call\n    return _call_unconverted(f, args, kwargs, options, False)\n\n  File \"/usr/local/lib/python3.10/dist-packages/tensorflow/python/autograph/impl/api.py\", line 459, in _call_unconverted\n    return f(*args, **kwargs)\n\n  File \"/usr/local/lib/python3.10/dist-packages/tensorflow/python/framework/ops.py\", line 349, in __len__\n    raise TypeError(\"Scalar tensor has no `len()`\")\n\nTypeError: Scalar tensor has no `len()`\n\n\n\t [[{{node EagerPyFunc}}]]\n\t [[IteratorGetNext]]\n\t [[IteratorGetNext/_4]]\n  (1) INVALID_ARGUMENT:  TypeError: Scalar tensor has no `len()`\nTraceback (most recent call last):\n\n  File \"/usr/local/lib/python3.10/dist-packages/tensorflow/python/ops/script_ops.py\", line 268, in __call__\n    return func(device, token, args)\n\n  File \"/usr/local/lib/python3.10/dist-packages/tensorflow/python/ops/script_ops.py\", line 146, in __call__\n    outputs = self._call(device, args)\n\n  File \"/usr/local/lib/python3.10/dist-packages/tensorflow/python/ops/script_ops.py\", line 153, in _call\n    ret = self._func(*args)\n\n  File \"/usr/local/lib/python3.10/dist-packages/tensorflow/python/autograph/impl/api.py\", line 643, in wrapper\n    return func(*args, **kwargs)\n\n  File \"/tmp/__autograph_generated_fileem1phc7x.py\", line 27, in compute_mel_spectrogram\n    audio_pt = ag__.converted_call(ag__.converted_call(ag__.ld(torch).tensor, (ag__.ld(audio_np),), dict(dtype=ag__.ld(torch).float32), fscope_1).unsqueeze, (0,), None, fscope_1)\n\n  File \"/usr/local/lib/python3.10/dist-packages/tensorflow/python/autograph/impl/api.py\", line 335, in converted_call\n    return _call_unconverted(f, args, kwargs, options, False)\n\n  File \"/usr/local/lib/python3.10/dist-packages/tensorflow/python/autograph/impl/api.py\", line 459, in _call_unconverted\n    return f(*args, **kwargs)\n\n  File \"/usr/local/lib/python3.10/dist-packages/tensorflow/python/framework/ops.py\", line 349, in __len__\n    raise TypeError(\"Scalar tensor has no `len()`\")\n\nTypeError: Scalar tensor has no `len()`\n\n\n\t [[{{node EagerPyFunc}}]]\n\t [[IteratorGetNext]]\n0 successful operations.\n0 derived errors ignored. [Op:__inference_one_step_on_iterator_113143]"
          ]
        }
      ]
    },
    {
      "cell_type": "markdown",
      "source": [
        "# nnAudio test"
      ],
      "metadata": {
        "id": "EL83fFmDJQdI"
      },
      "id": "EL83fFmDJQdI"
    },
    {
      "cell_type": "code",
      "source": [
        "import tensorflow as tf\n",
        "import tensorflow_io as tfio\n",
        "import torch\n",
        "from nnAudio.features import MelSpectrogram\n",
        "import numpy as np\n",
        "import logging\n",
        "\n",
        "\n",
        "# Constants\n",
        "SAMPLE_RATE = 16000\n",
        "EXPECTED_SHAPE = (128, 63)  # Expected input shape for CNN\n",
        "\n",
        "# Function to preprocess audio using nnAudio\n",
        "def preprocess_audio_nnaudio(audio):\n",
        "    # Print the shape of the original audio\n",
        "    # tf.print(\"Original audio shape:\", tf.shape(audio))\n",
        "\n",
        "    # Convert audio to float32\n",
        "    audio = tf.cast(audio, tf.float32) / 32768.0\n",
        "    # tf.print(\"Audio shape after conversion to float32:\", tf.shape(audio))\n",
        "\n",
        "    # Trim the noise from the beginning and the end of the audio signal\n",
        "    position = tfio.audio.trim(audio, axis=0, epsilon=0.05)\n",
        "    start = position[0]\n",
        "    stop = position[1]\n",
        "    audio = audio[start:stop]\n",
        "    # tf.print(\"Audio shape after trimming:\", tf.shape(audio))\n",
        "\n",
        "    # Pad or truncate audio to 1 second\n",
        "    audio = tf.pad(audio, paddings=[[0, SAMPLE_RATE - tf.shape(audio)[0]]], mode='CONSTANT', constant_values=0)\n",
        "    audio = tf.slice(audio, [0], [SAMPLE_RATE])\n",
        "    # tf.print(\"Audio shape after padding/truncating:\", tf.shape(audio))\n",
        "\n",
        "    # Ensure audio is a valid tensor with 1D shape before passing to PyTorch\n",
        "    audio = tf.ensure_shape(audio, [SAMPLE_RATE])\n",
        "    # tf.print(\"Audio shape before passing to PyTorch (final check):\", tf.shape(audio))\n",
        "\n",
        "    # Function to compute Mel-spectrogram using nnAudio\n",
        "    def compute_mel_spectrogram(audio_tensor):\n",
        "        # Convert the TensorFlow tensor to a NumPy array (force eager execution)\n",
        "        audio_np = audio_tensor.numpy()  # Ensure conversion to NumPy array\n",
        "\n",
        "        # Check if audio_np is a valid NumPy array\n",
        "        # if isinstance(audio_np, np.ndarray):\n",
        "            # print(f\"Received NumPy array with shape: {audio_np.shape}\")\n",
        "        # else:\n",
        "            # raise ValueError(f\"Expected a NumPy array, but got {type(audio_np)}\")\n",
        "\n",
        "        # Convert NumPy array to PyTorch tensor\n",
        "        audio_pt = torch.tensor(audio_np, dtype=torch.float32).unsqueeze(0)  # Add batch dimension\n",
        "\n",
        "        # Use nnAudio's MelSpectrogram\n",
        "        mel_spec = MelSpectrogram(sr=SAMPLE_RATE, n_fft=512, hop_length=256, n_mels=128, fmin=0, fmax=8000,verbose = False)\n",
        "        mel_spectrogram = mel_spec(audio_pt)\n",
        "\n",
        "        # Convert to dB scale (log scale)\n",
        "        db_mel_spectrogram = torch.log10(mel_spectrogram + 1e-6)\n",
        "\n",
        "        # Convert to NumPy array after processing\n",
        "        return db_mel_spectrogram.squeeze(0).cpu().numpy()\n",
        "\n",
        "    # Use tf.py_function to handle NumPy conversion and integrate nnAudio processing\n",
        "    db_mel_spectrogram = tf.py_function(\n",
        "        func=compute_mel_spectrogram,\n",
        "        inp=[audio],  # Pass TensorFlow tensor, convert to NumPy in compute_mel_spectrogram\n",
        "        Tout=tf.float32\n",
        "    )\n",
        "\n",
        "    # Explicitly set the shape for the tensor after processing\n",
        "    db_mel_spectrogram.set_shape(EXPECTED_SHAPE)\n",
        "\n",
        "    # Print shape after setting it explicitly\n",
        "    # tf.print(\"Mel-spectrogram shape after setting the shape:\", tf.shape(db_mel_spectrogram))\n",
        "\n",
        "    # Add a channel dimension\n",
        "    db_mel_spectrogram = tf.expand_dims(db_mel_spectrogram, axis=-1)\n",
        "    # tf.print(\"Final mel-spectrogram shape:\", tf.shape(db_mel_spectrogram))\n",
        "\n",
        "    return db_mel_spectrogram\n",
        "\n",
        "# Function to preprocess dataset with nnAudio\n",
        "def preprocess_dataset_nnaudio(dataset):\n",
        "    dataset = dataset.map(lambda x: (preprocess_audio_nnaudio(x['audio']), x['label']), num_parallel_calls=tf.data.experimental.AUTOTUNE)\n",
        "    return dataset\n",
        "\n",
        "# Load datasets\n",
        "\n",
        "# Preprocess datasets using nnAudio\n",
        "train_preprocessed_nn = preprocess_dataset_nnaudio(train).cache()\n",
        "validation_preprocessed_nn = preprocess_dataset_nnaudio(validation).cache()\n",
        "test_preprocessed_nn = preprocess_dataset_nnaudio(test).cache()\n",
        "\n",
        "# Batch and prefetch the datasets\n",
        "BATCH_SIZE = 32\n",
        "train_preprocessed_nn = train_preprocessed_nn.batch(BATCH_SIZE).prefetch(tf.data.experimental.AUTOTUNE)\n",
        "validation_preprocessed_nn = validation_preprocessed_nn.batch(BATCH_SIZE).prefetch(tf.data.experimental.AUTOTUNE)\n",
        "test_preprocessed_nn = test_preprocessed_nn.batch(BATCH_SIZE).prefetch(tf.data.experimental.AUTOTUNE)\n",
        "\n",
        "# Model definition\n",
        "\n",
        "\n"
      ],
      "metadata": {
        "id": "BmvLn1bQJNUH"
      },
      "id": "BmvLn1bQJNUH",
      "execution_count": 28,
      "outputs": []
    },
    {
      "cell_type": "code",
      "source": [
        "from tensorflow.keras.models import Sequential\n",
        "from tensorflow.keras.layers import Conv2D, MaxPooling2D, Flatten, Dense, Dropout, BatchNormalization\n",
        "\n",
        "def create_model(input_shape):\n",
        "    model = Sequential([\n",
        "        Conv2D(32, (3, 3), activation='relu', input_shape=input_shape),\n",
        "        MaxPooling2D((2, 2)),\n",
        "        BatchNormalization(),\n",
        "\n",
        "        Conv2D(64, (3, 3), activation='relu'),\n",
        "        MaxPooling2D((2, 2)),\n",
        "        BatchNormalization(),\n",
        "\n",
        "        Conv2D(128, (3, 3), activation='relu'),\n",
        "        MaxPooling2D((2, 2)),\n",
        "        BatchNormalization(),\n",
        "\n",
        "        Flatten(),\n",
        "        Dense(256, activation='relu'),\n",
        "        Dropout(0.5),\n",
        "        Dense(12, activation='softmax')\n",
        "    ])\n",
        "    return model\n",
        "\n",
        "# Input shape based on Mel-spectrograms\n",
        "input_shape = (128, 63, 1)\n",
        "\n",
        "# Create and compile the model\n",
        "model = create_model(input_shape)\n",
        "model.compile(optimizer='adam', loss='sparse_categorical_crossentropy', metrics=['accuracy'])\n"
      ],
      "metadata": {
        "colab": {
          "base_uri": "https://localhost:8080/"
        },
        "id": "dv3l-LGpRSyi",
        "outputId": "e7e12b98-70c9-4c5a-a2cb-255a8d2663e2"
      },
      "id": "dv3l-LGpRSyi",
      "execution_count": 29,
      "outputs": [
        {
          "output_type": "stream",
          "name": "stderr",
          "text": [
            "/usr/local/lib/python3.10/dist-packages/keras/src/layers/convolutional/base_conv.py:107: UserWarning: Do not pass an `input_shape`/`input_dim` argument to a layer. When using Sequential models, prefer using an `Input(shape)` object as the first layer in the model instead.\n",
            "  super().__init__(activity_regularizer=activity_regularizer, **kwargs)\n"
          ]
        }
      ]
    },
    {
      "cell_type": "code",
      "source": [
        "benchmark_model(model,train_preprocessed_nn,validation_preprocessed_nn,test_preprocessed_nn, \"ClassicCNN+nnAudioPreProcessing\")"
      ],
      "metadata": {
        "colab": {
          "base_uri": "https://localhost:8080/",
          "height": 321
        },
        "id": "wIHI3_xoRVim",
        "outputId": "d2118255-a662-4e2a-a561-d79e2fc06934"
      },
      "id": "wIHI3_xoRVim",
      "execution_count": 30,
      "outputs": [
        {
          "output_type": "stream",
          "name": "stdout",
          "text": [
            "Epoch 1/10\n",
            "\u001b[1m  10/2673\u001b[0m \u001b[37m━━━━━━━━━━━━━━━━━━━━\u001b[0m \u001b[1m39:49\u001b[0m 897ms/step - accuracy: 0.3522 - loss: 4.8099"
          ]
        },
        {
          "output_type": "error",
          "ename": "KeyboardInterrupt",
          "evalue": "",
          "traceback": [
            "\u001b[0;31m---------------------------------------------------------------------------\u001b[0m",
            "\u001b[0;31mKeyboardInterrupt\u001b[0m                         Traceback (most recent call last)",
            "\u001b[0;32m<ipython-input-30-4f5356c613c0>\u001b[0m in \u001b[0;36m<cell line: 1>\u001b[0;34m()\u001b[0m\n\u001b[0;32m----> 1\u001b[0;31m \u001b[0mbenchmark_model\u001b[0m\u001b[0;34m(\u001b[0m\u001b[0mmodel\u001b[0m\u001b[0;34m,\u001b[0m\u001b[0mtrain_preprocessed_nn\u001b[0m\u001b[0;34m,\u001b[0m\u001b[0mvalidation_preprocessed_nn\u001b[0m\u001b[0;34m,\u001b[0m\u001b[0mtest_preprocessed_nn\u001b[0m\u001b[0;34m,\u001b[0m \u001b[0;34m\"ClassicCNN+nnAudioPreProcessing\"\u001b[0m\u001b[0;34m)\u001b[0m\u001b[0;34m\u001b[0m\u001b[0;34m\u001b[0m\u001b[0m\n\u001b[0m",
            "\u001b[0;32m<ipython-input-19-b461eb546ea2>\u001b[0m in \u001b[0;36mbenchmark_model\u001b[0;34m(model, train_data, validation_data, test_data, model_name, drive_path, epochs)\u001b[0m\n\u001b[1;32m     13\u001b[0m \u001b[0;34m\u001b[0m\u001b[0m\n\u001b[1;32m     14\u001b[0m     \u001b[0;31m# Training the model\u001b[0m\u001b[0;34m\u001b[0m\u001b[0;34m\u001b[0m\u001b[0m\n\u001b[0;32m---> 15\u001b[0;31m     \u001b[0mhistory\u001b[0m \u001b[0;34m=\u001b[0m \u001b[0mmodel\u001b[0m\u001b[0;34m.\u001b[0m\u001b[0mfit\u001b[0m\u001b[0;34m(\u001b[0m\u001b[0mtrain_data\u001b[0m\u001b[0;34m,\u001b[0m \u001b[0mvalidation_data\u001b[0m\u001b[0;34m=\u001b[0m\u001b[0mvalidation_data\u001b[0m\u001b[0;34m,\u001b[0m \u001b[0mepochs\u001b[0m\u001b[0;34m=\u001b[0m\u001b[0mepochs\u001b[0m\u001b[0;34m)\u001b[0m\u001b[0;34m\u001b[0m\u001b[0;34m\u001b[0m\u001b[0m\n\u001b[0m\u001b[1;32m     16\u001b[0m \u001b[0;34m\u001b[0m\u001b[0m\n\u001b[1;32m     17\u001b[0m     \u001b[0;31m# Calculate training time\u001b[0m\u001b[0;34m\u001b[0m\u001b[0;34m\u001b[0m\u001b[0m\n",
            "\u001b[0;32m/usr/local/lib/python3.10/dist-packages/keras/src/utils/traceback_utils.py\u001b[0m in \u001b[0;36merror_handler\u001b[0;34m(*args, **kwargs)\u001b[0m\n\u001b[1;32m    115\u001b[0m         \u001b[0mfiltered_tb\u001b[0m \u001b[0;34m=\u001b[0m \u001b[0;32mNone\u001b[0m\u001b[0;34m\u001b[0m\u001b[0;34m\u001b[0m\u001b[0m\n\u001b[1;32m    116\u001b[0m         \u001b[0;32mtry\u001b[0m\u001b[0;34m:\u001b[0m\u001b[0;34m\u001b[0m\u001b[0;34m\u001b[0m\u001b[0m\n\u001b[0;32m--> 117\u001b[0;31m             \u001b[0;32mreturn\u001b[0m \u001b[0mfn\u001b[0m\u001b[0;34m(\u001b[0m\u001b[0;34m*\u001b[0m\u001b[0margs\u001b[0m\u001b[0;34m,\u001b[0m \u001b[0;34m**\u001b[0m\u001b[0mkwargs\u001b[0m\u001b[0;34m)\u001b[0m\u001b[0;34m\u001b[0m\u001b[0;34m\u001b[0m\u001b[0m\n\u001b[0m\u001b[1;32m    118\u001b[0m         \u001b[0;32mexcept\u001b[0m \u001b[0mException\u001b[0m \u001b[0;32mas\u001b[0m \u001b[0me\u001b[0m\u001b[0;34m:\u001b[0m\u001b[0;34m\u001b[0m\u001b[0;34m\u001b[0m\u001b[0m\n\u001b[1;32m    119\u001b[0m             \u001b[0mfiltered_tb\u001b[0m \u001b[0;34m=\u001b[0m \u001b[0m_process_traceback_frames\u001b[0m\u001b[0;34m(\u001b[0m\u001b[0me\u001b[0m\u001b[0;34m.\u001b[0m\u001b[0m__traceback__\u001b[0m\u001b[0;34m)\u001b[0m\u001b[0;34m\u001b[0m\u001b[0;34m\u001b[0m\u001b[0m\n",
            "\u001b[0;32m/usr/local/lib/python3.10/dist-packages/keras/src/backend/tensorflow/trainer.py\u001b[0m in \u001b[0;36mfit\u001b[0;34m(self, x, y, batch_size, epochs, verbose, callbacks, validation_split, validation_data, shuffle, class_weight, sample_weight, initial_epoch, steps_per_epoch, validation_steps, validation_batch_size, validation_freq)\u001b[0m\n\u001b[1;32m    316\u001b[0m                 \u001b[0;32mfor\u001b[0m \u001b[0mstep\u001b[0m\u001b[0;34m,\u001b[0m \u001b[0miterator\u001b[0m \u001b[0;32min\u001b[0m \u001b[0mepoch_iterator\u001b[0m\u001b[0;34m.\u001b[0m\u001b[0menumerate_epoch\u001b[0m\u001b[0;34m(\u001b[0m\u001b[0;34m)\u001b[0m\u001b[0;34m:\u001b[0m\u001b[0;34m\u001b[0m\u001b[0;34m\u001b[0m\u001b[0m\n\u001b[1;32m    317\u001b[0m                     \u001b[0mcallbacks\u001b[0m\u001b[0;34m.\u001b[0m\u001b[0mon_train_batch_begin\u001b[0m\u001b[0;34m(\u001b[0m\u001b[0mstep\u001b[0m\u001b[0;34m)\u001b[0m\u001b[0;34m\u001b[0m\u001b[0;34m\u001b[0m\u001b[0m\n\u001b[0;32m--> 318\u001b[0;31m                     \u001b[0mlogs\u001b[0m \u001b[0;34m=\u001b[0m \u001b[0mself\u001b[0m\u001b[0;34m.\u001b[0m\u001b[0mtrain_function\u001b[0m\u001b[0;34m(\u001b[0m\u001b[0miterator\u001b[0m\u001b[0;34m)\u001b[0m\u001b[0;34m\u001b[0m\u001b[0;34m\u001b[0m\u001b[0m\n\u001b[0m\u001b[1;32m    319\u001b[0m                     \u001b[0mlogs\u001b[0m \u001b[0;34m=\u001b[0m \u001b[0mself\u001b[0m\u001b[0;34m.\u001b[0m\u001b[0m_pythonify_logs\u001b[0m\u001b[0;34m(\u001b[0m\u001b[0mlogs\u001b[0m\u001b[0;34m)\u001b[0m\u001b[0;34m\u001b[0m\u001b[0;34m\u001b[0m\u001b[0m\n\u001b[1;32m    320\u001b[0m                     \u001b[0mcallbacks\u001b[0m\u001b[0;34m.\u001b[0m\u001b[0mon_train_batch_end\u001b[0m\u001b[0;34m(\u001b[0m\u001b[0mstep\u001b[0m\u001b[0;34m,\u001b[0m \u001b[0mlogs\u001b[0m\u001b[0;34m)\u001b[0m\u001b[0;34m\u001b[0m\u001b[0;34m\u001b[0m\u001b[0m\n",
            "\u001b[0;32m/usr/local/lib/python3.10/dist-packages/tensorflow/python/util/traceback_utils.py\u001b[0m in \u001b[0;36merror_handler\u001b[0;34m(*args, **kwargs)\u001b[0m\n\u001b[1;32m    148\u001b[0m     \u001b[0mfiltered_tb\u001b[0m \u001b[0;34m=\u001b[0m \u001b[0;32mNone\u001b[0m\u001b[0;34m\u001b[0m\u001b[0;34m\u001b[0m\u001b[0m\n\u001b[1;32m    149\u001b[0m     \u001b[0;32mtry\u001b[0m\u001b[0;34m:\u001b[0m\u001b[0;34m\u001b[0m\u001b[0;34m\u001b[0m\u001b[0m\n\u001b[0;32m--> 150\u001b[0;31m       \u001b[0;32mreturn\u001b[0m \u001b[0mfn\u001b[0m\u001b[0;34m(\u001b[0m\u001b[0;34m*\u001b[0m\u001b[0margs\u001b[0m\u001b[0;34m,\u001b[0m \u001b[0;34m**\u001b[0m\u001b[0mkwargs\u001b[0m\u001b[0;34m)\u001b[0m\u001b[0;34m\u001b[0m\u001b[0;34m\u001b[0m\u001b[0m\n\u001b[0m\u001b[1;32m    151\u001b[0m     \u001b[0;32mexcept\u001b[0m \u001b[0mException\u001b[0m \u001b[0;32mas\u001b[0m \u001b[0me\u001b[0m\u001b[0;34m:\u001b[0m\u001b[0;34m\u001b[0m\u001b[0;34m\u001b[0m\u001b[0m\n\u001b[1;32m    152\u001b[0m       \u001b[0mfiltered_tb\u001b[0m \u001b[0;34m=\u001b[0m \u001b[0m_process_traceback_frames\u001b[0m\u001b[0;34m(\u001b[0m\u001b[0me\u001b[0m\u001b[0;34m.\u001b[0m\u001b[0m__traceback__\u001b[0m\u001b[0;34m)\u001b[0m\u001b[0;34m\u001b[0m\u001b[0;34m\u001b[0m\u001b[0m\n",
            "\u001b[0;32m/usr/local/lib/python3.10/dist-packages/tensorflow/python/eager/polymorphic_function/polymorphic_function.py\u001b[0m in \u001b[0;36m__call__\u001b[0;34m(self, *args, **kwds)\u001b[0m\n\u001b[1;32m    831\u001b[0m \u001b[0;34m\u001b[0m\u001b[0m\n\u001b[1;32m    832\u001b[0m       \u001b[0;32mwith\u001b[0m \u001b[0mOptionalXlaContext\u001b[0m\u001b[0;34m(\u001b[0m\u001b[0mself\u001b[0m\u001b[0;34m.\u001b[0m\u001b[0m_jit_compile\u001b[0m\u001b[0;34m)\u001b[0m\u001b[0;34m:\u001b[0m\u001b[0;34m\u001b[0m\u001b[0;34m\u001b[0m\u001b[0m\n\u001b[0;32m--> 833\u001b[0;31m         \u001b[0mresult\u001b[0m \u001b[0;34m=\u001b[0m \u001b[0mself\u001b[0m\u001b[0;34m.\u001b[0m\u001b[0m_call\u001b[0m\u001b[0;34m(\u001b[0m\u001b[0;34m*\u001b[0m\u001b[0margs\u001b[0m\u001b[0;34m,\u001b[0m \u001b[0;34m**\u001b[0m\u001b[0mkwds\u001b[0m\u001b[0;34m)\u001b[0m\u001b[0;34m\u001b[0m\u001b[0;34m\u001b[0m\u001b[0m\n\u001b[0m\u001b[1;32m    834\u001b[0m \u001b[0;34m\u001b[0m\u001b[0m\n\u001b[1;32m    835\u001b[0m       \u001b[0mnew_tracing_count\u001b[0m \u001b[0;34m=\u001b[0m \u001b[0mself\u001b[0m\u001b[0;34m.\u001b[0m\u001b[0mexperimental_get_tracing_count\u001b[0m\u001b[0;34m(\u001b[0m\u001b[0;34m)\u001b[0m\u001b[0;34m\u001b[0m\u001b[0;34m\u001b[0m\u001b[0m\n",
            "\u001b[0;32m/usr/local/lib/python3.10/dist-packages/tensorflow/python/eager/polymorphic_function/polymorphic_function.py\u001b[0m in \u001b[0;36m_call\u001b[0;34m(self, *args, **kwds)\u001b[0m\n\u001b[1;32m    876\u001b[0m       \u001b[0;31m# In this case we have not created variables on the first call. So we can\u001b[0m\u001b[0;34m\u001b[0m\u001b[0;34m\u001b[0m\u001b[0m\n\u001b[1;32m    877\u001b[0m       \u001b[0;31m# run the first trace but we should fail if variables are created.\u001b[0m\u001b[0;34m\u001b[0m\u001b[0;34m\u001b[0m\u001b[0m\n\u001b[0;32m--> 878\u001b[0;31m       results = tracing_compilation.call_function(\n\u001b[0m\u001b[1;32m    879\u001b[0m           \u001b[0margs\u001b[0m\u001b[0;34m,\u001b[0m \u001b[0mkwds\u001b[0m\u001b[0;34m,\u001b[0m \u001b[0mself\u001b[0m\u001b[0;34m.\u001b[0m\u001b[0m_variable_creation_config\u001b[0m\u001b[0;34m\u001b[0m\u001b[0;34m\u001b[0m\u001b[0m\n\u001b[1;32m    880\u001b[0m       )\n",
            "\u001b[0;32m/usr/local/lib/python3.10/dist-packages/tensorflow/python/eager/polymorphic_function/tracing_compilation.py\u001b[0m in \u001b[0;36mcall_function\u001b[0;34m(args, kwargs, tracing_options)\u001b[0m\n\u001b[1;32m    137\u001b[0m   \u001b[0mbound_args\u001b[0m \u001b[0;34m=\u001b[0m \u001b[0mfunction\u001b[0m\u001b[0;34m.\u001b[0m\u001b[0mfunction_type\u001b[0m\u001b[0;34m.\u001b[0m\u001b[0mbind\u001b[0m\u001b[0;34m(\u001b[0m\u001b[0;34m*\u001b[0m\u001b[0margs\u001b[0m\u001b[0;34m,\u001b[0m \u001b[0;34m**\u001b[0m\u001b[0mkwargs\u001b[0m\u001b[0;34m)\u001b[0m\u001b[0;34m\u001b[0m\u001b[0;34m\u001b[0m\u001b[0m\n\u001b[1;32m    138\u001b[0m   \u001b[0mflat_inputs\u001b[0m \u001b[0;34m=\u001b[0m \u001b[0mfunction\u001b[0m\u001b[0;34m.\u001b[0m\u001b[0mfunction_type\u001b[0m\u001b[0;34m.\u001b[0m\u001b[0munpack_inputs\u001b[0m\u001b[0;34m(\u001b[0m\u001b[0mbound_args\u001b[0m\u001b[0;34m)\u001b[0m\u001b[0;34m\u001b[0m\u001b[0;34m\u001b[0m\u001b[0m\n\u001b[0;32m--> 139\u001b[0;31m   return function._call_flat(  # pylint: disable=protected-access\n\u001b[0m\u001b[1;32m    140\u001b[0m       \u001b[0mflat_inputs\u001b[0m\u001b[0;34m,\u001b[0m \u001b[0mcaptured_inputs\u001b[0m\u001b[0;34m=\u001b[0m\u001b[0mfunction\u001b[0m\u001b[0;34m.\u001b[0m\u001b[0mcaptured_inputs\u001b[0m\u001b[0;34m\u001b[0m\u001b[0;34m\u001b[0m\u001b[0m\n\u001b[1;32m    141\u001b[0m   )\n",
            "\u001b[0;32m/usr/local/lib/python3.10/dist-packages/tensorflow/python/eager/polymorphic_function/concrete_function.py\u001b[0m in \u001b[0;36m_call_flat\u001b[0;34m(self, tensor_inputs, captured_inputs)\u001b[0m\n\u001b[1;32m   1320\u001b[0m         and executing_eagerly):\n\u001b[1;32m   1321\u001b[0m       \u001b[0;31m# No tape is watching; skip to running the function.\u001b[0m\u001b[0;34m\u001b[0m\u001b[0;34m\u001b[0m\u001b[0m\n\u001b[0;32m-> 1322\u001b[0;31m       \u001b[0;32mreturn\u001b[0m \u001b[0mself\u001b[0m\u001b[0;34m.\u001b[0m\u001b[0m_inference_function\u001b[0m\u001b[0;34m.\u001b[0m\u001b[0mcall_preflattened\u001b[0m\u001b[0;34m(\u001b[0m\u001b[0margs\u001b[0m\u001b[0;34m)\u001b[0m\u001b[0;34m\u001b[0m\u001b[0;34m\u001b[0m\u001b[0m\n\u001b[0m\u001b[1;32m   1323\u001b[0m     forward_backward = self._select_forward_and_backward_functions(\n\u001b[1;32m   1324\u001b[0m         \u001b[0margs\u001b[0m\u001b[0;34m,\u001b[0m\u001b[0;34m\u001b[0m\u001b[0;34m\u001b[0m\u001b[0m\n",
            "\u001b[0;32m/usr/local/lib/python3.10/dist-packages/tensorflow/python/eager/polymorphic_function/atomic_function.py\u001b[0m in \u001b[0;36mcall_preflattened\u001b[0;34m(self, args)\u001b[0m\n\u001b[1;32m    214\u001b[0m   \u001b[0;32mdef\u001b[0m \u001b[0mcall_preflattened\u001b[0m\u001b[0;34m(\u001b[0m\u001b[0mself\u001b[0m\u001b[0;34m,\u001b[0m \u001b[0margs\u001b[0m\u001b[0;34m:\u001b[0m \u001b[0mSequence\u001b[0m\u001b[0;34m[\u001b[0m\u001b[0mcore\u001b[0m\u001b[0;34m.\u001b[0m\u001b[0mTensor\u001b[0m\u001b[0;34m]\u001b[0m\u001b[0;34m)\u001b[0m \u001b[0;34m->\u001b[0m \u001b[0mAny\u001b[0m\u001b[0;34m:\u001b[0m\u001b[0;34m\u001b[0m\u001b[0;34m\u001b[0m\u001b[0m\n\u001b[1;32m    215\u001b[0m     \u001b[0;34m\"\"\"Calls with flattened tensor inputs and returns the structured output.\"\"\"\u001b[0m\u001b[0;34m\u001b[0m\u001b[0;34m\u001b[0m\u001b[0m\n\u001b[0;32m--> 216\u001b[0;31m     \u001b[0mflat_outputs\u001b[0m \u001b[0;34m=\u001b[0m \u001b[0mself\u001b[0m\u001b[0;34m.\u001b[0m\u001b[0mcall_flat\u001b[0m\u001b[0;34m(\u001b[0m\u001b[0;34m*\u001b[0m\u001b[0margs\u001b[0m\u001b[0;34m)\u001b[0m\u001b[0;34m\u001b[0m\u001b[0;34m\u001b[0m\u001b[0m\n\u001b[0m\u001b[1;32m    217\u001b[0m     \u001b[0;32mreturn\u001b[0m \u001b[0mself\u001b[0m\u001b[0;34m.\u001b[0m\u001b[0mfunction_type\u001b[0m\u001b[0;34m.\u001b[0m\u001b[0mpack_output\u001b[0m\u001b[0;34m(\u001b[0m\u001b[0mflat_outputs\u001b[0m\u001b[0;34m)\u001b[0m\u001b[0;34m\u001b[0m\u001b[0;34m\u001b[0m\u001b[0m\n\u001b[1;32m    218\u001b[0m \u001b[0;34m\u001b[0m\u001b[0m\n",
            "\u001b[0;32m/usr/local/lib/python3.10/dist-packages/tensorflow/python/eager/polymorphic_function/atomic_function.py\u001b[0m in \u001b[0;36mcall_flat\u001b[0;34m(self, *args)\u001b[0m\n\u001b[1;32m    249\u001b[0m         \u001b[0;32mwith\u001b[0m \u001b[0mrecord\u001b[0m\u001b[0;34m.\u001b[0m\u001b[0mstop_recording\u001b[0m\u001b[0;34m(\u001b[0m\u001b[0;34m)\u001b[0m\u001b[0;34m:\u001b[0m\u001b[0;34m\u001b[0m\u001b[0;34m\u001b[0m\u001b[0m\n\u001b[1;32m    250\u001b[0m           \u001b[0;32mif\u001b[0m \u001b[0mself\u001b[0m\u001b[0;34m.\u001b[0m\u001b[0m_bound_context\u001b[0m\u001b[0;34m.\u001b[0m\u001b[0mexecuting_eagerly\u001b[0m\u001b[0;34m(\u001b[0m\u001b[0;34m)\u001b[0m\u001b[0;34m:\u001b[0m\u001b[0;34m\u001b[0m\u001b[0;34m\u001b[0m\u001b[0m\n\u001b[0;32m--> 251\u001b[0;31m             outputs = self._bound_context.call_function(\n\u001b[0m\u001b[1;32m    252\u001b[0m                 \u001b[0mself\u001b[0m\u001b[0;34m.\u001b[0m\u001b[0mname\u001b[0m\u001b[0;34m,\u001b[0m\u001b[0;34m\u001b[0m\u001b[0;34m\u001b[0m\u001b[0m\n\u001b[1;32m    253\u001b[0m                 \u001b[0mlist\u001b[0m\u001b[0;34m(\u001b[0m\u001b[0margs\u001b[0m\u001b[0;34m)\u001b[0m\u001b[0;34m,\u001b[0m\u001b[0;34m\u001b[0m\u001b[0;34m\u001b[0m\u001b[0m\n",
            "\u001b[0;32m/usr/local/lib/python3.10/dist-packages/tensorflow/python/eager/context.py\u001b[0m in \u001b[0;36mcall_function\u001b[0;34m(self, name, tensor_inputs, num_outputs)\u001b[0m\n\u001b[1;32m   1550\u001b[0m     \u001b[0mcancellation_context\u001b[0m \u001b[0;34m=\u001b[0m \u001b[0mcancellation\u001b[0m\u001b[0;34m.\u001b[0m\u001b[0mcontext\u001b[0m\u001b[0;34m(\u001b[0m\u001b[0;34m)\u001b[0m\u001b[0;34m\u001b[0m\u001b[0;34m\u001b[0m\u001b[0m\n\u001b[1;32m   1551\u001b[0m     \u001b[0;32mif\u001b[0m \u001b[0mcancellation_context\u001b[0m \u001b[0;32mis\u001b[0m \u001b[0;32mNone\u001b[0m\u001b[0;34m:\u001b[0m\u001b[0;34m\u001b[0m\u001b[0;34m\u001b[0m\u001b[0m\n\u001b[0;32m-> 1552\u001b[0;31m       outputs = execute.execute(\n\u001b[0m\u001b[1;32m   1553\u001b[0m           \u001b[0mname\u001b[0m\u001b[0;34m.\u001b[0m\u001b[0mdecode\u001b[0m\u001b[0;34m(\u001b[0m\u001b[0;34m\"utf-8\"\u001b[0m\u001b[0;34m)\u001b[0m\u001b[0;34m,\u001b[0m\u001b[0;34m\u001b[0m\u001b[0;34m\u001b[0m\u001b[0m\n\u001b[1;32m   1554\u001b[0m           \u001b[0mnum_outputs\u001b[0m\u001b[0;34m=\u001b[0m\u001b[0mnum_outputs\u001b[0m\u001b[0;34m,\u001b[0m\u001b[0;34m\u001b[0m\u001b[0;34m\u001b[0m\u001b[0m\n",
            "\u001b[0;32m/usr/local/lib/python3.10/dist-packages/tensorflow/python/eager/execute.py\u001b[0m in \u001b[0;36mquick_execute\u001b[0;34m(op_name, num_outputs, inputs, attrs, ctx, name)\u001b[0m\n\u001b[1;32m     51\u001b[0m   \u001b[0;32mtry\u001b[0m\u001b[0;34m:\u001b[0m\u001b[0;34m\u001b[0m\u001b[0;34m\u001b[0m\u001b[0m\n\u001b[1;32m     52\u001b[0m     \u001b[0mctx\u001b[0m\u001b[0;34m.\u001b[0m\u001b[0mensure_initialized\u001b[0m\u001b[0;34m(\u001b[0m\u001b[0;34m)\u001b[0m\u001b[0;34m\u001b[0m\u001b[0;34m\u001b[0m\u001b[0m\n\u001b[0;32m---> 53\u001b[0;31m     tensors = pywrap_tfe.TFE_Py_Execute(ctx._handle, device_name, op_name,\n\u001b[0m\u001b[1;32m     54\u001b[0m                                         inputs, attrs, num_outputs)\n\u001b[1;32m     55\u001b[0m   \u001b[0;32mexcept\u001b[0m \u001b[0mcore\u001b[0m\u001b[0;34m.\u001b[0m\u001b[0m_NotOkStatusException\u001b[0m \u001b[0;32mas\u001b[0m \u001b[0me\u001b[0m\u001b[0;34m:\u001b[0m\u001b[0;34m\u001b[0m\u001b[0;34m\u001b[0m\u001b[0m\n",
            "\u001b[0;31mKeyboardInterrupt\u001b[0m: "
          ]
        }
      ]
    },
    {
      "cell_type": "markdown",
      "source": [
        "# nnaudio FINAL"
      ],
      "metadata": {
        "id": "uudQHgKWQx36"
      },
      "id": "uudQHgKWQx36"
    },
    {
      "cell_type": "code",
      "source": [
        "!pip install tqdm\n"
      ],
      "metadata": {
        "colab": {
          "base_uri": "https://localhost:8080/"
        },
        "id": "p_eZGwaIVBTg",
        "outputId": "fb6cd3fd-2f4a-4ada-a315-f8ce860ad951"
      },
      "id": "p_eZGwaIVBTg",
      "execution_count": null,
      "outputs": [
        {
          "output_type": "stream",
          "name": "stdout",
          "text": [
            "Requirement already satisfied: tqdm in /usr/local/lib/python3.10/dist-packages (4.66.5)\n"
          ]
        }
      ]
    },
    {
      "cell_type": "code",
      "source": [
        "train"
      ],
      "metadata": {
        "colab": {
          "base_uri": "https://localhost:8080/",
          "height": 141
        },
        "id": "30yHMF6nYvY3",
        "outputId": "c983ba8e-2d80-4b9a-8a52-f8400ddc6936"
      },
      "id": "30yHMF6nYvY3",
      "execution_count": null,
      "outputs": [
        {
          "output_type": "error",
          "ename": "NameError",
          "evalue": "name 'train' is not defined",
          "traceback": [
            "\u001b[0;31m---------------------------------------------------------------------------\u001b[0m",
            "\u001b[0;31mNameError\u001b[0m                                 Traceback (most recent call last)",
            "\u001b[0;32m<ipython-input-2-3536571a9bc3>\u001b[0m in \u001b[0;36m<cell line: 1>\u001b[0;34m()\u001b[0m\n\u001b[0;32m----> 1\u001b[0;31m \u001b[0mtrain\u001b[0m\u001b[0;34m\u001b[0m\u001b[0;34m\u001b[0m\u001b[0m\n\u001b[0m",
            "\u001b[0;31mNameError\u001b[0m: name 'train' is not defined"
          ]
        }
      ]
    },
    {
      "cell_type": "code",
      "source": [
        "!pip install nnAudio\n"
      ],
      "metadata": {
        "colab": {
          "base_uri": "https://localhost:8080/"
        },
        "id": "vYUkXaaPjPsG",
        "outputId": "6cbc6822-f3e8-493e-e21d-bea569d6ee57"
      },
      "id": "vYUkXaaPjPsG",
      "execution_count": null,
      "outputs": [
        {
          "output_type": "stream",
          "name": "stdout",
          "text": [
            "Collecting nnAudio\n",
            "  Downloading nnAudio-0.3.3-py3-none-any.whl.metadata (771 bytes)\n",
            "Requirement already satisfied: scipy>=1.2.0 in /usr/local/lib/python3.10/dist-packages (from nnAudio) (1.13.1)\n",
            "Requirement already satisfied: numpy>=1.14.5 in /usr/local/lib/python3.10/dist-packages (from nnAudio) (1.26.4)\n",
            "Requirement already satisfied: torch>=1.6.0 in /usr/local/lib/python3.10/dist-packages (from nnAudio) (2.4.0+cu121)\n",
            "Requirement already satisfied: filelock in /usr/local/lib/python3.10/dist-packages (from torch>=1.6.0->nnAudio) (3.15.4)\n",
            "Requirement already satisfied: typing-extensions>=4.8.0 in /usr/local/lib/python3.10/dist-packages (from torch>=1.6.0->nnAudio) (4.12.2)\n",
            "Requirement already satisfied: sympy in /usr/local/lib/python3.10/dist-packages (from torch>=1.6.0->nnAudio) (1.13.2)\n",
            "Requirement already satisfied: networkx in /usr/local/lib/python3.10/dist-packages (from torch>=1.6.0->nnAudio) (3.3)\n",
            "Requirement already satisfied: jinja2 in /usr/local/lib/python3.10/dist-packages (from torch>=1.6.0->nnAudio) (3.1.4)\n",
            "Requirement already satisfied: fsspec in /usr/local/lib/python3.10/dist-packages (from torch>=1.6.0->nnAudio) (2024.6.1)\n",
            "Requirement already satisfied: MarkupSafe>=2.0 in /usr/local/lib/python3.10/dist-packages (from jinja2->torch>=1.6.0->nnAudio) (2.1.5)\n",
            "Requirement already satisfied: mpmath<1.4,>=1.1.0 in /usr/local/lib/python3.10/dist-packages (from sympy->torch>=1.6.0->nnAudio) (1.3.0)\n",
            "Downloading nnAudio-0.3.3-py3-none-any.whl (43 kB)\n",
            "\u001b[2K   \u001b[90m━━━━━━━━━━━━━━━━━━━━━━━━━━━━━━━━━━━━━━━━\u001b[0m \u001b[32m43.6/43.6 kB\u001b[0m \u001b[31m3.0 MB/s\u001b[0m eta \u001b[36m0:00:00\u001b[0m\n",
            "\u001b[?25hInstalling collected packages: nnAudio\n",
            "Successfully installed nnAudio-0.3.3\n"
          ]
        }
      ]
    },
    {
      "cell_type": "code",
      "source": [
        "import os\n",
        "import torch\n",
        "import torch.nn as nn\n",
        "import torch.optim as optim\n",
        "import nnAudio\n",
        "import tensorflow as tf\n",
        "import tensorflow_datasets as tfds\n",
        "from torch.utils.data import DataLoader, IterableDataset\n",
        "from tqdm import tqdm\n",
        "from sklearn.metrics import accuracy_score, f1_score, confusion_matrix, precision_score, recall_score\n",
        "from nnAudio.features import MelSpectrogram\n",
        "import time\n",
        "import matplotlib.pyplot as plt\n",
        "\n",
        "# Define constants\n",
        "SAMPLE_RATE = 16000\n",
        "DESIRED_LENGTH = 16000\n",
        "BATCH_SIZE = 32\n",
        "EPOCHS = 10  # Change based on your training needs\n",
        "NUM_CLASSES = 12\n",
        "\n",
        "# Preprocessing function for TensorFlow\n",
        "def preprocess_audio(audio):\n",
        "    waveform = audio['audio']\n",
        "    label = audio['label']\n",
        "    waveform = tf.squeeze(waveform)\n",
        "    waveform = tf.cast(waveform, tf.float32) / tf.int16.max\n",
        "    # Pad or truncate the waveform to the desired length\n",
        "    waveform = tf.cond(\n",
        "        tf.shape(waveform)[0] < DESIRED_LENGTH,\n",
        "        lambda: tf.pad(waveform, [[0, DESIRED_LENGTH - tf.shape(waveform)[0]]]),\n",
        "        lambda: waveform[:DESIRED_LENGTH]\n",
        "    )\n",
        "    return waveform, label\n",
        "\n",
        "# Apply preprocessing to datasets\n",
        "ds_train = train.map(preprocess_audio)\n",
        "ds_test = test.map(preprocess_audio)\n",
        "\n",
        "# Batch and prefetch the datasets\n",
        "ds_train = ds_train.batch(BATCH_SIZE).prefetch(tf.data.AUTOTUNE)\n",
        "ds_test = ds_test.batch(BATCH_SIZE).prefetch(tf.data.AUTOTUNE)\n",
        "\n",
        "# Custom IterableDataset class to load data lazily from TensorFlow to PyTorch\n",
        "class TFDatasetToTorch(IterableDataset):\n",
        "    def __init__(self, tf_dataset):\n",
        "        self.tf_dataset = tf_dataset\n",
        "\n",
        "    def __iter__(self):\n",
        "        for waveform, label in self.tf_dataset:\n",
        "            waveform = torch.tensor(waveform.numpy())\n",
        "            label = torch.tensor(label.numpy())\n",
        "            yield waveform, label\n",
        "\n",
        "    def __len__(self):\n",
        "        return tf.data.experimental.cardinality(self.tf_dataset).numpy()\n",
        "\n",
        "# Create PyTorch-compatible DataLoaders with IterableDataset\n",
        "train_loader = DataLoader(TFDatasetToTorch(ds_train), batch_size=None)  # Batch size is handled by TensorFlow\n",
        "test_loader = DataLoader(TFDatasetToTorch(ds_test), batch_size=None)\n",
        "\n",
        "# Define the PyTorch model\n",
        "class KWSModel(nn.Module):\n",
        "    def __init__(self):\n",
        "        super(KWSModel, self).__init__()\n",
        "        self.mel_spectrogram = MelSpectrogram(n_mels=128, sr=SAMPLE_RATE, n_fft=1024, hop_length=512, verbose=False)\n",
        "        self.conv1 = nn.Conv2d(1, 32, kernel_size=(3, 3), stride=(1, 1), padding=(1, 1))\n",
        "        self.conv2 = nn.Conv2d(32, 64, kernel_size=(3, 3), stride=(1, 1), padding=(1, 1))\n",
        "        self.fc1 = nn.Linear(64 * 128 * 32, 128)  # Adjust input size for your data\n",
        "        self.fc2 = nn.Linear(128, NUM_CLASSES)  # Assuming 12 classes\n",
        "\n",
        "    def forward(self, x):\n",
        "        x = self.mel_spectrogram(x)\n",
        "        x = x.unsqueeze(1)  # Add channel dimension\n",
        "        x = torch.relu(self.conv1(x))\n",
        "        x = torch.relu(self.conv2(x))\n",
        "        x = x.view(x.size(0), -1)  # Flatten\n",
        "        x = torch.relu(self.fc1(x))\n",
        "        x = self.fc2(x)\n",
        "        return x\n",
        "\n",
        "# Define evaluation function for metrics\n",
        "def evaluate_model(model, test_loader, criterion):\n",
        "    model.eval()\n",
        "    all_preds = []\n",
        "    all_labels = []\n",
        "    running_loss = 0.0\n",
        "    correct = 0\n",
        "    total = 0\n",
        "\n",
        "    with torch.no_grad():\n",
        "        for inputs, labels in test_loader:\n",
        "            inputs, labels = inputs.to(device), labels.to(device)\n",
        "            outputs = model(inputs)\n",
        "            loss = criterion(outputs, labels)\n",
        "            running_loss += loss.item()\n",
        "            _, preds = torch.max(outputs, 1)\n",
        "            all_preds.extend(preds.cpu().numpy())\n",
        "            all_labels.extend(labels.cpu().numpy())\n",
        "            total += labels.size(0)\n",
        "            correct += (preds == labels).sum().item()\n",
        "\n",
        "    accuracy = 100 * correct / total\n",
        "    avg_loss = running_loss / len(test_loader)\n",
        "    precision = precision_score(all_labels, all_preds, average='weighted')\n",
        "    recall = recall_score(all_labels, all_preds, average='weighted')\n",
        "    f1 = f1_score(all_labels, all_preds, average='weighted')\n",
        "    conf_matrix = confusion_matrix(all_labels, all_preds)\n",
        "\n",
        "    print(f\"Accuracy: {accuracy:.2f}%\")\n",
        "    print(f\"F1 Score: {f1:.2f}\")\n",
        "    print(f\"Precision: {precision:.2f}\")\n",
        "    print(f\"Recall: {recall:.2f}\")\n",
        "    print(\"Confusion Matrix:\")\n",
        "    print(conf_matrix)\n",
        "\n",
        "    return accuracy, avg_loss, precision, recall, f1, conf_matrix\n",
        "\n",
        "# Function to calculate model size in MB\n",
        "def get_model_size(model, model_path):\n",
        "    torch.save(model.state_dict(), model_path)\n",
        "    size = os.path.getsize(model_path) / (1024 * 1024)  # Convert bytes to MB\n",
        "    os.remove(model_path)\n",
        "    return size\n",
        "\n",
        "# Calculate total and trainable parameters\n",
        "def count_parameters(model):\n",
        "    total_params = sum(p.numel() for p in model.parameters())\n",
        "    trainable_params = sum(p.numel() for p in model.parameters() if p.requires_grad)\n",
        "    return total_params, trainable_params\n",
        "\n",
        "# Initialize model, criterion, and optimizer\n",
        "model = KWSModel().to(device)  # Move model to GPU\n",
        "criterion = nn.CrossEntropyLoss()\n",
        "optimizer = optim.Adam(model.parameters(), lr=0.001)\n",
        "\n",
        "# Start timing for training\n",
        "start_time = time.time()\n",
        "\n",
        "# Training loop\n",
        "model.train()\n",
        "for epoch in range(EPOCHS):\n",
        "    running_loss = 0.0\n",
        "    with tqdm(total=len(train_loader), desc=f'Epoch {epoch+1}/{EPOCHS}', unit='batch') as pbar:\n",
        "        for inputs, labels in train_loader:\n",
        "            optimizer.zero_grad()\n",
        "            inputs, labels = inputs.to(device), labels.to(device)\n",
        "            outputs = model(inputs)\n",
        "            loss = criterion(outputs, labels)\n",
        "            loss.backward()\n",
        "            optimizer.step()\n",
        "            running_loss += loss.item()\n",
        "            pbar.set_postfix(loss=f'{running_loss / (len(train_loader)):.4f}')\n",
        "            pbar.update(1)\n",
        "\n",
        "    print(f'Epoch [{epoch+1}/{EPOCHS}], Loss: {running_loss / len(train_loader):.4f}')\n",
        "\n",
        "# Training time\n",
        "total_training_time = time.time() - start_time\n",
        "print(f\"Training Time: {total_training_time:.2f} seconds\")\n",
        "\n",
        "# Final evaluation on test data\n",
        "accuracy, avg_loss, precision, recall, f1, conf_matrix = evaluate_model(model, test_loader, criterion)\n",
        "\n",
        "# Save the model and calculate its size\n",
        "model_path = \"kws_model_nnaudio.pth\"\n",
        "model_size = get_model_size(model, model_path)\n",
        "print(f\"Model Size: {model_size:.2f} MB\")\n",
        "\n",
        "# Count total and trainable parameters\n",
        "total_params, trainable_params = count_parameters(model)\n",
        "print(f\"Total Parameters: {total_params}\")\n",
        "print(f\"Trainable Parameters: {trainable_params}\")\n"
      ],
      "metadata": {
        "colab": {
          "base_uri": "https://localhost:8080/"
        },
        "id": "-DE6A1UGQz_b",
        "outputId": "36721848-d82d-46dc-f8ca-bb4a1427de21"
      },
      "id": "-DE6A1UGQz_b",
      "execution_count": 61,
      "outputs": [
        {
          "output_type": "stream",
          "name": "stderr",
          "text": [
            "Epoch 1/10: 100%|██████████| 2673/2673 [00:23<00:00, 112.44batch/s, loss=1.1828]\n"
          ]
        },
        {
          "output_type": "stream",
          "name": "stdout",
          "text": [
            "Epoch [1/10], Loss: 1.1828\n"
          ]
        },
        {
          "output_type": "stream",
          "name": "stderr",
          "text": [
            "Epoch 2/10: 100%|██████████| 2673/2673 [00:23<00:00, 113.45batch/s, loss=0.7732]\n"
          ]
        },
        {
          "output_type": "stream",
          "name": "stdout",
          "text": [
            "Epoch [2/10], Loss: 0.7732\n"
          ]
        },
        {
          "output_type": "stream",
          "name": "stderr",
          "text": [
            "Epoch 3/10: 100%|██████████| 2673/2673 [00:23<00:00, 113.76batch/s, loss=0.6142]\n"
          ]
        },
        {
          "output_type": "stream",
          "name": "stdout",
          "text": [
            "Epoch [3/10], Loss: 0.6142\n"
          ]
        },
        {
          "output_type": "stream",
          "name": "stderr",
          "text": [
            "Epoch 4/10: 100%|██████████| 2673/2673 [00:23<00:00, 114.56batch/s, loss=0.5143]\n"
          ]
        },
        {
          "output_type": "stream",
          "name": "stdout",
          "text": [
            "Epoch [4/10], Loss: 0.5143\n"
          ]
        },
        {
          "output_type": "stream",
          "name": "stderr",
          "text": [
            "Epoch 5/10: 100%|██████████| 2673/2673 [00:23<00:00, 113.13batch/s, loss=0.4322]\n"
          ]
        },
        {
          "output_type": "stream",
          "name": "stdout",
          "text": [
            "Epoch [5/10], Loss: 0.4322\n"
          ]
        },
        {
          "output_type": "stream",
          "name": "stderr",
          "text": [
            "Epoch 6/10: 100%|██████████| 2673/2673 [00:23<00:00, 113.52batch/s, loss=0.3655]\n"
          ]
        },
        {
          "output_type": "stream",
          "name": "stdout",
          "text": [
            "Epoch [6/10], Loss: 0.3655\n"
          ]
        },
        {
          "output_type": "stream",
          "name": "stderr",
          "text": [
            "Epoch 7/10: 100%|██████████| 2673/2673 [00:23<00:00, 113.30batch/s, loss=0.3097]\n"
          ]
        },
        {
          "output_type": "stream",
          "name": "stdout",
          "text": [
            "Epoch [7/10], Loss: 0.3097\n"
          ]
        },
        {
          "output_type": "stream",
          "name": "stderr",
          "text": [
            "Epoch 8/10: 100%|██████████| 2673/2673 [00:23<00:00, 113.24batch/s, loss=0.2631]\n"
          ]
        },
        {
          "output_type": "stream",
          "name": "stdout",
          "text": [
            "Epoch [8/10], Loss: 0.2631\n"
          ]
        },
        {
          "output_type": "stream",
          "name": "stderr",
          "text": [
            "Epoch 9/10: 100%|██████████| 2673/2673 [00:23<00:00, 114.47batch/s, loss=0.2279]\n"
          ]
        },
        {
          "output_type": "stream",
          "name": "stdout",
          "text": [
            "Epoch [9/10], Loss: 0.2279\n"
          ]
        },
        {
          "output_type": "stream",
          "name": "stderr",
          "text": [
            "Epoch 10/10: 100%|██████████| 2673/2673 [00:23<00:00, 113.25batch/s, loss=0.2044]\n"
          ]
        },
        {
          "output_type": "stream",
          "name": "stdout",
          "text": [
            "Epoch [10/10], Loss: 0.2044\n",
            "Training Time: 235.54 seconds\n",
            "Accuracy: 57.55%\n",
            "F1 Score: 0.61\n",
            "Precision: 0.74\n",
            "Recall: 0.58\n",
            "Confusion Matrix:\n",
            "[[203  11   0  30   0   1   1   4   0   3   0 153]\n",
            " [ 21 170   2  68   6   1   2   4   4   3   0 121]\n",
            " [  2   0 208   4   4   0  12   2  16  42   0 122]\n",
            " [ 21  51   3 180   0   2   3   5   6   1   0 133]\n",
            " [  1   5   4   3 236   1   1   7  37   5   0 102]\n",
            " [  6   0   0   3  16 148   2   0   3   0   0 218]\n",
            " [  2   0  18   0   1   3 212   0   5   0   0 155]\n",
            " [  4   5   1   5  11   2   0 239  34   1   0 109]\n",
            " [  1   5  17   7  25   1   2  12 241   3   0 111]\n",
            " [  0   0  24   0   0   1   1   1   3 312   0  77]\n",
            " [  0   0   2   1   2   0   0   4   3   0 304  92]\n",
            " [  6   4   6   3   4   9   5   2   5   3   0 361]]\n",
            "Model Size: 132.34 MB\n",
            "Total Parameters: 33574924\n",
            "Trainable Parameters: 33574924\n"
          ]
        }
      ]
    },
    {
      "cell_type": "markdown",
      "source": [
        "# Trying out a resnet"
      ],
      "metadata": {
        "id": "OM5hNqDBb6pc"
      },
      "id": "OM5hNqDBb6pc"
    },
    {
      "cell_type": "code",
      "source": [
        "import tensorflow as tf\n",
        "from tensorflow.keras import layers, models\n",
        "import tensorflow_io as tfio\n",
        "import tensorflow_datasets as tfds\n",
        "\n",
        "# Constants\n",
        "SAMPLE_RATE = 16000\n",
        "EXPECTED_SHAPE = (128, 63, 1)  # Expected input shape for ResNet (same as before)\n",
        "\n",
        "# Function to preprocess audio using TensorFlow IO\n",
        "def preprocess_audio(audio):\n",
        "    # Convert audio to float32\n",
        "    audio = tf.cast(audio, tf.float32) / 32768.0\n",
        "\n",
        "    # Trim the noise from the beginning and the end of the audio signal\n",
        "    position = tfio.audio.trim(audio, axis=0, epsilon=0.05)\n",
        "    start = position[0]\n",
        "    stop = position[1]\n",
        "    audio = audio[start:stop]\n",
        "\n",
        "    # Pad or truncate audio to 1 second\n",
        "    audio = tf.pad(audio, paddings=[[0, SAMPLE_RATE - tf.shape(audio)[0]]], mode='CONSTANT', constant_values=0)\n",
        "    audio = tf.slice(audio, [0], [SAMPLE_RATE])\n",
        "\n",
        "    # Compute spectrogram\n",
        "    spectrogram = tfio.audio.spectrogram(audio, nfft=512, window=512, stride=256)\n",
        "\n",
        "    # Convert to mel-spectrogram\n",
        "    mel_spectrogram = tfio.audio.melscale(spectrogram, rate=SAMPLE_RATE, mels=128, fmin=0, fmax=8000)\n",
        "\n",
        "    # Convert to dB scale\n",
        "    dbscale_mel_spectrogram = tfio.audio.dbscale(mel_spectrogram, top_db=80)\n",
        "\n",
        "    # Transpose and expand dimensions to match the expected ResNet input shape\n",
        "    dbscale_mel_spectrogram = tf.transpose(dbscale_mel_spectrogram)\n",
        "    dbscale_mel_spectrogram = tf.expand_dims(dbscale_mel_spectrogram, axis=-1)\n",
        "\n",
        "    return dbscale_mel_spectrogram\n",
        "\n",
        "# Function to preprocess dataset\n",
        "def preprocess_dataset(dataset):\n",
        "    dataset = dataset.map(lambda x: (preprocess_audio(x['audio']), x['label']), num_parallel_calls=tf.data.experimental.AUTOTUNE)\n",
        "    return dataset\n",
        "\n",
        "\n",
        "# Preprocess datasets\n",
        "train_preprocessed = preprocess_dataset(train)\n",
        "validation_preprocessed = preprocess_dataset(validation)\n",
        "test_preprocessed = preprocess_dataset(test)\n",
        "\n",
        "# Batch and prefetch the datasets\n",
        "BATCH_SIZE = 32\n",
        "train_preprocessed = train_preprocessed.batch(BATCH_SIZE).prefetch(tf.data.experimental.AUTOTUNE)\n",
        "validation_preprocessed = validation_preprocessed.batch(BATCH_SIZE).prefetch(tf.data.experimental.AUTOTUNE)\n",
        "test_preprocessed = test_preprocessed.batch(BATCH_SIZE).prefetch(tf.data.experimental.AUTOTUNE)\n",
        "\n",
        "# Define a simple ResNet-like model\n",
        "def resnet_block(input_tensor, filters, kernel_size=3, strides=1):\n",
        "    x = layers.Conv2D(filters, kernel_size=kernel_size, strides=strides, padding='same', use_bias=False)(input_tensor)\n",
        "    x = layers.BatchNormalization()(x)\n",
        "    x = layers.ReLU()(x)\n",
        "\n",
        "    x = layers.Conv2D(filters, kernel_size=kernel_size, strides=1, padding='same', use_bias=False)(x)\n",
        "    x = layers.BatchNormalization()(x)\n",
        "\n",
        "    shortcut = layers.Conv2D(filters, kernel_size=1, strides=strides, padding='same', use_bias=False)(input_tensor)\n",
        "    shortcut = layers.BatchNormalization()(shortcut)\n",
        "\n",
        "    x = layers.add([x, shortcut])\n",
        "    x = layers.ReLU()(x)\n",
        "    return x\n",
        "\n",
        "def create_resnet(input_shape, num_classes=12):\n",
        "    inputs = layers.Input(shape=input_shape)\n",
        "\n",
        "    x = layers.Conv2D(64, 7, strides=2, padding='same', use_bias=False)(inputs)\n",
        "    x = layers.BatchNormalization()(x)\n",
        "    x = layers.ReLU()(x)\n",
        "    x = layers.MaxPooling2D(pool_size=3, strides=2, padding='same')(x)\n",
        "\n",
        "    x = resnet_block(x, 64)\n",
        "    x = resnet_block(x, 128, strides=2)\n",
        "    x = resnet_block(x, 256, strides=2)\n",
        "\n",
        "    x = layers.GlobalAveragePooling2D()(x)\n",
        "    x = layers.Flatten()(x)\n",
        "    x = layers.Dense(512, activation='relu')(x)\n",
        "    x = layers.Dropout(0.5)(x)\n",
        "    outputs = layers.Dense(num_classes, activation='softmax')(x)\n",
        "\n",
        "    model = models.Model(inputs, outputs)\n",
        "    return model\n",
        "\n",
        "# Input shape based on Mel-spectrograms\n",
        "input_shape = (128, 63, 1)\n",
        "\n",
        "# Create and compile the ResNet model\n",
        "model = create_resnet(input_shape)\n",
        "model.compile(optimizer='adam', loss='sparse_categorical_crossentropy', metrics=['accuracy'])\n",
        "\n",
        "'''\n",
        "# Training the ResNet model\n",
        "EPOCHS = 10\n",
        "history = model.fit(train_preprocessed, validation_data=validation_preprocessed, epochs=EPOCHS)\n",
        "\n",
        "# Evaluate on the test set\n",
        "test_loss, test_accuracy = model.evaluate(test_preprocessed)\n",
        "print(f'Test Accuracy: {test_accuracy * 100:.2f}%')\n",
        "'''\n",
        "benchmark_model(model,train_preprocessed,validation_preprocessed,test_preprocessed, \"ClassicResNet\")"
      ],
      "metadata": {
        "colab": {
          "base_uri": "https://localhost:8080/"
        },
        "id": "ECiyFiVCb9H7",
        "outputId": "febcceb7-f4ac-4ac9-c4f3-5983ab4479d1"
      },
      "id": "ECiyFiVCb9H7",
      "execution_count": 32,
      "outputs": [
        {
          "output_type": "stream",
          "name": "stdout",
          "text": [
            "Epoch 1/10\n",
            "\u001b[1m2673/2673\u001b[0m \u001b[32m━━━━━━━━━━━━━━━━━━━━\u001b[0m\u001b[37m\u001b[0m \u001b[1m47s\u001b[0m 12ms/step - accuracy: 0.6862 - loss: 1.1279 - val_accuracy: 0.8109 - val_loss: 0.5667\n",
            "Epoch 2/10\n",
            "\u001b[1m2673/2673\u001b[0m \u001b[32m━━━━━━━━━━━━━━━━━━━━\u001b[0m\u001b[37m\u001b[0m \u001b[1m18s\u001b[0m 7ms/step - accuracy: 0.8655 - loss: 0.4196 - val_accuracy: 0.8763 - val_loss: 0.3885\n",
            "Epoch 3/10\n",
            "\u001b[1m2673/2673\u001b[0m \u001b[32m━━━━━━━━━━━━━━━━━━━━\u001b[0m\u001b[37m\u001b[0m \u001b[1m19s\u001b[0m 7ms/step - accuracy: 0.9024 - loss: 0.3128 - val_accuracy: 0.8257 - val_loss: 0.5338\n",
            "Epoch 4/10\n",
            "\u001b[1m2673/2673\u001b[0m \u001b[32m━━━━━━━━━━━━━━━━━━━━\u001b[0m\u001b[37m\u001b[0m \u001b[1m18s\u001b[0m 7ms/step - accuracy: 0.9197 - loss: 0.2512 - val_accuracy: 0.8925 - val_loss: 0.3779\n",
            "Epoch 5/10\n",
            "\u001b[1m2673/2673\u001b[0m \u001b[32m━━━━━━━━━━━━━━━━━━━━\u001b[0m\u001b[37m\u001b[0m \u001b[1m19s\u001b[0m 7ms/step - accuracy: 0.9340 - loss: 0.2115 - val_accuracy: 0.9025 - val_loss: 0.3188\n",
            "Epoch 6/10\n",
            "\u001b[1m2673/2673\u001b[0m \u001b[32m━━━━━━━━━━━━━━━━━━━━\u001b[0m\u001b[37m\u001b[0m \u001b[1m19s\u001b[0m 7ms/step - accuracy: 0.9428 - loss: 0.1777 - val_accuracy: 0.9135 - val_loss: 0.2898\n",
            "Epoch 7/10\n",
            "\u001b[1m2673/2673\u001b[0m \u001b[32m━━━━━━━━━━━━━━━━━━━━\u001b[0m\u001b[37m\u001b[0m \u001b[1m19s\u001b[0m 7ms/step - accuracy: 0.9503 - loss: 0.1553 - val_accuracy: 0.9210 - val_loss: 0.3061\n",
            "Epoch 8/10\n",
            "\u001b[1m2673/2673\u001b[0m \u001b[32m━━━━━━━━━━━━━━━━━━━━\u001b[0m\u001b[37m\u001b[0m \u001b[1m18s\u001b[0m 7ms/step - accuracy: 0.9559 - loss: 0.1385 - val_accuracy: 0.9136 - val_loss: 0.3324\n",
            "Epoch 9/10\n",
            "\u001b[1m2673/2673\u001b[0m \u001b[32m━━━━━━━━━━━━━━━━━━━━\u001b[0m\u001b[37m\u001b[0m \u001b[1m18s\u001b[0m 7ms/step - accuracy: 0.9606 - loss: 0.1234 - val_accuracy: 0.9321 - val_loss: 0.2706\n",
            "Epoch 10/10\n",
            "\u001b[1m2673/2673\u001b[0m \u001b[32m━━━━━━━━━━━━━━━━━━━━\u001b[0m\u001b[37m\u001b[0m \u001b[1m18s\u001b[0m 7ms/step - accuracy: 0.9661 - loss: 0.1085 - val_accuracy: 0.9243 - val_loss: 0.3200\n",
            "Training Time: 212.94 seconds\n",
            "\u001b[1m153/153\u001b[0m \u001b[32m━━━━━━━━━━━━━━━━━━━━\u001b[0m\u001b[37m\u001b[0m \u001b[1m4s\u001b[0m 25ms/step - accuracy: 0.8525 - loss: 0.5805\n",
            "Test Accuracy: 84.52%\n",
            "\u001b[1m153/153\u001b[0m \u001b[32m━━━━━━━━━━━━━━━━━━━━\u001b[0m\u001b[37m\u001b[0m \u001b[1m3s\u001b[0m 12ms/step\n"
          ]
        },
        {
          "output_type": "stream",
          "name": "stderr",
          "text": [
            "WARNING:absl:You are saving your model as an HDF5 file via `model.save()` or `keras.saving.save_model(model)`. This file format is considered legacy. We recommend using instead the native Keras format, e.g. `model.save('my_model.keras')` or `keras.saving.save_model(model, 'my_model.keras')`. \n"
          ]
        },
        {
          "output_type": "stream",
          "name": "stdout",
          "text": [
            "F1 Score: 0.86\n",
            "Precision: 0.91\n",
            "Recall: 0.85\n",
            "Confusion Matrix:\n",
            "[[311   4   0  24   0   0   0   6   0   3   0  58]\n",
            " [  1 324   1  29   0   0   0   1   1   2   0  43]\n",
            " [  0   0 372   0   0   0   7   0   0   3   0  30]\n",
            " [  4   6   4 367   0   0   0   0   2   0   0  22]\n",
            " [  0   4   1   1 349   4   0   1  13   0   0  29]\n",
            " [  0   0   0   0  27 318   0   0   2   0   0  49]\n",
            " [  0   0   1   0   0   0 365   0   0   0   0  30]\n",
            " [  7   6   0   2   0   0   0 339  10   0   0  47]\n",
            " [  0   0   0   0  13   0   0   2 353   0   0  57]\n",
            " [  0   0   4   0   0   0   0   0   0 395   0  20]\n",
            " [  0   0   0   0   0   0   0   0   0   0 246 162]\n",
            " [  0   2   0   2   1   3   3   1   1   1   0 394]]\n",
            "Classification Report:\n",
            "              precision    recall  f1-score   support\n",
            "\n",
            "           0       0.96      0.77      0.85       406\n",
            "           1       0.94      0.81      0.87       402\n",
            "           2       0.97      0.90      0.94       412\n",
            "           3       0.86      0.91      0.88       405\n",
            "           4       0.89      0.87      0.88       402\n",
            "           5       0.98      0.80      0.88       396\n",
            "           6       0.97      0.92      0.95       396\n",
            "           7       0.97      0.82      0.89       411\n",
            "           8       0.92      0.83      0.87       425\n",
            "           9       0.98      0.94      0.96       419\n",
            "          10       1.00      0.60      0.75       408\n",
            "          11       0.42      0.97      0.58       408\n",
            "\n",
            "    accuracy                           0.85      4890\n",
            "   macro avg       0.91      0.85      0.86      4890\n",
            "weighted avg       0.91      0.85      0.86      4890\n",
            "\n",
            "Model Size: 15.84 MB\n",
            "Total Parameters: 1371212\n",
            "Trainable Parameters: 1368396\n",
            "Non-trainable Parameters: 2816\n"
          ]
        },
        {
          "output_type": "execute_result",
          "data": {
            "text/plain": [
              "{'Training Time (seconds)': 212.9408769607544,\n",
              " 'Test Accuracy (%)': 84.51942801475525,\n",
              " 'F1 Score': 0.8593827365292133,\n",
              " 'Precision': 0.9057703049137545,\n",
              " 'Recall': 0.8451942740286299,\n",
              " 'Confusion Matrix': array([[311,   4,   0,  24,   0,   0,   0,   6,   0,   3,   0,  58],\n",
              "        [  1, 324,   1,  29,   0,   0,   0,   1,   1,   2,   0,  43],\n",
              "        [  0,   0, 372,   0,   0,   0,   7,   0,   0,   3,   0,  30],\n",
              "        [  4,   6,   4, 367,   0,   0,   0,   0,   2,   0,   0,  22],\n",
              "        [  0,   4,   1,   1, 349,   4,   0,   1,  13,   0,   0,  29],\n",
              "        [  0,   0,   0,   0,  27, 318,   0,   0,   2,   0,   0,  49],\n",
              "        [  0,   0,   1,   0,   0,   0, 365,   0,   0,   0,   0,  30],\n",
              "        [  7,   6,   0,   2,   0,   0,   0, 339,  10,   0,   0,  47],\n",
              "        [  0,   0,   0,   0,  13,   0,   0,   2, 353,   0,   0,  57],\n",
              "        [  0,   0,   4,   0,   0,   0,   0,   0,   0, 395,   0,  20],\n",
              "        [  0,   0,   0,   0,   0,   0,   0,   0,   0,   0, 246, 162],\n",
              "        [  0,   2,   0,   2,   1,   3,   3,   1,   1,   1,   0, 394]]),\n",
              " 'Model Size (MB)': 15.837142944335938,\n",
              " 'Total Parameters': 1371212,\n",
              " 'Trainable Parameters': 1368396,\n",
              " 'Non-trainable Parameters': 2816}"
            ]
          },
          "metadata": {},
          "execution_count": 32
        }
      ]
    },
    {
      "cell_type": "markdown",
      "source": [
        "# Final Resnet and nnAudio combination"
      ],
      "metadata": {
        "id": "EVk8OUOOHj91"
      },
      "id": "EVk8OUOOHj91"
    },
    {
      "cell_type": "code",
      "source": [
        "import os\n",
        "import torch\n",
        "import torch.nn as nn\n",
        "import torch.optim as optim\n",
        "import nnAudio\n",
        "import tensorflow as tf\n",
        "import tensorflow_datasets as tfds\n",
        "from torch.utils.data import DataLoader, IterableDataset\n",
        "from tqdm import tqdm\n",
        "from sklearn.metrics import accuracy_score, f1_score, confusion_matrix, precision_score, recall_score\n",
        "import time\n",
        "\n",
        "# Constants\n",
        "SAMPLE_RATE = 16000\n",
        "DESIRED_LENGTH = 16000\n",
        "BATCH_SIZE = 32\n",
        "EPOCHS = 10\n",
        "NUM_CLASSES = 12\n",
        "\n",
        "# Check if GPU is available and set the device\n",
        "device = torch.device(\"cuda\" if torch.cuda.is_available() else \"cpu\")\n",
        "print(f\"Using device: {device}\")\n",
        "\n",
        "# Preprocessing function (TensorFlow native)\n",
        "def preprocess_audio(audio):\n",
        "    waveform = audio['audio']\n",
        "    label = audio['label']\n",
        "    waveform = tf.squeeze(waveform)\n",
        "    waveform = tf.cast(waveform, tf.float32) / tf.int16.max\n",
        "    # Pad or truncate the waveform to the desired length\n",
        "    waveform = tf.cond(\n",
        "        tf.shape(waveform)[0] < DESIRED_LENGTH,\n",
        "        lambda: tf.pad(waveform, [[0, DESIRED_LENGTH - tf.shape(waveform)[0]]]),\n",
        "        lambda: waveform[:DESIRED_LENGTH]\n",
        "    )\n",
        "    return waveform, label\n",
        "\n",
        "# Apply preprocessing to datasets\n",
        "ds_train = train.map(preprocess_audio)\n",
        "ds_validation = validation.map(preprocess_audio)\n",
        "ds_test = test.map(preprocess_audio)\n",
        "\n",
        "# Batch and prefetch the datasets\n",
        "ds_train = ds_train.batch(BATCH_SIZE).prefetch(tf.data.AUTOTUNE)\n",
        "ds_validation = ds_validation.batch(BATCH_SIZE).prefetch(tf.data.AUTOTUNE)\n",
        "ds_test = ds_test.batch(BATCH_SIZE).prefetch(tf.data.AUTOTUNE)\n",
        "\n",
        "# Custom Dataset class for TensorFlow to PyTorch conversion\n",
        "class TFDatasetToTorch(IterableDataset):\n",
        "    def __init__(self, tf_dataset):\n",
        "        self.tf_dataset = tf_dataset\n",
        "\n",
        "    def __iter__(self):\n",
        "        for waveform, label in self.tf_dataset:\n",
        "            waveform = torch.tensor(waveform.numpy())\n",
        "            label = torch.tensor(label.numpy())\n",
        "            yield waveform, label\n",
        "\n",
        "    def __len__(self):\n",
        "        return tf.data.experimental.cardinality(self.tf_dataset).numpy()\n",
        "\n",
        "# Create PyTorch-compatible DataLoaders with IterableDataset\n",
        "train_loader = DataLoader(TFDatasetToTorch(ds_train), batch_size=None)\n",
        "validation_loader = DataLoader(TFDatasetToTorch(ds_validation), batch_size=None)\n",
        "test_loader = DataLoader(TFDatasetToTorch(ds_test), batch_size=None)\n",
        "\n",
        "# Define a basic Residual Block for ResNet\n",
        "class ResidualBlock(nn.Module):\n",
        "    def __init__(self, in_channels, out_channels, stride=1, downsample=None):\n",
        "        super(ResidualBlock, self).__init__()\n",
        "        self.conv1 = nn.Conv2d(in_channels, out_channels, kernel_size=3, stride=stride, padding=1, bias=False)\n",
        "        self.bn1 = nn.BatchNorm2d(out_channels)\n",
        "        self.relu = nn.ReLU(inplace=True)\n",
        "        self.conv2 = nn.Conv2d(out_channels, out_channels, kernel_size=3, padding=1, bias=False)\n",
        "        self.bn2 = nn.BatchNorm2d(out_channels)\n",
        "        self.downsample = downsample\n",
        "\n",
        "    def forward(self, x):\n",
        "        identity = x\n",
        "        out = self.conv1(x)\n",
        "        out = self.bn1(out)\n",
        "        out = self.relu(out)\n",
        "        out = self.conv2(out)\n",
        "        out = self.bn2(out)\n",
        "\n",
        "        if self.downsample is not None:\n",
        "            identity = self.downsample(x)\n",
        "\n",
        "        out += identity\n",
        "        out = self.relu(out)\n",
        "        return out\n",
        "\n",
        "# ResNet-based architecture with nnAudio for Mel-spectrogram generation\n",
        "class ResNetKWSModel(nn.Module):\n",
        "    def __init__(self):\n",
        "        super(ResNetKWSModel, self).__init__()\n",
        "        # nnAudio Mel-spectrogram layer, GPU accelerated\n",
        "        self.mel_spectrogram = nnAudio.features.MelSpectrogram(n_mels=128, sr=SAMPLE_RATE, n_fft=1024, hop_length=512, verbose=False)\n",
        "        self.conv1 = nn.Conv2d(1, 64, kernel_size=7, stride=2, padding=3, bias=False)\n",
        "        self.bn1 = nn.BatchNorm2d(64)\n",
        "        self.relu = nn.ReLU(inplace=True)\n",
        "        self.maxpool = nn.MaxPool2d(kernel_size=3, stride=2, padding=1)\n",
        "\n",
        "        # Residual blocks\n",
        "        self.layer1 = self._make_layer(64, 64, blocks=2)\n",
        "        self.layer2 = self._make_layer(64, 128, blocks=2, stride=2)\n",
        "        self.layer3 = self._make_layer(128, 256, blocks=2, stride=2)\n",
        "        self.layer4 = self._make_layer(256, 512, blocks=2, stride=2)\n",
        "\n",
        "        self.avgpool = nn.AdaptiveAvgPool2d((1, 1))\n",
        "        self.fc = nn.Linear(512, NUM_CLASSES)\n",
        "\n",
        "    def _make_layer(self, in_channels, out_channels, blocks, stride=1):\n",
        "        downsample = None\n",
        "        if stride != 1 or in_channels != out_channels:\n",
        "            downsample = nn.Sequential(\n",
        "                nn.Conv2d(in_channels, out_channels, kernel_size=1, stride=stride, bias=False),\n",
        "                nn.BatchNorm2d(out_channels),\n",
        "            )\n",
        "\n",
        "        layers = []\n",
        "        layers.append(ResidualBlock(in_channels, out_channels, stride, downsample))\n",
        "        for _ in range(1, blocks):\n",
        "            layers.append(ResidualBlock(out_channels, out_channels))\n",
        "\n",
        "        return nn.Sequential(*layers)\n",
        "\n",
        "    def forward(self, x):\n",
        "        # Compute Mel-spectrogram using nnAudio (GPU-accelerated)\n",
        "        x = self.mel_spectrogram(x)\n",
        "        x = x.unsqueeze(1)  # Add channel dimension\n",
        "        x = self.conv1(x)\n",
        "        x = self.bn1(x)\n",
        "        x = self.relu(x)\n",
        "        x = self.maxpool(x)\n",
        "\n",
        "        # Pass through residual layers\n",
        "        x = self.layer1(x)\n",
        "        x = self.layer2(x)\n",
        "        x = self.layer3(x)\n",
        "        x = self.layer4(x)\n",
        "\n",
        "        x = self.avgpool(x)\n",
        "        x = torch.flatten(x, 1)\n",
        "        x = self.fc(x)\n",
        "        return x\n",
        "\n",
        "# Define evaluation function for metrics\n",
        "def evaluate_model(model, test_loader, criterion):\n",
        "    model.eval()\n",
        "    all_preds = []\n",
        "    all_labels = []\n",
        "    running_loss = 0.0\n",
        "    correct = 0\n",
        "    total = 0\n",
        "\n",
        "    with torch.no_grad():\n",
        "        for inputs, labels in test_loader:\n",
        "            inputs, labels = inputs.to(device), labels.to(device)\n",
        "            outputs = model(inputs)\n",
        "            loss = criterion(outputs, labels)\n",
        "            running_loss += loss.item()\n",
        "            _, preds = torch.max(outputs, 1)\n",
        "            all_preds.extend(preds.cpu().numpy())\n",
        "            all_labels.extend(labels.cpu().numpy())\n",
        "            total += labels.size(0)\n",
        "            correct += (preds == labels).sum().item()\n",
        "\n",
        "    accuracy = 100 * correct / total\n",
        "    avg_loss = running_loss / len(test_loader)\n",
        "    precision = precision_score(all_labels, all_preds, average='weighted')\n",
        "    recall = recall_score(all_labels, all_preds, average='weighted')\n",
        "    f1 = f1_score(all_labels, all_preds, average='weighted')\n",
        "    conf_matrix = confusion_matrix(all_labels, all_preds)\n",
        "\n",
        "    print(f\"Accuracy: {accuracy:.2f}%\")\n",
        "    print(f\"F1 Score: {f1:.2f}\")\n",
        "    print(f\"Precision: {precision:.2f}\")\n",
        "    print(f\"Recall: {recall:.2f}\")\n",
        "    print(\"Confusion Matrix:\")\n",
        "    print(conf_matrix)\n",
        "\n",
        "    return accuracy, avg_loss, precision, recall, f1, conf_matrix\n",
        "\n",
        "# Function to calculate model size in MB\n",
        "def get_model_size(model, model_path):\n",
        "    torch.save(model.state_dict(), model_path)\n",
        "    size = os.path.getsize(model_path) / (1024 * 1024)  # Convert bytes to MB\n",
        "    os.remove(model_path)\n",
        "    return size\n",
        "\n",
        "# Calculate total and trainable parameters\n",
        "def count_parameters(model):\n",
        "    total_params = sum(p.numel() for p in model.parameters())\n",
        "    trainable_params = sum(p.numel() for p in model.parameters() if p.requires_grad)\n",
        "    return total_params, trainable_params\n",
        "\n",
        "# Initialize model, criterion, and optimizer\n",
        "model = ResNetKWSModel().to(device)\n",
        "criterion = nn.CrossEntropyLoss()\n",
        "optimizer = optim.Adam(model.parameters(), lr=0.001)\n",
        "\n",
        "# Start timing for training\n",
        "start_time = time.time()\n",
        "\n",
        "# Training loop with validation\n",
        "for epoch in range(EPOCHS):\n",
        "    running_loss = 0.0\n",
        "    model.train()\n",
        "    with tqdm(total=len(train_loader), desc=f'Epoch {epoch+1}/{EPOCHS}') as pbar:\n",
        "        for inputs, labels in train_loader:\n",
        "            inputs, labels = inputs.to(device), labels.to(device)\n",
        "            optimizer.zero_grad()\n",
        "            outputs = model(inputs)\n",
        "            loss = criterion(outputs, labels)\n",
        "            loss.backward()\n",
        "            optimizer.step()\n",
        "            running_loss += loss.item()\n",
        "            pbar.set_postfix(loss=f'{running_loss / len(train_loader):.4f}')\n",
        "            pbar.update(1)\n",
        "\n",
        "    # Validation after each epoch\n",
        "    model.eval()\n",
        "    val_loss = 0.0\n",
        "    val_correct = 0\n",
        "    total_samples = 0\n",
        "    with torch.no_grad():\n",
        "        for inputs, labels in validation_loader:\n",
        "            inputs, labels = inputs.to(device), labels.to(device)\n",
        "            outputs = model(inputs)\n",
        "            loss = criterion(outputs, labels)\n",
        "            val_loss += loss.item()\n",
        "            _, preds = torch.max(outputs, 1)\n",
        "            val_correct += (preds == labels).sum().item()\n",
        "            total_samples += labels.size(0)\n",
        "\n",
        "    val_accuracy = val_correct / total_samples\n",
        "    print(f'Epoch [{epoch+1}/{EPOCHS}], Validation Loss: {val_loss / len(validation_loader):.4f}, Validation Accuracy: {val_accuracy:.4f}')\n",
        "\n",
        "# Calculate training time\n",
        "total_time = time.time() - start_time\n",
        "print(f\"Training Time: {total_time:.2f} seconds\")\n",
        "\n",
        "# Final Evaluation on Test Data\n",
        "accuracy, avg_loss, precision, recall, f1, conf_matrix = evaluate_model(model, test_loader, criterion)\n",
        "\n",
        "# Save the model and calculate its size\n",
        "model_path = \"resnet_kws_model.pth\"\n",
        "model_size = get_model_size(model, model_path)\n",
        "print(f\"Model Size: {model_size:.2f} MB\")\n",
        "\n",
        "# Count total and trainable parameters\n",
        "total_params, trainable_params = count_parameters(model)\n",
        "print(f\"Total Parameters: {total_params}\")\n",
        "print(f\"Trainable Parameters: {trainable_params}\")\n"
      ],
      "metadata": {
        "colab": {
          "base_uri": "https://localhost:8080/"
        },
        "id": "9PxRQAhcHnCm",
        "outputId": "03d376ba-1338-439b-d4b4-875b4c9d26a7"
      },
      "id": "9PxRQAhcHnCm",
      "execution_count": 60,
      "outputs": [
        {
          "output_type": "stream",
          "name": "stdout",
          "text": [
            "Using device: cuda\n"
          ]
        },
        {
          "output_type": "stream",
          "name": "stderr",
          "text": [
            "Epoch 1/10: 100%|██████████| 2673/2673 [00:44<00:00, 60.37it/s, loss=0.8206]\n"
          ]
        },
        {
          "output_type": "stream",
          "name": "stdout",
          "text": [
            "Epoch [1/10], Validation Loss: 4.3075, Validation Accuracy: 0.2907\n"
          ]
        },
        {
          "output_type": "stream",
          "name": "stderr",
          "text": [
            "Epoch 2/10: 100%|██████████| 2673/2673 [00:43<00:00, 61.33it/s, loss=0.4194]\n"
          ]
        },
        {
          "output_type": "stream",
          "name": "stdout",
          "text": [
            "Epoch [2/10], Validation Loss: 3.0984, Validation Accuracy: 0.4141\n"
          ]
        },
        {
          "output_type": "stream",
          "name": "stderr",
          "text": [
            "Epoch 3/10: 100%|██████████| 2673/2673 [00:43<00:00, 61.14it/s, loss=0.3142]\n"
          ]
        },
        {
          "output_type": "stream",
          "name": "stdout",
          "text": [
            "Epoch [3/10], Validation Loss: 4.4033, Validation Accuracy: 0.3673\n"
          ]
        },
        {
          "output_type": "stream",
          "name": "stderr",
          "text": [
            "Epoch 4/10: 100%|██████████| 2673/2673 [00:43<00:00, 60.97it/s, loss=0.2518]\n"
          ]
        },
        {
          "output_type": "stream",
          "name": "stdout",
          "text": [
            "Epoch [4/10], Validation Loss: 5.0775, Validation Accuracy: 0.3695\n"
          ]
        },
        {
          "output_type": "stream",
          "name": "stderr",
          "text": [
            "Epoch 5/10: 100%|██████████| 2673/2673 [00:43<00:00, 61.47it/s, loss=0.2030]\n"
          ]
        },
        {
          "output_type": "stream",
          "name": "stdout",
          "text": [
            "Epoch [5/10], Validation Loss: 9.6803, Validation Accuracy: 0.1875\n"
          ]
        },
        {
          "output_type": "stream",
          "name": "stderr",
          "text": [
            "Epoch 6/10: 100%|██████████| 2673/2673 [00:43<00:00, 61.29it/s, loss=0.1649]\n"
          ]
        },
        {
          "output_type": "stream",
          "name": "stdout",
          "text": [
            "Epoch [6/10], Validation Loss: 9.3585, Validation Accuracy: 0.2439\n"
          ]
        },
        {
          "output_type": "stream",
          "name": "stderr",
          "text": [
            "Epoch 7/10: 100%|██████████| 2673/2673 [00:43<00:00, 60.92it/s, loss=0.1388]\n"
          ]
        },
        {
          "output_type": "stream",
          "name": "stdout",
          "text": [
            "Epoch [7/10], Validation Loss: 5.6015, Validation Accuracy: 0.3968\n"
          ]
        },
        {
          "output_type": "stream",
          "name": "stderr",
          "text": [
            "Epoch 8/10: 100%|██████████| 2673/2673 [00:43<00:00, 61.13it/s, loss=0.1154]\n"
          ]
        },
        {
          "output_type": "stream",
          "name": "stdout",
          "text": [
            "Epoch [8/10], Validation Loss: 5.8002, Validation Accuracy: 0.3854\n"
          ]
        },
        {
          "output_type": "stream",
          "name": "stderr",
          "text": [
            "Epoch 9/10: 100%|██████████| 2673/2673 [00:43<00:00, 61.17it/s, loss=0.0961]\n"
          ]
        },
        {
          "output_type": "stream",
          "name": "stdout",
          "text": [
            "Epoch [9/10], Validation Loss: 8.3710, Validation Accuracy: 0.3381\n"
          ]
        },
        {
          "output_type": "stream",
          "name": "stderr",
          "text": [
            "Epoch 10/10: 100%|██████████| 2673/2673 [00:43<00:00, 61.22it/s, loss=0.0831]\n"
          ]
        },
        {
          "output_type": "stream",
          "name": "stdout",
          "text": [
            "Epoch [10/10], Validation Loss: 12.0775, Validation Accuracy: 0.2425\n",
            "Training Time: 458.73 seconds\n",
            "Accuracy: 23.25%\n",
            "F1 Score: 0.24\n",
            "Precision: 0.78\n",
            "Recall: 0.23\n",
            "Confusion Matrix:\n",
            "[[ 93   1   3   1   0   0   0   3   0   1 255  49]\n",
            " [  0  42   1   0   0   0   0   0   0   0 305  54]\n",
            " [  0   0 100   0   0   0   0   0   0   3 293  16]\n",
            " [  0   5   6  31   0   0   0   2   0   0 279  82]\n",
            " [  0   0   0   0  22   1   0   0   3   0 367   9]\n",
            " [  0   0   0   0   1 112   0   0   0   0 257  26]\n",
            " [  0   0  10   0   0   0  59   0   0   0 230  97]\n",
            " [  0   1   0   0   0   0   0  48   0   0 354   8]\n",
            " [  0   0   2   0   0   1   0   4  39   0 356  23]\n",
            " [  0   0  32   0   0   0   0   0   0  49 275  63]\n",
            " [  0   0   0   0   0   0   0   0   0   0 408   0]\n",
            " [  0   0   3   0   1   0   0   0   0   0 270 134]]\n",
            "Model Size: 46.97 MB\n",
            "Total Parameters: 11176396\n",
            "Trainable Parameters: 11176396\n"
          ]
        }
      ]
    },
    {
      "cell_type": "code",
      "source": [
        "\n",
        "# Model size (in MB)\n",
        "model_path = os.path.join('/content/drive/MyDrive/Colab Notebooks/models/', 'Resnet+nnAudio_epochs10.h5')\n",
        "model.save(model_path)\n",
        "model_size = os.path.getsize(model_path) / (1024 * 1024)  # Convert to MB\n",
        "print(f'Model Size: {model_size:.2f} MB')\n",
        "\n",
        "# Number of parameters\n",
        "total_params = model.count_params()\n",
        "trainable_params = np.sum([tf.keras.backend.count_params(p) for p in model.trainable_weights])\n",
        "non_trainable_params = total_params - trainable_params\n",
        "\n",
        "print(f\"Total Parameters: {total_params}\")\n",
        "print(f\"Trainable Parameters: {trainable_params}\")\n",
        "print(f\"Non-trainable Parameters: {non_trainable_params}\")\n"
      ],
      "metadata": {
        "colab": {
          "base_uri": "https://localhost:8080/",
          "height": 332
        },
        "id": "581RyB_RIFek",
        "outputId": "53ebaa72-7e41-4ccb-bf83-2d61c8dbfcda"
      },
      "id": "581RyB_RIFek",
      "execution_count": 37,
      "outputs": [
        {
          "output_type": "error",
          "ename": "AttributeError",
          "evalue": "'ResNetKWSModel' object has no attribute 'save'",
          "traceback": [
            "\u001b[0;31m---------------------------------------------------------------------------\u001b[0m",
            "\u001b[0;31mAttributeError\u001b[0m                            Traceback (most recent call last)",
            "\u001b[0;32m<ipython-input-37-d91cc3aba203>\u001b[0m in \u001b[0;36m<cell line: 3>\u001b[0;34m()\u001b[0m\n\u001b[1;32m      1\u001b[0m \u001b[0;31m# Model size (in MB)\u001b[0m\u001b[0;34m\u001b[0m\u001b[0;34m\u001b[0m\u001b[0m\n\u001b[1;32m      2\u001b[0m \u001b[0mmodel_path\u001b[0m \u001b[0;34m=\u001b[0m \u001b[0mos\u001b[0m\u001b[0;34m.\u001b[0m\u001b[0mpath\u001b[0m\u001b[0;34m.\u001b[0m\u001b[0mjoin\u001b[0m\u001b[0;34m(\u001b[0m\u001b[0;34m'/content/drive/MyDrive/Colab Notebooks/models/'\u001b[0m\u001b[0;34m,\u001b[0m \u001b[0;34m'Resnet+nnAudio_epochs10.h5'\u001b[0m\u001b[0;34m)\u001b[0m\u001b[0;34m\u001b[0m\u001b[0;34m\u001b[0m\u001b[0m\n\u001b[0;32m----> 3\u001b[0;31m \u001b[0mmodel\u001b[0m\u001b[0;34m.\u001b[0m\u001b[0msave\u001b[0m\u001b[0;34m(\u001b[0m\u001b[0mmodel_path\u001b[0m\u001b[0;34m)\u001b[0m\u001b[0;34m\u001b[0m\u001b[0;34m\u001b[0m\u001b[0m\n\u001b[0m\u001b[1;32m      4\u001b[0m \u001b[0mmodel_size\u001b[0m \u001b[0;34m=\u001b[0m \u001b[0mos\u001b[0m\u001b[0;34m.\u001b[0m\u001b[0mpath\u001b[0m\u001b[0;34m.\u001b[0m\u001b[0mgetsize\u001b[0m\u001b[0;34m(\u001b[0m\u001b[0mmodel_path\u001b[0m\u001b[0;34m)\u001b[0m \u001b[0;34m/\u001b[0m \u001b[0;34m(\u001b[0m\u001b[0;36m1024\u001b[0m \u001b[0;34m*\u001b[0m \u001b[0;36m1024\u001b[0m\u001b[0;34m)\u001b[0m  \u001b[0;31m# Convert to MB\u001b[0m\u001b[0;34m\u001b[0m\u001b[0;34m\u001b[0m\u001b[0m\n\u001b[1;32m      5\u001b[0m \u001b[0mprint\u001b[0m\u001b[0;34m(\u001b[0m\u001b[0;34mf'Model Size: {model_size:.2f} MB'\u001b[0m\u001b[0;34m)\u001b[0m\u001b[0;34m\u001b[0m\u001b[0;34m\u001b[0m\u001b[0m\n",
            "\u001b[0;32m/usr/local/lib/python3.10/dist-packages/torch/nn/modules/module.py\u001b[0m in \u001b[0;36m__getattr__\u001b[0;34m(self, name)\u001b[0m\n\u001b[1;32m   1727\u001b[0m             \u001b[0;32mif\u001b[0m \u001b[0mname\u001b[0m \u001b[0;32min\u001b[0m \u001b[0mmodules\u001b[0m\u001b[0;34m:\u001b[0m\u001b[0;34m\u001b[0m\u001b[0;34m\u001b[0m\u001b[0m\n\u001b[1;32m   1728\u001b[0m                 \u001b[0;32mreturn\u001b[0m \u001b[0mmodules\u001b[0m\u001b[0;34m[\u001b[0m\u001b[0mname\u001b[0m\u001b[0;34m]\u001b[0m\u001b[0;34m\u001b[0m\u001b[0;34m\u001b[0m\u001b[0m\n\u001b[0;32m-> 1729\u001b[0;31m         \u001b[0;32mraise\u001b[0m \u001b[0mAttributeError\u001b[0m\u001b[0;34m(\u001b[0m\u001b[0;34mf\"'{type(self).__name__}' object has no attribute '{name}'\"\u001b[0m\u001b[0;34m)\u001b[0m\u001b[0;34m\u001b[0m\u001b[0;34m\u001b[0m\u001b[0m\n\u001b[0m\u001b[1;32m   1730\u001b[0m \u001b[0;34m\u001b[0m\u001b[0m\n\u001b[1;32m   1731\u001b[0m     \u001b[0;32mdef\u001b[0m \u001b[0m__setattr__\u001b[0m\u001b[0;34m(\u001b[0m\u001b[0mself\u001b[0m\u001b[0;34m,\u001b[0m \u001b[0mname\u001b[0m\u001b[0;34m:\u001b[0m \u001b[0mstr\u001b[0m\u001b[0;34m,\u001b[0m \u001b[0mvalue\u001b[0m\u001b[0;34m:\u001b[0m \u001b[0mUnion\u001b[0m\u001b[0;34m[\u001b[0m\u001b[0mTensor\u001b[0m\u001b[0;34m,\u001b[0m \u001b[0;34m'Module'\u001b[0m\u001b[0;34m]\u001b[0m\u001b[0;34m)\u001b[0m \u001b[0;34m->\u001b[0m \u001b[0;32mNone\u001b[0m\u001b[0;34m:\u001b[0m\u001b[0;34m\u001b[0m\u001b[0;34m\u001b[0m\u001b[0m\n",
            "\u001b[0;31mAttributeError\u001b[0m: 'ResNetKWSModel' object has no attribute 'save'"
          ]
        }
      ]
    },
    {
      "cell_type": "markdown",
      "source": [
        "# Final CNN and nnAudio combination"
      ],
      "metadata": {
        "id": "1YnIcksdl6mF"
      },
      "id": "1YnIcksdl6mF"
    },
    {
      "cell_type": "code",
      "source": [
        "import tensorflow as tf\n",
        "import torch\n",
        "import torch.nn as nn\n",
        "import torch.optim as optim\n",
        "import nnAudio\n",
        "from torch.utils.data import DataLoader, IterableDataset\n",
        "from sklearn.metrics import accuracy_score, f1_score, confusion_matrix, precision_score, recall_score, classification_report\n",
        "import numpy as np\n",
        "from tqdm import tqdm\n",
        "import time\n",
        "import os\n",
        "\n",
        "# Constants\n",
        "SAMPLE_RATE = 16000\n",
        "DESIRED_LENGTH = 16000  # 1 second of audio\n",
        "BATCH_SIZE = 32\n",
        "EPOCHS = 10\n",
        "NUM_CLASSES = 12  # For the speech commands dataset\n",
        "\n",
        "# Custom IterableDataset class to convert TensorFlow data to PyTorch tensors\n",
        "class TFDatasetToTorch(IterableDataset):\n",
        "    def __init__(self, tf_dataset):\n",
        "        self.tf_dataset = tf_dataset\n",
        "        self.length = tf.data.experimental.cardinality(self.tf_dataset).numpy()\n",
        "\n",
        "\n",
        "    def __iter__(self):\n",
        "        for waveform, label in self.tf_dataset:\n",
        "            waveform = torch.tensor(waveform.numpy())\n",
        "            label = torch.tensor(label.numpy())\n",
        "            yield waveform, label\n",
        "    def __len__(self):\n",
        "          return self.length  # Return dataset length\n",
        "# Define the model\n",
        "class OptimalKWSModel(nn.Module):\n",
        "    def __init__(self):\n",
        "        super(OptimalKWSModel, self).__init__()\n",
        "        # nnAudio Mel-spectrogram layer, using GPU acceleration\n",
        "        self.mel_spectrogram = nnAudio.features.MelSpectrogram(n_mels=128, sr=SAMPLE_RATE, n_fft=1024, hop_length=512, verbose=False)\n",
        "\n",
        "        # Convolutional layers for feature extraction\n",
        "        self.conv1 = nn.Conv2d(1, 32, kernel_size=(3, 3), stride=(1, 1), padding=(1, 1))\n",
        "        self.conv2 = nn.Conv2d(32, 64, kernel_size=(3, 3), stride=(1, 1), padding=(1, 1))\n",
        "\n",
        "        # Fully connected layers\n",
        "        self.fc1 = nn.Linear(64 * 128 * 32, 128)  # Adjust input size for your data\n",
        "        self.fc2 = nn.Linear(128, NUM_CLASSES)  # Final output layer with 12 classes\n",
        "\n",
        "    def forward(self, x):\n",
        "        # Compute Mel-spectrogram using nnAudio (GPU-accelerated)\n",
        "        x = self.mel_spectrogram(x)\n",
        "        x = x.unsqueeze(1)  # Add channel dimension\n",
        "\n",
        "        # Apply convolutional layers\n",
        "        x = torch.relu(self.conv1(x))\n",
        "        x = torch.relu(self.conv2(x))\n",
        "\n",
        "        # Flatten and pass through fully connected layers\n",
        "        x = x.view(x.size(0), -1)  # Flatten\n",
        "        x = torch.relu(self.fc1(x))\n",
        "        x = self.fc2(x)\n",
        "        return x\n",
        "\n",
        "# Function to evaluate the model\n",
        "def evaluate_model(model, test_loader, criterion):\n",
        "    model.eval()\n",
        "    all_preds = []\n",
        "    all_labels = []\n",
        "    running_loss = 0.0\n",
        "    correct = 0\n",
        "    total = 0\n",
        "\n",
        "    with torch.no_grad():\n",
        "        for inputs, labels in test_loader:\n",
        "            inputs, labels = inputs.to(device), labels.to(device)\n",
        "            outputs = model(inputs)\n",
        "            loss = criterion(outputs, labels)\n",
        "            running_loss += loss.item()\n",
        "            _, preds = torch.max(outputs, 1)\n",
        "            all_preds.extend(preds.cpu().numpy())\n",
        "            all_labels.extend(labels.cpu().numpy())\n",
        "            total += labels.size(0)\n",
        "            correct += (preds == labels).sum().item()\n",
        "\n",
        "    accuracy = 100 * correct / total\n",
        "    avg_loss = running_loss / len(test_loader)\n",
        "    precision = precision_score(all_labels, all_preds, average='weighted')\n",
        "    recall = recall_score(all_labels, all_preds, average='weighted')\n",
        "    f1 = f1_score(all_labels, all_preds, average='weighted')\n",
        "    conf_matrix = confusion_matrix(all_labels, all_preds)\n",
        "\n",
        "    print(f\"Accuracy: {accuracy:.2f}%\")\n",
        "    print(f\"F1 Score: {f1:.2f}\")\n",
        "    print(f\"Precision: {precision:.2f}\")\n",
        "    print(f\"Recall: {recall:.2f}\")\n",
        "    print(\"Confusion Matrix:\")\n",
        "    print(conf_matrix)\n",
        "\n",
        "    return accuracy, avg_loss, precision, recall, f1, conf_matrix\n",
        "\n",
        "# Function to calculate model size in MB\n",
        "def get_model_size(model, model_path):\n",
        "    torch.save(model.state_dict(), model_path)\n",
        "    size = os.path.getsize(model_path) / (1024 * 1024)  # Convert bytes to MB\n",
        "    os.remove(model_path)\n",
        "    return size\n",
        "\n",
        "# Calculate total and trainable parameters\n",
        "def count_parameters(model):\n",
        "    total_params = sum(p.numel() for p in model.parameters())\n",
        "    trainable_params = sum(p.numel() for p in model.parameters() if p.requires_grad)\n",
        "    return total_params, trainable_params\n",
        "\n",
        "# Initialize model, optimizer, and loss function\n",
        "device = torch.device(\"cuda\" if torch.cuda.is_available() else \"cpu\")\n",
        "model = OptimalKWSModel().to(device)\n",
        "criterion = nn.CrossEntropyLoss()\n",
        "optimizer = optim.Adam(model.parameters(), lr=0.001)\n",
        "\n",
        "# Convert TensorFlow dataset to PyTorch DataLoader\n",
        "train_loader = DataLoader(TFDatasetToTorch(ds_train), batch_size=None)\n",
        "validation_loader = DataLoader(TFDatasetToTorch(ds_validation), batch_size=None)\n",
        "test_loader = DataLoader(TFDatasetToTorch(ds_test), batch_size=None)\n",
        "\n",
        "# Training loop\n",
        "start_time = time.time()\n",
        "for epoch in range(EPOCHS):\n",
        "    running_loss = 0.0\n",
        "    model.train()\n",
        "    with tqdm(total=tf.data.experimental.cardinality(ds_train).numpy(), desc=f'Epoch {epoch+1}/{EPOCHS}') as pbar:\n",
        "        for inputs, labels in train_loader:\n",
        "            inputs, labels = inputs.to(device), labels.to(device)\n",
        "            optimizer.zero_grad()\n",
        "            outputs = model(inputs)\n",
        "            loss = criterion(outputs, labels)\n",
        "            loss.backward()\n",
        "            optimizer.step()\n",
        "            running_loss += loss.item()\n",
        "            pbar.set_postfix(loss=running_loss / (tf.data.experimental.cardinality(ds_train).numpy()))\n",
        "            pbar.update(1)\n",
        "\n",
        "# Training time\n",
        "total_training_time = time.time() - start_time\n",
        "print(f\"Training Time: {total_training_time:.2f} seconds\")\n",
        "\n",
        "# Evaluate the model\n",
        "accuracy, avg_loss, precision, recall, f1, conf_matrix = evaluate_model(model, test_loader, criterion)\n",
        "\n",
        "# Save the model and calculate its size\n",
        "model_path = \"optimal_kws_model.pth\"\n",
        "model_size = get_model_size(model, model_path)\n",
        "print(f\"Model Size: {model_size:.2f} MB\")\n",
        "\n",
        "# Count total and trainable parameters\n",
        "total_params, trainable_params = count_parameters(model)\n",
        "print(f\"Total Parameters: {total_params}\")\n",
        "print(f\"Trainable Parameters: {trainable_params}\")\n"
      ],
      "metadata": {
        "colab": {
          "base_uri": "https://localhost:8080/"
        },
        "id": "Bryv3VUxl-TT",
        "outputId": "4381d385-6166-4235-9a2b-151425bba42f"
      },
      "id": "Bryv3VUxl-TT",
      "execution_count": 57,
      "outputs": [
        {
          "output_type": "stream",
          "name": "stderr",
          "text": [
            "Epoch 1/10: 100%|██████████| 2673/2673 [00:24<00:00, 111.17it/s, loss=1.2]\n",
            "Epoch 2/10: 100%|██████████| 2673/2673 [00:24<00:00, 109.91it/s, loss=0.835]\n",
            "Epoch 3/10: 100%|██████████| 2673/2673 [00:23<00:00, 113.69it/s, loss=0.669]\n",
            "Epoch 4/10: 100%|██████████| 2673/2673 [00:23<00:00, 112.71it/s, loss=0.559]\n",
            "Epoch 5/10: 100%|██████████| 2673/2673 [00:23<00:00, 112.82it/s, loss=0.483]\n",
            "Epoch 6/10: 100%|██████████| 2673/2673 [00:23<00:00, 112.42it/s, loss=0.419]\n",
            "Epoch 7/10: 100%|██████████| 2673/2673 [00:23<00:00, 113.30it/s, loss=0.367]\n",
            "Epoch 8/10: 100%|██████████| 2673/2673 [00:23<00:00, 113.98it/s, loss=0.325]\n",
            "Epoch 9/10: 100%|██████████| 2673/2673 [00:24<00:00, 110.45it/s, loss=0.286]\n",
            "Epoch 10/10: 100%|██████████| 2673/2673 [00:23<00:00, 112.62it/s, loss=0.257]\n"
          ]
        },
        {
          "output_type": "stream",
          "name": "stdout",
          "text": [
            "Training Time: 238.08 seconds\n",
            "Accuracy: 60.88%\n",
            "F1 Score: 0.64\n",
            "Precision: 0.77\n",
            "Recall: 0.61\n",
            "Confusion Matrix:\n",
            "[[184  17   1  10   1   0   1   3   3   1   0 185]\n",
            " [ 19 170   1  22   6   2   0   8   6   1   0 167]\n",
            " [  0   0 223   3   5   1  25   0  14  28   0 113]\n",
            " [ 23  38   4 153   3   2   4   5   6   1   0 166]\n",
            " [  0   1   3   0 278   7   0   2  22   1   0  88]\n",
            " [  1   0   0   0  48 178   3   1   2   0   0 163]\n",
            " [  0   0  10   0   2   1 235   0   4   4   0 140]\n",
            " [  3   7   2   1   3   2   0 243  25   0   0 125]\n",
            " [  0   1  11   0  58   4   3  20 236   0   0  92]\n",
            " [  0   0  19   2   3   0   3   0   1 334   0  57]\n",
            " [  0   0   0   0   0   0   0   0   0   0 364  44]\n",
            " [  3   2   4   2   2   3   6   1   3   3   0 379]]\n",
            "Model Size: 132.34 MB\n",
            "Total Parameters: 33574924\n",
            "Trainable Parameters: 33574924\n"
          ]
        }
      ]
    },
    {
      "cell_type": "code",
      "source": [
        "# Evaluation loop\n",
        "model.eval()\n",
        "all_preds = []\n",
        "all_labels = []\n",
        "\n",
        "with torch.no_grad():\n",
        "    for inputs, labels in test_loader:\n",
        "        inputs, labels = inputs.to(device), labels.to(device)\n",
        "        outputs = model(inputs)\n",
        "        _, preds = torch.max(outputs, 1)\n",
        "        all_preds.extend(preds.cpu().numpy())\n",
        "        all_labels.extend(labels.cpu().numpy())\n",
        "\n",
        "# Metrics calculation\n",
        "accuracy = accuracy_score(all_labels, all_preds)\n",
        "f1 = f1_score(all_labels, all_preds, average='weighted')\n",
        "conf_matrix = confusion_matrix(all_labels, all_preds)\n",
        "\n",
        "print(f'Accuracy: {accuracy:.4f}')\n",
        "print(f'F1 Score: {f1:.4f}')\n",
        "print(f'Confusion Matrix:\\n{conf_matrix}')\n",
        "\n",
        "# Plot the training results\n",
        "plt.show(plt.figure(figsize=(10, 5)))\n"
      ],
      "metadata": {
        "colab": {
          "base_uri": "https://localhost:8080/",
          "height": 312
        },
        "id": "xwZ0dNtNAix3",
        "outputId": "3b438e2c-1b82-416c-f9a6-0d300a8f1d42"
      },
      "id": "xwZ0dNtNAix3",
      "execution_count": 37,
      "outputs": [
        {
          "output_type": "stream",
          "name": "stdout",
          "text": [
            "Accuracy: 0.6875\n",
            "F1 Score: 0.7141\n",
            "Confusion Matrix:\n",
            "[[261  14   0  19   1   2   2  12   0   1   0  94]\n",
            " [ 24 219   4  29   2   1   2   3   3   1   0 114]\n",
            " [  0   1 259   0   1   0  10   4   9  29   0  99]\n",
            " [ 23  54   4 198   3   1   0   1   4   2   0 115]\n",
            " [  0   3   6   2 261  14   1   4  42   0   0  69]\n",
            " [  4   1   0   0  19 254   0   2   7   0   0 109]\n",
            " [  0   2  17   1   1   0 229   0   1   0   0 145]\n",
            " [  5   3   3   5   5   0   0 311  21   0   0  58]\n",
            " [  1   0   5   1  22   8   1  29 295   0   0  63]\n",
            " [  0   0  15   3   0   0   0   2   1 341   0  57]\n",
            " [  3   0   0   0   1   2   0   2   2   0 365  33]\n",
            " [  2   4   9   3   0  10   4   3   2   2   0 369]]\n"
          ]
        },
        {
          "output_type": "execute_result",
          "data": {
            "text/plain": [
              "<Figure size 1000x500 with 0 Axes>"
            ]
          },
          "metadata": {},
          "execution_count": 37
        },
        {
          "output_type": "display_data",
          "data": {
            "text/plain": [
              "<Figure size 1000x500 with 0 Axes>"
            ]
          },
          "metadata": {}
        }
      ]
    },
    {
      "cell_type": "markdown",
      "source": [
        "# Benchmarking"
      ],
      "metadata": {
        "id": "q0hsELjJNmKQ"
      },
      "id": "q0hsELjJNmKQ"
    },
    {
      "cell_type": "markdown",
      "source": [
        "## preprocessing"
      ],
      "metadata": {
        "id": "YLhKiHv6NpfT"
      },
      "id": "YLhKiHv6NpfT"
    },
    {
      "cell_type": "code",
      "source": [
        "import time\n",
        "import torch\n",
        "import torch.nn as nn\n",
        "import torch.optim as optim\n",
        "import tensorflow as tf\n",
        "import tensorflow_datasets as tfds\n",
        "import tensorflow_io as tfio\n",
        "import nnAudio\n",
        "from torch.utils.data import DataLoader, IterableDataset\n",
        "from tqdm import tqdm\n",
        "from sklearn.metrics import accuracy_score, f1_score, confusion_matrix\n",
        "\n",
        "# Constants\n",
        "SAMPLE_RATE = 16000\n",
        "DESIRED_LENGTH = 16000\n",
        "BATCH_SIZE = 32\n",
        "EPOCHS = 10\n",
        "NUM_CLASSES = 12\n",
        "\n",
        "# Check if GPU is available and set the device\n",
        "device = torch.device(\"cuda\" if torch.cuda.is_available() else \"cpu\")\n",
        "print(f\"Using device: {device}\")\n",
        "\n",
        "# Preprocessing function (TensorFlow native)\n",
        "def preprocess_audio_tf(audio):\n",
        "    waveform = audio['audio']\n",
        "    label = audio['label']\n",
        "    waveform = tf.squeeze(waveform)\n",
        "    waveform = tf.cast(waveform, tf.float32) / tf.int16.max\n",
        "    # Pad or truncate the waveform to the desired length\n",
        "    waveform = tf.cond(\n",
        "        tf.shape(waveform)[0] < DESIRED_LENGTH,\n",
        "        lambda: tf.pad(waveform, [[0, DESIRED_LENGTH - tf.shape(waveform)[0]]]),\n",
        "        lambda: waveform[:DESIRED_LENGTH]\n",
        "    )\n",
        "\n",
        "    # TensorFlow native Mel-spectrogram\n",
        "    spectrogram = tfio.audio.spectrogram(waveform, nfft=512, window=512, stride=256)\n",
        "    mel_spectrogram = tfio.audio.melscale(spectrogram, rate=SAMPLE_RATE, mels=128, fmin=0, fmax=8000)\n",
        "    dbscale_mel_spectrogram = tfio.audio.dbscale(mel_spectrogram, top_db=80)\n",
        "    dbscale_mel_spectrogram = tf.transpose(dbscale_mel_spectrogram)\n",
        "    dbscale_mel_spectrogram = tf.expand_dims(dbscale_mel_spectrogram, axis=-1)\n",
        "\n",
        "    return dbscale_mel_spectrogram, label\n",
        "\n",
        "# Preprocessing function (nnAudio)\n",
        "def preprocess_audio_nnaudio(audio):\n",
        "    waveform = audio['audio']\n",
        "    label = audio['label']\n",
        "    waveform = tf.squeeze(waveform)\n",
        "    waveform = tf.cast(waveform, tf.float32) / tf.int16.max\n",
        "    waveform = tf.cond(\n",
        "        tf.shape(waveform)[0] < DESIRED_LENGTH,\n",
        "        lambda: tf.pad(waveform, [[0, DESIRED_LENGTH - tf.shape(waveform)[0]]]),\n",
        "        lambda: waveform[:DESIRED_LENGTH]\n",
        "    )\n",
        "\n",
        "    # Define a PyTorch tensor conversion function using nnAudio\n",
        "    def compute_mel_spectrogram(audio_np):\n",
        "        audio_pt = torch.tensor(audio_np, dtype=torch.float32).unsqueeze(0)  # Add batch dimension\n",
        "        mel_spec = nnAudio.features.MelSpectrogram(sr=SAMPLE_RATE, n_mels=128, n_fft=512, hop_length=256)(audio_pt)\n",
        "        db_mel_spectrogram = torch.log10(mel_spec + 1e-6)\n",
        "        return db_mel_spectrogram.squeeze(0).cpu().numpy()\n",
        "\n",
        "    # Use tf.py_function to wrap nnAudio\n",
        "    db_mel_spectrogram = tf.py_function(func=compute_mel_spectrogram, inp=[waveform], Tout=tf.float32)\n",
        "    db_mel_spectrogram.set_shape([128, 63])\n",
        "    db_mel_spectrogram = tf.expand_dims(db_mel_spectrogram, axis=-1)\n",
        "\n",
        "    return db_mel_spectrogram, label\n",
        "\n",
        "# Load datasets\n",
        "\n",
        "# Time the preprocessing (TensorFlow native)\n",
        "start_time = time.time()\n",
        "ds_train_tf = train.map(preprocess_audio_tf).batch(BATCH_SIZE).prefetch(tf.data.AUTOTUNE)\n",
        "ds_validation_tf = validation.map(preprocess_audio_tf).batch(BATCH_SIZE).prefetch(tf.data.AUTOTUNE)\n",
        "ds_test_tf = test.map(preprocess_audio_tf).batch(BATCH_SIZE).prefetch(tf.data.AUTOTUNE)\n",
        "tf_preprocessing_time = time.time() - start_time\n",
        "print(f\"TensorFlow native preprocessing time: {tf_preprocessing_time:.2f} seconds\")\n",
        "\n",
        "# Time the preprocessing (nnAudio)\n",
        "start_time = time.time()\n",
        "ds_train_nnaudio = train.map(preprocess_audio_nnaudio).batch(BATCH_SIZE).prefetch(tf.data.AUTOTUNE)\n",
        "ds_validation_nnaudio = validation.map(preprocess_audio_nnaudio).batch(BATCH_SIZE).prefetch(tf.data.AUTOTUNE)\n",
        "ds_test_nnaudio = test.map(preprocess_audio_nnaudio).batch(BATCH_SIZE).prefetch(tf.data.AUTOTUNE)\n",
        "nnaudio_preprocessing_time = time.time() - start_time\n",
        "print(f\"nnAudio preprocessing time: {nnaudio_preprocessing_time:.2f} seconds\")\n"
      ],
      "metadata": {
        "colab": {
          "base_uri": "https://localhost:8080/"
        },
        "id": "B7ylNqaCNnn_",
        "outputId": "b1d4ae63-c35d-47f8-aef4-0056374fafce"
      },
      "id": "B7ylNqaCNnn_",
      "execution_count": 39,
      "outputs": [
        {
          "output_type": "stream",
          "name": "stdout",
          "text": [
            "Using device: cuda\n",
            "TensorFlow native preprocessing time: 3.24 seconds\n",
            "nnAudio preprocessing time: 0.63 seconds\n"
          ]
        }
      ]
    },
    {
      "cell_type": "markdown",
      "source": [
        "## training"
      ],
      "metadata": {
        "id": "tv9OTemONzYn"
      },
      "id": "tv9OTemONzYn"
    },
    {
      "cell_type": "markdown",
      "source": [
        "# Data Visualization and Realization"
      ],
      "metadata": {
        "id": "B_vMqDy5_tUI"
      },
      "id": "B_vMqDy5_tUI"
    },
    {
      "cell_type": "code",
      "execution_count": null,
      "id": "2f528e4248c7318",
      "metadata": {
        "ExecuteTime": {
          "end_time": "2024-06-15T16:04:06.132854Z",
          "start_time": "2024-06-15T16:04:06.106107Z"
        },
        "id": "2f528e4248c7318"
      },
      "outputs": [],
      "source": [
        "# make ds to be ds, label\n",
        "train_labeled = train.map(lambda x: (x['audio'], x['label']))\n",
        "validation_labeled = validation.map(lambda x: (x['audio'], x['label']))\n",
        "test_labeled = test.map(lambda x: (x['audio'], x['label']))\n"
      ]
    },
    {
      "cell_type": "code",
      "execution_count": null,
      "id": "1973ab47edaa0515",
      "metadata": {
        "ExecuteTime": {
          "end_time": "2024-06-15T16:25:01.066852Z",
          "start_time": "2024-06-15T16:25:00.997281Z"
        },
        "colab": {
          "base_uri": "https://localhost:8080/"
        },
        "id": "1973ab47edaa0515",
        "outputId": "d48ae146-18d6-4a2a-d2f2-218fae545105"
      },
      "outputs": [
        {
          "name": "stdout",
          "output_type": "stream",
          "text": [
            "4\n"
          ]
        }
      ],
      "source": [
        "for example in train_labeled.take(1):\n",
        "    raw_audio_tensor = example[0]\n",
        "    print(example[1].numpy())"
      ]
    },
    {
      "cell_type": "code",
      "execution_count": null,
      "id": "8fbcb85483bdf452",
      "metadata": {
        "ExecuteTime": {
          "end_time": "2024-06-15T16:25:49.859563Z",
          "start_time": "2024-06-15T16:25:49.290770Z"
        },
        "colab": {
          "base_uri": "https://localhost:8080/",
          "height": 447
        },
        "id": "8fbcb85483bdf452",
        "outputId": "9b735f6f-bc25-4f5c-8329-604d5f6e2f2d"
      },
      "outputs": [
        {
          "data": {
            "text/plain": [
              "[<matplotlib.lines.Line2D at 0x7a7e88b37ca0>]"
            ]
          },
          "execution_count": 16,
          "metadata": {},
          "output_type": "execute_result"
        },
        {
          "data": {
            "image/png": "[encoded data removed]",
            "text/plain": [
              "<Figure size 640x480 with 1 Axes>"
            ]
          },
          "metadata": {},
          "output_type": "display_data"
        }
      ],
      "source": [
        "import matplotlib.pyplot as plt\n",
        "# plot the raw audio signal\n",
        "tensor = tf.cast(raw_audio_tensor, tf.float32) / 32768.0\n",
        "plt.figure()\n",
        "plt.plot(tensor.numpy())"
      ]
    },
    {
      "cell_type": "code",
      "execution_count": null,
      "id": "34021ffe8671a692",
      "metadata": {
        "ExecuteTime": {
          "end_time": "2024-06-15T16:29:35.185481Z",
          "start_time": "2024-06-15T16:29:35.174506Z"
        },
        "colab": {
          "base_uri": "https://localhost:8080/"
        },
        "id": "34021ffe8671a692",
        "outputId": "7ce70a02-42ef-42a1-de76-907ba68884d7"
      },
      "outputs": [
        {
          "name": "stdout",
          "output_type": "stream",
          "text": [
            "tf.Tensor([3001 6544], shape=(2,), dtype=int64)\n",
            "tf.Tensor(3001, shape=(), dtype=int64) tf.Tensor(6544, shape=(), dtype=int64)\n"
          ]
        }
      ],
      "source": [
        "# Trim the noise from the beginning and the end of the audio signal\n",
        "position = tfio.audio.trim(tensor, axis=0, epsilon=0.05)\n",
        "print(position)\n",
        "start = position[0]\n",
        "stop = position[1]\n",
        "print(start, stop)\n",
        "# getting a tensor object of the start and stop sample of the actual phrase (elimiating preceding and succeeding noise)"
      ]
    },
    {
      "cell_type": "code",
      "execution_count": null,
      "id": "a0d5a67904642d56",
      "metadata": {
        "ExecuteTime": {
          "end_time": "2024-06-15T16:29:35.876688Z",
          "start_time": "2024-06-15T16:29:35.805532Z"
        },
        "colab": {
          "base_uri": "https://localhost:8080/",
          "height": 447
        },
        "id": "a0d5a67904642d56",
        "outputId": "ff795ddb-1f3d-4187-f6e5-d03ac99e1355"
      },
      "outputs": [
        {
          "data": {
            "text/plain": [
              "[<matplotlib.lines.Line2D at 0x7a7e83d0a620>]"
            ]
          },
          "execution_count": 18,
          "metadata": {},
          "output_type": "execute_result"
        },
        {
          "data": {
            "image/png": "[encoded data removed]",
            "text/plain": [
              "<Figure size 640x480 with 1 Axes>"
            ]
          },
          "metadata": {},
          "output_type": "display_data"
        }
      ],
      "source": [
        "processed = tensor[start:stop]\n",
        "plt.figure()\n",
        "plt.plot(processed.numpy())\n",
        "# we can see that the singal was shifted the start from 0"
      ]
    },
    {
      "cell_type": "code",
      "execution_count": null,
      "id": "1e67d25a22a520df",
      "metadata": {
        "ExecuteTime": {
          "end_time": "2024-06-15T16:31:40.292188Z",
          "start_time": "2024-06-15T16:31:40.288151Z"
        },
        "colab": {
          "base_uri": "https://localhost:8080/",
          "height": 93
        },
        "id": "1e67d25a22a520df",
        "outputId": "9de2600c-faab-41fb-da0a-194de88ec2fd"
      },
      "outputs": [
        {
          "name": "stdout",
          "output_type": "stream",
          "text": [
            "Original audio\n"
          ]
        },
        {
          "data": {
            "text/html": [
              "\n",
              "                <audio  controls=\"controls\" >\n",
              "                    <source src=\"data:audio/wav;base64,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\" type=\"audio/wav\" />\n",
              "                    Your browser does not support the audio element.\n",
              "                </audio>\n",
              "              "
            ],
            "text/plain": [
              "<IPython.lib.display.Audio object>"
            ]
          },
          "execution_count": 19,
          "metadata": {},
          "output_type": "execute_result"
        }
      ],
      "source": [
        "# play the original audio\n",
        "print('Original audio')\n",
        "Audio(tensor.numpy(), rate=SAMPLE_RATE)"
      ]
    },
    {
      "cell_type": "code",
      "execution_count": null,
      "id": "3d3a9e0b3b5e222d",
      "metadata": {
        "ExecuteTime": {
          "end_time": "2024-06-15T16:31:55.562987Z",
          "start_time": "2024-06-15T16:31:55.559367Z"
        },
        "colab": {
          "base_uri": "https://localhost:8080/",
          "height": 93
        },
        "id": "3d3a9e0b3b5e222d",
        "outputId": "c2fc3c0d-a61f-479d-df2f-6c9c7904a2d2"
      },
      "outputs": [
        {
          "name": "stdout",
          "output_type": "stream",
          "text": [
            "Processed audio\n"
          ]
        },
        {
          "data": {
            "text/html": [
              "\n",
              "                <audio  controls=\"controls\" >\n",
              "                    <source src=\"data:audio/wav;base64,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\" type=\"audio/wav\" />\n",
              "                    Your browser does not support the audio element.\n",
              "                </audio>\n",
              "              "
            ],
            "text/plain": [
              "<IPython.lib.display.Audio object>"
            ]
          },
          "execution_count": 20,
          "metadata": {},
          "output_type": "execute_result"
        }
      ],
      "source": [
        "# play the processed audio - no surrounding noise\n",
        "print('Processed audio')\n",
        "Audio(processed.numpy(), rate=SAMPLE_RATE)"
      ]
    },
    {
      "cell_type": "markdown",
      "id": "5EVNWXQfmY65",
      "metadata": {
        "id": "5EVNWXQfmY65"
      },
      "source": []
    },
    {
      "cell_type": "markdown",
      "id": "rQTDun2rvqjQ",
      "metadata": {
        "id": "rQTDun2rvqjQ"
      },
      "source": [
        "More preprocessing"
      ]
    },
    {
      "cell_type": "code",
      "execution_count": null,
      "id": "6e586bfdd00110ff",
      "metadata": {
        "ExecuteTime": {
          "end_time": "2024-06-15T16:54:13.763970Z",
          "start_time": "2024-06-15T16:54:13.633502Z"
        },
        "colab": {
          "base_uri": "https://localhost:8080/",
          "height": 278
        },
        "id": "6e586bfdd00110ff",
        "outputId": "75504a9c-3580-4c88-c50c-ffdeb1ecff71"
      },
      "outputs": [
        {
          "data": {
            "text/plain": [
              "<matplotlib.image.AxesImage at 0x7a7e88b84070>"
            ]
          },
          "execution_count": 21,
          "metadata": {},
          "output_type": "execute_result"
        },
        {
          "data": {
            "image/png": "[encoded data removed]",
            "text/plain": [
              "<Figure size 640x480 with 1 Axes>"
            ]
          },
          "metadata": {},
          "output_type": "display_data"
        },
        {
          "data": {
            "image/png": "[encoded data removed]",
            "text/plain": [
              "<Figure size 640x480 with 1 Axes>"
            ]
          },
          "metadata": {},
          "output_type": "display_data"
        }
      ],
      "source": [
        "# Convert to spectrogram - some sort of STFT being applied\n",
        "original_spectrogram = tfio.audio.spectrogram(\n",
        "    tensor, nfft=512, window=512, stride=256)\n",
        "\n",
        "plt.figure()\n",
        "plt.imshow(tf.math.log(original_spectrogram).numpy())\n",
        "\n",
        "processed_spectrogram = tfio.audio.spectrogram(processed, nfft=512, window=512, stride=256)\n",
        "plt.figure()\n",
        "plt.imshow(tf.math.log(processed_spectrogram).numpy())"
      ]
    },
    {
      "cell_type": "code",
      "execution_count": null,
      "id": "398aacc9b3a6354c",
      "metadata": {
        "ExecuteTime": {
          "end_time": "2024-06-15T16:53:19.398052Z",
          "start_time": "2024-06-15T16:53:19.358487Z"
        },
        "colab": {
          "base_uri": "https://localhost:8080/",
          "height": 75
        },
        "id": "398aacc9b3a6354c",
        "outputId": "76e7e1e6-0c75-42b9-f133-6e85e9332d71"
      },
      "outputs": [
        {
          "data": {
            "text/html": [
              "\n",
              "                <audio  controls=\"controls\" >\n",
              "                    <source src=\"data:audio/wav;base64,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\" type=\"audio/wav\" />\n",
              "                    Your browser does not support the audio element.\n",
              "                </audio>\n",
              "              "
            ],
            "text/plain": [
              "<IPython.lib.display.Audio object>"
            ]
          },
          "execution_count": 22,
          "metadata": {},
          "output_type": "execute_result"
        }
      ],
      "source": [
        "# fill processed_audio with zeros\n",
        "padded_processed_audio = tf.pad(processed, paddings=[[0, SAMPLE_RATE - tf.shape(processed)[0]]], mode='CONSTANT', constant_values=0)\n",
        "Audio(padded_processed_audio.numpy(), rate=SAMPLE_RATE)"
      ]
    },
    {
      "cell_type": "code",
      "execution_count": null,
      "id": "77d818441ee79794",
      "metadata": {
        "ExecuteTime": {
          "end_time": "2024-06-15T16:56:29.461904Z",
          "start_time": "2024-06-15T16:56:29.334186Z"
        },
        "colab": {
          "base_uri": "https://localhost:8080/",
          "height": 616
        },
        "id": "77d818441ee79794",
        "outputId": "260085c3-3bcb-423a-c732-c5c921bc6499"
      },
      "outputs": [
        {
          "data": {
            "text/plain": [
              "<matplotlib.image.AxesImage at 0x7a7e80d6ee90>"
            ]
          },
          "execution_count": 23,
          "metadata": {},
          "output_type": "execute_result"
        },
        {
          "data": {
            "image/png": "[encoded data removed]",
            "text/plain": [
              "<Figure size 640x480 with 1 Axes>"
            ]
          },
          "metadata": {},
          "output_type": "display_data"
        },
        {
          "data": {
            "image/png": "[encoded data removed]",
            "text/plain": [
              "<Figure size 640x480 with 1 Axes>"
            ]
          },
          "metadata": {},
          "output_type": "display_data"
        }
      ],
      "source": [
        "# Convert to mel-spectrogram\n",
        "mel_spectrogram = tfio.audio.melscale(\n",
        "    original_spectrogram, rate=16000, mels=128, fmin=0, fmax=8000)\n",
        "\n",
        "\n",
        "plt.figure()\n",
        "plt.imshow(tf.math.log(mel_spectrogram).numpy())\n",
        "\n",
        "# Convert to db scale mel-spectrogram\n",
        "dbscale_mel_spectrogram = tfio.audio.dbscale(\n",
        "    mel_spectrogram, top_db=80)\n",
        "\n",
        "plt.figure()\n",
        "plt.imshow(dbscale_mel_spectrogram.numpy())"
      ]
    },
    {
      "cell_type": "code",
      "execution_count": null,
      "id": "ZEzeys4cuT0H",
      "metadata": {
        "id": "ZEzeys4cuT0H"
      },
      "outputs": [],
      "source": []
    }
  ],
  "metadata": {
    "accelerator": "GPU",
    "colab": {
      "gpuType": "A100",
      "provenance": [],
      "collapsed_sections": [
        "Olf1FH9vwGg8",
        "M-XKuyC8OP0Q",
        "HD8DWYRs_3Kp",
        "EL83fFmDJQdI",
        "uudQHgKWQx36",
        "OM5hNqDBb6pc",
        "EVk8OUOOHj91",
        "1YnIcksdl6mF",
        "q0hsELjJNmKQ",
        "B_vMqDy5_tUI"
      ],
      "toc_visible": true
    },
    "kernelspec": {
      "display_name": "Python 3",
      "name": "python3"
    },
    "language_info": {
      "codemirror_mode": {
        "name": "ipython",
        "version": 3
      },
      "file_extension": ".py",
      "mimetype": "text/x-python",
      "name": "python",
      "nbconvert_exporter": "python",
      "pygments_lexer": "ipython3",
      "version": "3.9.15"
    },
    "widgets": {
      "application/vnd.jupyter.widget-state+json": {
        "01068b379336488e8d084717688627f6": {
          "model_module": "@jupyter-widgets/controls",
          "model_name": "HBoxModel",
          "model_module_version": "1.5.0",
          "state": {
            "_dom_classes": [],
            "_model_module": "@jupyter-widgets/controls",
            "_model_module_version": "1.5.0",
            "_model_name": "HBoxModel",
            "_view_count": null,
            "_view_module": "@jupyter-widgets/controls",
            "_view_module_version": "1.5.0",
            "_view_name": "HBoxView",
            "box_style": "",
            "children": [
              "IPY_MODEL_9a01d1f708e9479c9d3053f74e2cabd7",
              "IPY_MODEL_b23d6353c83a4e478b5429e7da5ab153",
              "IPY_MODEL_c55e52381b9c4fdb89cb1f4455add227"
            ],
            "layout": "IPY_MODEL_0983628c69164fedbb8f3e5f8c5d37b0"
          }
        },
        "9a01d1f708e9479c9d3053f74e2cabd7": {
          "model_module": "@jupyter-widgets/controls",
          "model_name": "HTMLModel",
          "model_module_version": "1.5.0",
          "state": {
            "_dom_classes": [],
            "_model_module": "@jupyter-widgets/controls",
            "_model_module_version": "1.5.0",
            "_model_name": "HTMLModel",
            "_view_count": null,
            "_view_module": "@jupyter-widgets/controls",
            "_view_module_version": "1.5.0",
            "_view_name": "HTMLView",
            "description": "",
            "description_tooltip": null,
            "layout": "IPY_MODEL_e7f57de8d06447a2ab6bc5da64963a5b",
            "placeholder": "​",
            "style": "IPY_MODEL_2841cd144bc24b57a7635565117febc8",
            "value": "Dl Completed...: 100%"
          }
        },
        "b23d6353c83a4e478b5429e7da5ab153": {
          "model_module": "@jupyter-widgets/controls",
          "model_name": "FloatProgressModel",
          "model_module_version": "1.5.0",
          "state": {
            "_dom_classes": [],
            "_model_module": "@jupyter-widgets/controls",
            "_model_module_version": "1.5.0",
            "_model_name": "FloatProgressModel",
            "_view_count": null,
            "_view_module": "@jupyter-widgets/controls",
            "_view_module_version": "1.5.0",
            "_view_name": "ProgressView",
            "bar_style": "success",
            "description": "",
            "description_tooltip": null,
            "layout": "IPY_MODEL_7412bea10e404df2a0dc256621616763",
            "max": 1,
            "min": 0,
            "orientation": "horizontal",
            "style": "IPY_MODEL_7b7b5d73d15744b58d86d5df7931711b",
            "value": 1
          }
        },
        "c55e52381b9c4fdb89cb1f4455add227": {
          "model_module": "@jupyter-widgets/controls",
          "model_name": "HTMLModel",
          "model_module_version": "1.5.0",
          "state": {
            "_dom_classes": [],
            "_model_module": "@jupyter-widgets/controls",
            "_model_module_version": "1.5.0",
            "_model_name": "HTMLModel",
            "_view_count": null,
            "_view_module": "@jupyter-widgets/controls",
            "_view_module_version": "1.5.0",
            "_view_name": "HTMLView",
            "description": "",
            "description_tooltip": null,
            "layout": "IPY_MODEL_2d3b9d8c386f4ccb9719d740571ec229",
            "placeholder": "​",
            "style": "IPY_MODEL_887d886ac7f740fb9ba8cb6992777294",
            "value": " 2/2 [01:43&lt;00:00, 59.63s/ url]"
          }
        },
        "0983628c69164fedbb8f3e5f8c5d37b0": {
          "model_module": "@jupyter-widgets/base",
          "model_name": "LayoutModel",
          "model_module_version": "1.2.0",
          "state": {
            "_model_module": "@jupyter-widgets/base",
            "_model_module_version": "1.2.0",
            "_model_name": "LayoutModel",
            "_view_count": null,
            "_view_module": "@jupyter-widgets/base",
            "_view_module_version": "1.2.0",
            "_view_name": "LayoutView",
            "align_content": null,
            "align_items": null,
            "align_self": null,
            "border": null,
            "bottom": null,
            "display": null,
            "flex": null,
            "flex_flow": null,
            "grid_area": null,
            "grid_auto_columns": null,
            "grid_auto_flow": null,
            "grid_auto_rows": null,
            "grid_column": null,
            "grid_gap": null,
            "grid_row": null,
            "grid_template_areas": null,
            "grid_template_columns": null,
            "grid_template_rows": null,
            "height": null,
            "justify_content": null,
            "justify_items": null,
            "left": null,
            "margin": null,
            "max_height": null,
            "max_width": null,
            "min_height": null,
            "min_width": null,
            "object_fit": null,
            "object_position": null,
            "order": null,
            "overflow": null,
            "overflow_x": null,
            "overflow_y": null,
            "padding": null,
            "right": null,
            "top": null,
            "visibility": null,
            "width": null
          }
        },
        "e7f57de8d06447a2ab6bc5da64963a5b": {
          "model_module": "@jupyter-widgets/base",
          "model_name": "LayoutModel",
          "model_module_version": "1.2.0",
          "state": {
            "_model_module": "@jupyter-widgets/base",
            "_model_module_version": "1.2.0",
            "_model_name": "LayoutModel",
            "_view_count": null,
            "_view_module": "@jupyter-widgets/base",
            "_view_module_version": "1.2.0",
            "_view_name": "LayoutView",
            "align_content": null,
            "align_items": null,
            "align_self": null,
            "border": null,
            "bottom": null,
            "display": null,
            "flex": null,
            "flex_flow": null,
            "grid_area": null,
            "grid_auto_columns": null,
            "grid_auto_flow": null,
            "grid_auto_rows": null,
            "grid_column": null,
            "grid_gap": null,
            "grid_row": null,
            "grid_template_areas": null,
            "grid_template_columns": null,
            "grid_template_rows": null,
            "height": null,
            "justify_content": null,
            "justify_items": null,
            "left": null,
            "margin": null,
            "max_height": null,
            "max_width": null,
            "min_height": null,
            "min_width": null,
            "object_fit": null,
            "object_position": null,
            "order": null,
            "overflow": null,
            "overflow_x": null,
            "overflow_y": null,
            "padding": null,
            "right": null,
            "top": null,
            "visibility": null,
            "width": null
          }
        },
        "2841cd144bc24b57a7635565117febc8": {
          "model_module": "@jupyter-widgets/controls",
          "model_name": "DescriptionStyleModel",
          "model_module_version": "1.5.0",
          "state": {
            "_model_module": "@jupyter-widgets/controls",
            "_model_module_version": "1.5.0",
            "_model_name": "DescriptionStyleModel",
            "_view_count": null,
            "_view_module": "@jupyter-widgets/base",
            "_view_module_version": "1.2.0",
            "_view_name": "StyleView",
            "description_width": ""
          }
        },
        "7412bea10e404df2a0dc256621616763": {
          "model_module": "@jupyter-widgets/base",
          "model_name": "LayoutModel",
          "model_module_version": "1.2.0",
          "state": {
            "_model_module": "@jupyter-widgets/base",
            "_model_module_version": "1.2.0",
            "_model_name": "LayoutModel",
            "_view_count": null,
            "_view_module": "@jupyter-widgets/base",
            "_view_module_version": "1.2.0",
            "_view_name": "LayoutView",
            "align_content": null,
            "align_items": null,
            "align_self": null,
            "border": null,
            "bottom": null,
            "display": null,
            "flex": null,
            "flex_flow": null,
            "grid_area": null,
            "grid_auto_columns": null,
            "grid_auto_flow": null,
            "grid_auto_rows": null,
            "grid_column": null,
            "grid_gap": null,
            "grid_row": null,
            "grid_template_areas": null,
            "grid_template_columns": null,
            "grid_template_rows": null,
            "height": null,
            "justify_content": null,
            "justify_items": null,
            "left": null,
            "margin": null,
            "max_height": null,
            "max_width": null,
            "min_height": null,
            "min_width": null,
            "object_fit": null,
            "object_position": null,
            "order": null,
            "overflow": null,
            "overflow_x": null,
            "overflow_y": null,
            "padding": null,
            "right": null,
            "top": null,
            "visibility": null,
            "width": "20px"
          }
        },
        "7b7b5d73d15744b58d86d5df7931711b": {
          "model_module": "@jupyter-widgets/controls",
          "model_name": "ProgressStyleModel",
          "model_module_version": "1.5.0",
          "state": {
            "_model_module": "@jupyter-widgets/controls",
            "_model_module_version": "1.5.0",
            "_model_name": "ProgressStyleModel",
            "_view_count": null,
            "_view_module": "@jupyter-widgets/base",
            "_view_module_version": "1.2.0",
            "_view_name": "StyleView",
            "bar_color": null,
            "description_width": ""
          }
        },
        "2d3b9d8c386f4ccb9719d740571ec229": {
          "model_module": "@jupyter-widgets/base",
          "model_name": "LayoutModel",
          "model_module_version": "1.2.0",
          "state": {
            "_model_module": "@jupyter-widgets/base",
            "_model_module_version": "1.2.0",
            "_model_name": "LayoutModel",
            "_view_count": null,
            "_view_module": "@jupyter-widgets/base",
            "_view_module_version": "1.2.0",
            "_view_name": "LayoutView",
            "align_content": null,
            "align_items": null,
            "align_self": null,
            "border": null,
            "bottom": null,
            "display": null,
            "flex": null,
            "flex_flow": null,
            "grid_area": null,
            "grid_auto_columns": null,
            "grid_auto_flow": null,
            "grid_auto_rows": null,
            "grid_column": null,
            "grid_gap": null,
            "grid_row": null,
            "grid_template_areas": null,
            "grid_template_columns": null,
            "grid_template_rows": null,
            "height": null,
            "justify_content": null,
            "justify_items": null,
            "left": null,
            "margin": null,
            "max_height": null,
            "max_width": null,
            "min_height": null,
            "min_width": null,
            "object_fit": null,
            "object_position": null,
            "order": null,
            "overflow": null,
            "overflow_x": null,
            "overflow_y": null,
            "padding": null,
            "right": null,
            "top": null,
            "visibility": null,
            "width": null
          }
        },
        "887d886ac7f740fb9ba8cb6992777294": {
          "model_module": "@jupyter-widgets/controls",
          "model_name": "DescriptionStyleModel",
          "model_module_version": "1.5.0",
          "state": {
            "_model_module": "@jupyter-widgets/controls",
            "_model_module_version": "1.5.0",
            "_model_name": "DescriptionStyleModel",
            "_view_count": null,
            "_view_module": "@jupyter-widgets/base",
            "_view_module_version": "1.2.0",
            "_view_name": "StyleView",
            "description_width": ""
          }
        },
        "b27cd907142548dbb5d57ea8cd879a76": {
          "model_module": "@jupyter-widgets/controls",
          "model_name": "HBoxModel",
          "model_module_version": "1.5.0",
          "state": {
            "_dom_classes": [],
            "_model_module": "@jupyter-widgets/controls",
            "_model_module_version": "1.5.0",
            "_model_name": "HBoxModel",
            "_view_count": null,
            "_view_module": "@jupyter-widgets/controls",
            "_view_module_version": "1.5.0",
            "_view_name": "HBoxView",
            "box_style": "",
            "children": [
              "IPY_MODEL_542f3a6d4bce40e2b3db313620a37309",
              "IPY_MODEL_1ece4907d4a54b339daa2ed30ba2c6ec",
              "IPY_MODEL_c1a602d9397f4fe6b494ad8c59fd8bb0"
            ],
            "layout": "IPY_MODEL_5c2601439b0b4a7ebf94deda9c686479"
          }
        },
        "542f3a6d4bce40e2b3db313620a37309": {
          "model_module": "@jupyter-widgets/controls",
          "model_name": "HTMLModel",
          "model_module_version": "1.5.0",
          "state": {
            "_dom_classes": [],
            "_model_module": "@jupyter-widgets/controls",
            "_model_module_version": "1.5.0",
            "_model_name": "HTMLModel",
            "_view_count": null,
            "_view_module": "@jupyter-widgets/controls",
            "_view_module_version": "1.5.0",
            "_view_name": "HTMLView",
            "description": "",
            "description_tooltip": null,
            "layout": "IPY_MODEL_016d026af3554c8082951b98a70a5101",
            "placeholder": "​",
            "style": "IPY_MODEL_f64f98d2dcbc48aab810516e9ca7a520",
            "value": "Dl Size...: 100%"
          }
        },
        "1ece4907d4a54b339daa2ed30ba2c6ec": {
          "model_module": "@jupyter-widgets/controls",
          "model_name": "FloatProgressModel",
          "model_module_version": "1.5.0",
          "state": {
            "_dom_classes": [],
            "_model_module": "@jupyter-widgets/controls",
            "_model_module_version": "1.5.0",
            "_model_name": "FloatProgressModel",
            "_view_count": null,
            "_view_module": "@jupyter-widgets/controls",
            "_view_module_version": "1.5.0",
            "_view_name": "ProgressView",
            "bar_style": "success",
            "description": "",
            "description_tooltip": null,
            "layout": "IPY_MODEL_26058d1e78254ab1b7f429e9902a000d",
            "max": 1,
            "min": 0,
            "orientation": "horizontal",
            "style": "IPY_MODEL_84da8b06091440f7b69bac804cb8661d",
            "value": 1
          }
        },
        "c1a602d9397f4fe6b494ad8c59fd8bb0": {
          "model_module": "@jupyter-widgets/controls",
          "model_name": "HTMLModel",
          "model_module_version": "1.5.0",
          "state": {
            "_dom_classes": [],
            "_model_module": "@jupyter-widgets/controls",
            "_model_module_version": "1.5.0",
            "_model_name": "HTMLModel",
            "_view_count": null,
            "_view_module": "@jupyter-widgets/controls",
            "_view_module_version": "1.5.0",
            "_view_name": "HTMLView",
            "description": "",
            "description_tooltip": null,
            "layout": "IPY_MODEL_306fba23cf9b4b1996b798269972eade",
            "placeholder": "​",
            "style": "IPY_MODEL_f7b9ed0c76534f33bee960d131cc85ca",
            "value": " 2423/2423 [01:43&lt;00:00, 22.80 MiB/s]"
          }
        },
        "5c2601439b0b4a7ebf94deda9c686479": {
          "model_module": "@jupyter-widgets/base",
          "model_name": "LayoutModel",
          "model_module_version": "1.2.0",
          "state": {
            "_model_module": "@jupyter-widgets/base",
            "_model_module_version": "1.2.0",
            "_model_name": "LayoutModel",
            "_view_count": null,
            "_view_module": "@jupyter-widgets/base",
            "_view_module_version": "1.2.0",
            "_view_name": "LayoutView",
            "align_content": null,
            "align_items": null,
            "align_self": null,
            "border": null,
            "bottom": null,
            "display": null,
            "flex": null,
            "flex_flow": null,
            "grid_area": null,
            "grid_auto_columns": null,
            "grid_auto_flow": null,
            "grid_auto_rows": null,
            "grid_column": null,
            "grid_gap": null,
            "grid_row": null,
            "grid_template_areas": null,
            "grid_template_columns": null,
            "grid_template_rows": null,
            "height": null,
            "justify_content": null,
            "justify_items": null,
            "left": null,
            "margin": null,
            "max_height": null,
            "max_width": null,
            "min_height": null,
            "min_width": null,
            "object_fit": null,
            "object_position": null,
            "order": null,
            "overflow": null,
            "overflow_x": null,
            "overflow_y": null,
            "padding": null,
            "right": null,
            "top": null,
            "visibility": null,
            "width": null
          }
        },
        "016d026af3554c8082951b98a70a5101": {
          "model_module": "@jupyter-widgets/base",
          "model_name": "LayoutModel",
          "model_module_version": "1.2.0",
          "state": {
            "_model_module": "@jupyter-widgets/base",
            "_model_module_version": "1.2.0",
            "_model_name": "LayoutModel",
            "_view_count": null,
            "_view_module": "@jupyter-widgets/base",
            "_view_module_version": "1.2.0",
            "_view_name": "LayoutView",
            "align_content": null,
            "align_items": null,
            "align_self": null,
            "border": null,
            "bottom": null,
            "display": null,
            "flex": null,
            "flex_flow": null,
            "grid_area": null,
            "grid_auto_columns": null,
            "grid_auto_flow": null,
            "grid_auto_rows": null,
            "grid_column": null,
            "grid_gap": null,
            "grid_row": null,
            "grid_template_areas": null,
            "grid_template_columns": null,
            "grid_template_rows": null,
            "height": null,
            "justify_content": null,
            "justify_items": null,
            "left": null,
            "margin": null,
            "max_height": null,
            "max_width": null,
            "min_height": null,
            "min_width": null,
            "object_fit": null,
            "object_position": null,
            "order": null,
            "overflow": null,
            "overflow_x": null,
            "overflow_y": null,
            "padding": null,
            "right": null,
            "top": null,
            "visibility": null,
            "width": null
          }
        },
        "f64f98d2dcbc48aab810516e9ca7a520": {
          "model_module": "@jupyter-widgets/controls",
          "model_name": "DescriptionStyleModel",
          "model_module_version": "1.5.0",
          "state": {
            "_model_module": "@jupyter-widgets/controls",
            "_model_module_version": "1.5.0",
            "_model_name": "DescriptionStyleModel",
            "_view_count": null,
            "_view_module": "@jupyter-widgets/base",
            "_view_module_version": "1.2.0",
            "_view_name": "StyleView",
            "description_width": ""
          }
        },
        "26058d1e78254ab1b7f429e9902a000d": {
          "model_module": "@jupyter-widgets/base",
          "model_name": "LayoutModel",
          "model_module_version": "1.2.0",
          "state": {
            "_model_module": "@jupyter-widgets/base",
            "_model_module_version": "1.2.0",
            "_model_name": "LayoutModel",
            "_view_count": null,
            "_view_module": "@jupyter-widgets/base",
            "_view_module_version": "1.2.0",
            "_view_name": "LayoutView",
            "align_content": null,
            "align_items": null,
            "align_self": null,
            "border": null,
            "bottom": null,
            "display": null,
            "flex": null,
            "flex_flow": null,
            "grid_area": null,
            "grid_auto_columns": null,
            "grid_auto_flow": null,
            "grid_auto_rows": null,
            "grid_column": null,
            "grid_gap": null,
            "grid_row": null,
            "grid_template_areas": null,
            "grid_template_columns": null,
            "grid_template_rows": null,
            "height": null,
            "justify_content": null,
            "justify_items": null,
            "left": null,
            "margin": null,
            "max_height": null,
            "max_width": null,
            "min_height": null,
            "min_width": null,
            "object_fit": null,
            "object_position": null,
            "order": null,
            "overflow": null,
            "overflow_x": null,
            "overflow_y": null,
            "padding": null,
            "right": null,
            "top": null,
            "visibility": null,
            "width": "20px"
          }
        },
        "84da8b06091440f7b69bac804cb8661d": {
          "model_module": "@jupyter-widgets/controls",
          "model_name": "ProgressStyleModel",
          "model_module_version": "1.5.0",
          "state": {
            "_model_module": "@jupyter-widgets/controls",
            "_model_module_version": "1.5.0",
            "_model_name": "ProgressStyleModel",
            "_view_count": null,
            "_view_module": "@jupyter-widgets/base",
            "_view_module_version": "1.2.0",
            "_view_name": "StyleView",
            "bar_color": null,
            "description_width": ""
          }
        },
        "306fba23cf9b4b1996b798269972eade": {
          "model_module": "@jupyter-widgets/base",
          "model_name": "LayoutModel",
          "model_module_version": "1.2.0",
          "state": {
            "_model_module": "@jupyter-widgets/base",
            "_model_module_version": "1.2.0",
            "_model_name": "LayoutModel",
            "_view_count": null,
            "_view_module": "@jupyter-widgets/base",
            "_view_module_version": "1.2.0",
            "_view_name": "LayoutView",
            "align_content": null,
            "align_items": null,
            "align_self": null,
            "border": null,
            "bottom": null,
            "display": null,
            "flex": null,
            "flex_flow": null,
            "grid_area": null,
            "grid_auto_columns": null,
            "grid_auto_flow": null,
            "grid_auto_rows": null,
            "grid_column": null,
            "grid_gap": null,
            "grid_row": null,
            "grid_template_areas": null,
            "grid_template_columns": null,
            "grid_template_rows": null,
            "height": null,
            "justify_content": null,
            "justify_items": null,
            "left": null,
            "margin": null,
            "max_height": null,
            "max_width": null,
            "min_height": null,
            "min_width": null,
            "object_fit": null,
            "object_position": null,
            "order": null,
            "overflow": null,
            "overflow_x": null,
            "overflow_y": null,
            "padding": null,
            "right": null,
            "top": null,
            "visibility": null,
            "width": null
          }
        },
        "f7b9ed0c76534f33bee960d131cc85ca": {
          "model_module": "@jupyter-widgets/controls",
          "model_name": "DescriptionStyleModel",
          "model_module_version": "1.5.0",
          "state": {
            "_model_module": "@jupyter-widgets/controls",
            "_model_module_version": "1.5.0",
            "_model_name": "DescriptionStyleModel",
            "_view_count": null,
            "_view_module": "@jupyter-widgets/base",
            "_view_module_version": "1.2.0",
            "_view_name": "StyleView",
            "description_width": ""
          }
        },
        "6760bda06c8344d5aa59ba9ea59f8b2a": {
          "model_module": "@jupyter-widgets/controls",
          "model_name": "HBoxModel",
          "model_module_version": "1.5.0",
          "state": {
            "_dom_classes": [],
            "_model_module": "@jupyter-widgets/controls",
            "_model_module_version": "1.5.0",
            "_model_name": "HBoxModel",
            "_view_count": null,
            "_view_module": "@jupyter-widgets/controls",
            "_view_module_version": "1.5.0",
            "_view_name": "HBoxView",
            "box_style": "",
            "children": [
              "IPY_MODEL_c7a527c2d584405191885c0bd4d2e623",
              "IPY_MODEL_8a19dfcca146476da19c4fc22662536b",
              "IPY_MODEL_f83b65a262d547eb92204a1a42252cd0"
            ],
            "layout": "IPY_MODEL_6ccfb928ab43403dba2762adaf9c92dd"
          }
        },
        "c7a527c2d584405191885c0bd4d2e623": {
          "model_module": "@jupyter-widgets/controls",
          "model_name": "HTMLModel",
          "model_module_version": "1.5.0",
          "state": {
            "_dom_classes": [],
            "_model_module": "@jupyter-widgets/controls",
            "_model_module_version": "1.5.0",
            "_model_name": "HTMLModel",
            "_view_count": null,
            "_view_module": "@jupyter-widgets/controls",
            "_view_module_version": "1.5.0",
            "_view_name": "HTMLView",
            "description": "",
            "description_tooltip": null,
            "layout": "IPY_MODEL_754924f8eac0424d90962ff064c682e3",
            "placeholder": "​",
            "style": "IPY_MODEL_9cb48f88795f444baf8ec5d6542c91cf",
            "value": "Generating splits...: 100%"
          }
        },
        "8a19dfcca146476da19c4fc22662536b": {
          "model_module": "@jupyter-widgets/controls",
          "model_name": "FloatProgressModel",
          "model_module_version": "1.5.0",
          "state": {
            "_dom_classes": [],
            "_model_module": "@jupyter-widgets/controls",
            "_model_module_version": "1.5.0",
            "_model_name": "FloatProgressModel",
            "_view_count": null,
            "_view_module": "@jupyter-widgets/controls",
            "_view_module_version": "1.5.0",
            "_view_name": "ProgressView",
            "bar_style": "",
            "description": "",
            "description_tooltip": null,
            "layout": "IPY_MODEL_529697ac03ae4d3db8128391d833706f",
            "max": 3,
            "min": 0,
            "orientation": "horizontal",
            "style": "IPY_MODEL_b5e3c493034e40b6bacc2b8b9dca2667",
            "value": 3
          }
        },
        "f83b65a262d547eb92204a1a42252cd0": {
          "model_module": "@jupyter-widgets/controls",
          "model_name": "HTMLModel",
          "model_module_version": "1.5.0",
          "state": {
            "_dom_classes": [],
            "_model_module": "@jupyter-widgets/controls",
            "_model_module_version": "1.5.0",
            "_model_name": "HTMLModel",
            "_view_count": null,
            "_view_module": "@jupyter-widgets/controls",
            "_view_module_version": "1.5.0",
            "_view_name": "HTMLView",
            "description": "",
            "description_tooltip": null,
            "layout": "IPY_MODEL_e368d368234d4c34889adce71140270a",
            "placeholder": "​",
            "style": "IPY_MODEL_12fee5d96e1946bb802be1b1104ea6a3",
            "value": " 3/3 [10:33&lt;00:00, 158.49s/ splits]"
          }
        },
        "6ccfb928ab43403dba2762adaf9c92dd": {
          "model_module": "@jupyter-widgets/base",
          "model_name": "LayoutModel",
          "model_module_version": "1.2.0",
          "state": {
            "_model_module": "@jupyter-widgets/base",
            "_model_module_version": "1.2.0",
            "_model_name": "LayoutModel",
            "_view_count": null,
            "_view_module": "@jupyter-widgets/base",
            "_view_module_version": "1.2.0",
            "_view_name": "LayoutView",
            "align_content": null,
            "align_items": null,
            "align_self": null,
            "border": null,
            "bottom": null,
            "display": null,
            "flex": null,
            "flex_flow": null,
            "grid_area": null,
            "grid_auto_columns": null,
            "grid_auto_flow": null,
            "grid_auto_rows": null,
            "grid_column": null,
            "grid_gap": null,
            "grid_row": null,
            "grid_template_areas": null,
            "grid_template_columns": null,
            "grid_template_rows": null,
            "height": null,
            "justify_content": null,
            "justify_items": null,
            "left": null,
            "margin": null,
            "max_height": null,
            "max_width": null,
            "min_height": null,
            "min_width": null,
            "object_fit": null,
            "object_position": null,
            "order": null,
            "overflow": null,
            "overflow_x": null,
            "overflow_y": null,
            "padding": null,
            "right": null,
            "top": null,
            "visibility": "hidden",
            "width": null
          }
        },
        "754924f8eac0424d90962ff064c682e3": {
          "model_module": "@jupyter-widgets/base",
          "model_name": "LayoutModel",
          "model_module_version": "1.2.0",
          "state": {
            "_model_module": "@jupyter-widgets/base",
            "_model_module_version": "1.2.0",
            "_model_name": "LayoutModel",
            "_view_count": null,
            "_view_module": "@jupyter-widgets/base",
            "_view_module_version": "1.2.0",
            "_view_name": "LayoutView",
            "align_content": null,
            "align_items": null,
            "align_self": null,
            "border": null,
            "bottom": null,
            "display": null,
            "flex": null,
            "flex_flow": null,
            "grid_area": null,
            "grid_auto_columns": null,
            "grid_auto_flow": null,
            "grid_auto_rows": null,
            "grid_column": null,
            "grid_gap": null,
            "grid_row": null,
            "grid_template_areas": null,
            "grid_template_columns": null,
            "grid_template_rows": null,
            "height": null,
            "justify_content": null,
            "justify_items": null,
            "left": null,
            "margin": null,
            "max_height": null,
            "max_width": null,
            "min_height": null,
            "min_width": null,
            "object_fit": null,
            "object_position": null,
            "order": null,
            "overflow": null,
            "overflow_x": null,
            "overflow_y": null,
            "padding": null,
            "right": null,
            "top": null,
            "visibility": null,
            "width": null
          }
        },
        "9cb48f88795f444baf8ec5d6542c91cf": {
          "model_module": "@jupyter-widgets/controls",
          "model_name": "DescriptionStyleModel",
          "model_module_version": "1.5.0",
          "state": {
            "_model_module": "@jupyter-widgets/controls",
            "_model_module_version": "1.5.0",
            "_model_name": "DescriptionStyleModel",
            "_view_count": null,
            "_view_module": "@jupyter-widgets/base",
            "_view_module_version": "1.2.0",
            "_view_name": "StyleView",
            "description_width": ""
          }
        },
        "529697ac03ae4d3db8128391d833706f": {
          "model_module": "@jupyter-widgets/base",
          "model_name": "LayoutModel",
          "model_module_version": "1.2.0",
          "state": {
            "_model_module": "@jupyter-widgets/base",
            "_model_module_version": "1.2.0",
            "_model_name": "LayoutModel",
            "_view_count": null,
            "_view_module": "@jupyter-widgets/base",
            "_view_module_version": "1.2.0",
            "_view_name": "LayoutView",
            "align_content": null,
            "align_items": null,
            "align_self": null,
            "border": null,
            "bottom": null,
            "display": null,
            "flex": null,
            "flex_flow": null,
            "grid_area": null,
            "grid_auto_columns": null,
            "grid_auto_flow": null,
            "grid_auto_rows": null,
            "grid_column": null,
            "grid_gap": null,
            "grid_row": null,
            "grid_template_areas": null,
            "grid_template_columns": null,
            "grid_template_rows": null,
            "height": null,
            "justify_content": null,
            "justify_items": null,
            "left": null,
            "margin": null,
            "max_height": null,
            "max_width": null,
            "min_height": null,
            "min_width": null,
            "object_fit": null,
            "object_position": null,
            "order": null,
            "overflow": null,
            "overflow_x": null,
            "overflow_y": null,
            "padding": null,
            "right": null,
            "top": null,
            "visibility": null,
            "width": null
          }
        },
        "b5e3c493034e40b6bacc2b8b9dca2667": {
          "model_module": "@jupyter-widgets/controls",
          "model_name": "ProgressStyleModel",
          "model_module_version": "1.5.0",
          "state": {
            "_model_module": "@jupyter-widgets/controls",
            "_model_module_version": "1.5.0",
            "_model_name": "ProgressStyleModel",
            "_view_count": null,
            "_view_module": "@jupyter-widgets/base",
            "_view_module_version": "1.2.0",
            "_view_name": "StyleView",
            "bar_color": null,
            "description_width": ""
          }
        },
        "e368d368234d4c34889adce71140270a": {
          "model_module": "@jupyter-widgets/base",
          "model_name": "LayoutModel",
          "model_module_version": "1.2.0",
          "state": {
            "_model_module": "@jupyter-widgets/base",
            "_model_module_version": "1.2.0",
            "_model_name": "LayoutModel",
            "_view_count": null,
            "_view_module": "@jupyter-widgets/base",
            "_view_module_version": "1.2.0",
            "_view_name": "LayoutView",
            "align_content": null,
            "align_items": null,
            "align_self": null,
            "border": null,
            "bottom": null,
            "display": null,
            "flex": null,
            "flex_flow": null,
            "grid_area": null,
            "grid_auto_columns": null,
            "grid_auto_flow": null,
            "grid_auto_rows": null,
            "grid_column": null,
            "grid_gap": null,
            "grid_row": null,
            "grid_template_areas": null,
            "grid_template_columns": null,
            "grid_template_rows": null,
            "height": null,
            "justify_content": null,
            "justify_items": null,
            "left": null,
            "margin": null,
            "max_height": null,
            "max_width": null,
            "min_height": null,
            "min_width": null,
            "object_fit": null,
            "object_position": null,
            "order": null,
            "overflow": null,
            "overflow_x": null,
            "overflow_y": null,
            "padding": null,
            "right": null,
            "top": null,
            "visibility": null,
            "width": null
          }
        },
        "12fee5d96e1946bb802be1b1104ea6a3": {
          "model_module": "@jupyter-widgets/controls",
          "model_name": "DescriptionStyleModel",
          "model_module_version": "1.5.0",
          "state": {
            "_model_module": "@jupyter-widgets/controls",
            "_model_module_version": "1.5.0",
            "_model_name": "DescriptionStyleModel",
            "_view_count": null,
            "_view_module": "@jupyter-widgets/base",
            "_view_module_version": "1.2.0",
            "_view_name": "StyleView",
            "description_width": ""
          }
        },
        "bf93acdc3ba44872918e4975659ab8ce": {
          "model_module": "@jupyter-widgets/controls",
          "model_name": "HBoxModel",
          "model_module_version": "1.5.0",
          "state": {
            "_dom_classes": [],
            "_model_module": "@jupyter-widgets/controls",
            "_model_module_version": "1.5.0",
            "_model_name": "HBoxModel",
            "_view_count": null,
            "_view_module": "@jupyter-widgets/controls",
            "_view_module_version": "1.5.0",
            "_view_name": "HBoxView",
            "box_style": "",
            "children": [
              "IPY_MODEL_fe75a13e3d36473b88415a71a34c6611",
              "IPY_MODEL_fb9d98cfe7774a958a005465428c8e87",
              "IPY_MODEL_39682e7cf0474969b947e9dc62a4f479"
            ],
            "layout": "IPY_MODEL_aaa03449a4c7452bb9e0934cc3bc18c2"
          }
        },
        "fe75a13e3d36473b88415a71a34c6611": {
          "model_module": "@jupyter-widgets/controls",
          "model_name": "HTMLModel",
          "model_module_version": "1.5.0",
          "state": {
            "_dom_classes": [],
            "_model_module": "@jupyter-widgets/controls",
            "_model_module_version": "1.5.0",
            "_model_name": "HTMLModel",
            "_view_count": null,
            "_view_module": "@jupyter-widgets/controls",
            "_view_module_version": "1.5.0",
            "_view_name": "HTMLView",
            "description": "",
            "description_tooltip": null,
            "layout": "IPY_MODEL_ce584102005242afa1c8c0f7e7fadf14",
            "placeholder": "​",
            "style": "IPY_MODEL_2580834b137340a789499a291f931682",
            "value": "Generating train examples...: 100%"
          }
        },
        "fb9d98cfe7774a958a005465428c8e87": {
          "model_module": "@jupyter-widgets/controls",
          "model_name": "FloatProgressModel",
          "model_module_version": "1.5.0",
          "state": {
            "_dom_classes": [],
            "_model_module": "@jupyter-widgets/controls",
            "_model_module_version": "1.5.0",
            "_model_name": "FloatProgressModel",
            "_view_count": null,
            "_view_module": "@jupyter-widgets/controls",
            "_view_module_version": "1.5.0",
            "_view_name": "ProgressView",
            "bar_style": "",
            "description": "",
            "description_tooltip": null,
            "layout": "IPY_MODEL_459721d5133e4fa7ae6e38923d7f8cda",
            "max": 85511,
            "min": 0,
            "orientation": "horizontal",
            "style": "IPY_MODEL_a610f95643b541968df0dc49a440e3a3",
            "value": 85511
          }
        },
        "39682e7cf0474969b947e9dc62a4f479": {
          "model_module": "@jupyter-widgets/controls",
          "model_name": "HTMLModel",
          "model_module_version": "1.5.0",
          "state": {
            "_dom_classes": [],
            "_model_module": "@jupyter-widgets/controls",
            "_model_module_version": "1.5.0",
            "_model_name": "HTMLModel",
            "_view_count": null,
            "_view_module": "@jupyter-widgets/controls",
            "_view_module_version": "1.5.0",
            "_view_name": "HTMLView",
            "description": "",
            "description_tooltip": null,
            "layout": "IPY_MODEL_0fedd666bbbf46bd9d08899e9fc2aaf8",
            "placeholder": "​",
            "style": "IPY_MODEL_09a8c222d46c4687977e0e84ccd50e63",
            "value": " 85426/85511 [07:57&lt;00:00, 180.16 examples/s]"
          }
        },
        "aaa03449a4c7452bb9e0934cc3bc18c2": {
          "model_module": "@jupyter-widgets/base",
          "model_name": "LayoutModel",
          "model_module_version": "1.2.0",
          "state": {
            "_model_module": "@jupyter-widgets/base",
            "_model_module_version": "1.2.0",
            "_model_name": "LayoutModel",
            "_view_count": null,
            "_view_module": "@jupyter-widgets/base",
            "_view_module_version": "1.2.0",
            "_view_name": "LayoutView",
            "align_content": null,
            "align_items": null,
            "align_self": null,
            "border": null,
            "bottom": null,
            "display": null,
            "flex": null,
            "flex_flow": null,
            "grid_area": null,
            "grid_auto_columns": null,
            "grid_auto_flow": null,
            "grid_auto_rows": null,
            "grid_column": null,
            "grid_gap": null,
            "grid_row": null,
            "grid_template_areas": null,
            "grid_template_columns": null,
            "grid_template_rows": null,
            "height": null,
            "justify_content": null,
            "justify_items": null,
            "left": null,
            "margin": null,
            "max_height": null,
            "max_width": null,
            "min_height": null,
            "min_width": null,
            "object_fit": null,
            "object_position": null,
            "order": null,
            "overflow": null,
            "overflow_x": null,
            "overflow_y": null,
            "padding": null,
            "right": null,
            "top": null,
            "visibility": "hidden",
            "width": null
          }
        },
        "ce584102005242afa1c8c0f7e7fadf14": {
          "model_module": "@jupyter-widgets/base",
          "model_name": "LayoutModel",
          "model_module_version": "1.2.0",
          "state": {
            "_model_module": "@jupyter-widgets/base",
            "_model_module_version": "1.2.0",
            "_model_name": "LayoutModel",
            "_view_count": null,
            "_view_module": "@jupyter-widgets/base",
            "_view_module_version": "1.2.0",
            "_view_name": "LayoutView",
            "align_content": null,
            "align_items": null,
            "align_self": null,
            "border": null,
            "bottom": null,
            "display": null,
            "flex": null,
            "flex_flow": null,
            "grid_area": null,
            "grid_auto_columns": null,
            "grid_auto_flow": null,
            "grid_auto_rows": null,
            "grid_column": null,
            "grid_gap": null,
            "grid_row": null,
            "grid_template_areas": null,
            "grid_template_columns": null,
            "grid_template_rows": null,
            "height": null,
            "justify_content": null,
            "justify_items": null,
            "left": null,
            "margin": null,
            "max_height": null,
            "max_width": null,
            "min_height": null,
            "min_width": null,
            "object_fit": null,
            "object_position": null,
            "order": null,
            "overflow": null,
            "overflow_x": null,
            "overflow_y": null,
            "padding": null,
            "right": null,
            "top": null,
            "visibility": null,
            "width": null
          }
        },
        "2580834b137340a789499a291f931682": {
          "model_module": "@jupyter-widgets/controls",
          "model_name": "DescriptionStyleModel",
          "model_module_version": "1.5.0",
          "state": {
            "_model_module": "@jupyter-widgets/controls",
            "_model_module_version": "1.5.0",
            "_model_name": "DescriptionStyleModel",
            "_view_count": null,
            "_view_module": "@jupyter-widgets/base",
            "_view_module_version": "1.2.0",
            "_view_name": "StyleView",
            "description_width": ""
          }
        },
        "459721d5133e4fa7ae6e38923d7f8cda": {
          "model_module": "@jupyter-widgets/base",
          "model_name": "LayoutModel",
          "model_module_version": "1.2.0",
          "state": {
            "_model_module": "@jupyter-widgets/base",
            "_model_module_version": "1.2.0",
            "_model_name": "LayoutModel",
            "_view_count": null,
            "_view_module": "@jupyter-widgets/base",
            "_view_module_version": "1.2.0",
            "_view_name": "LayoutView",
            "align_content": null,
            "align_items": null,
            "align_self": null,
            "border": null,
            "bottom": null,
            "display": null,
            "flex": null,
            "flex_flow": null,
            "grid_area": null,
            "grid_auto_columns": null,
            "grid_auto_flow": null,
            "grid_auto_rows": null,
            "grid_column": null,
            "grid_gap": null,
            "grid_row": null,
            "grid_template_areas": null,
            "grid_template_columns": null,
            "grid_template_rows": null,
            "height": null,
            "justify_content": null,
            "justify_items": null,
            "left": null,
            "margin": null,
            "max_height": null,
            "max_width": null,
            "min_height": null,
            "min_width": null,
            "object_fit": null,
            "object_position": null,
            "order": null,
            "overflow": null,
            "overflow_x": null,
            "overflow_y": null,
            "padding": null,
            "right": null,
            "top": null,
            "visibility": null,
            "width": null
          }
        },
        "a610f95643b541968df0dc49a440e3a3": {
          "model_module": "@jupyter-widgets/controls",
          "model_name": "ProgressStyleModel",
          "model_module_version": "1.5.0",
          "state": {
            "_model_module": "@jupyter-widgets/controls",
            "_model_module_version": "1.5.0",
            "_model_name": "ProgressStyleModel",
            "_view_count": null,
            "_view_module": "@jupyter-widgets/base",
            "_view_module_version": "1.2.0",
            "_view_name": "StyleView",
            "bar_color": null,
            "description_width": ""
          }
        },
        "0fedd666bbbf46bd9d08899e9fc2aaf8": {
          "model_module": "@jupyter-widgets/base",
          "model_name": "LayoutModel",
          "model_module_version": "1.2.0",
          "state": {
            "_model_module": "@jupyter-widgets/base",
            "_model_module_version": "1.2.0",
            "_model_name": "LayoutModel",
            "_view_count": null,
            "_view_module": "@jupyter-widgets/base",
            "_view_module_version": "1.2.0",
            "_view_name": "LayoutView",
            "align_content": null,
            "align_items": null,
            "align_self": null,
            "border": null,
            "bottom": null,
            "display": null,
            "flex": null,
            "flex_flow": null,
            "grid_area": null,
            "grid_auto_columns": null,
            "grid_auto_flow": null,
            "grid_auto_rows": null,
            "grid_column": null,
            "grid_gap": null,
            "grid_row": null,
            "grid_template_areas": null,
            "grid_template_columns": null,
            "grid_template_rows": null,
            "height": null,
            "justify_content": null,
            "justify_items": null,
            "left": null,
            "margin": null,
            "max_height": null,
            "max_width": null,
            "min_height": null,
            "min_width": null,
            "object_fit": null,
            "object_position": null,
            "order": null,
            "overflow": null,
            "overflow_x": null,
            "overflow_y": null,
            "padding": null,
            "right": null,
            "top": null,
            "visibility": null,
            "width": null
          }
        },
        "09a8c222d46c4687977e0e84ccd50e63": {
          "model_module": "@jupyter-widgets/controls",
          "model_name": "DescriptionStyleModel",
          "model_module_version": "1.5.0",
          "state": {
            "_model_module": "@jupyter-widgets/controls",
            "_model_module_version": "1.5.0",
            "_model_name": "DescriptionStyleModel",
            "_view_count": null,
            "_view_module": "@jupyter-widgets/base",
            "_view_module_version": "1.2.0",
            "_view_name": "StyleView",
            "description_width": ""
          }
        },
        "58973d03df624e3191ef561e6f7ca032": {
          "model_module": "@jupyter-widgets/controls",
          "model_name": "HBoxModel",
          "model_module_version": "1.5.0",
          "state": {
            "_dom_classes": [],
            "_model_module": "@jupyter-widgets/controls",
            "_model_module_version": "1.5.0",
            "_model_name": "HBoxModel",
            "_view_count": null,
            "_view_module": "@jupyter-widgets/controls",
            "_view_module_version": "1.5.0",
            "_view_name": "HBoxView",
            "box_style": "",
            "children": [
              "IPY_MODEL_eb35ce53a2f945fbab0a51ab44e21982",
              "IPY_MODEL_157f18ae7db2477da78203875223b249",
              "IPY_MODEL_4178661cfe494d669f0e565fa66df6f1"
            ],
            "layout": "IPY_MODEL_2dcbb76470824110be4f842f87ca04df"
          }
        },
        "eb35ce53a2f945fbab0a51ab44e21982": {
          "model_module": "@jupyter-widgets/controls",
          "model_name": "HTMLModel",
          "model_module_version": "1.5.0",
          "state": {
            "_dom_classes": [],
            "_model_module": "@jupyter-widgets/controls",
            "_model_module_version": "1.5.0",
            "_model_name": "HTMLModel",
            "_view_count": null,
            "_view_module": "@jupyter-widgets/controls",
            "_view_module_version": "1.5.0",
            "_view_name": "HTMLView",
            "description": "",
            "description_tooltip": null,
            "layout": "IPY_MODEL_9982d6a855724f28beea4a90df487c6c",
            "placeholder": "​",
            "style": "IPY_MODEL_160aecd9403d4db1b54401a042c4ac4c",
            "value": "Shuffling /root/tensorflow_datasets/speech_commands/incomplete.JMNGGT_0.0.3/speech_commands-train.tfrecord*...: 100%"
          }
        },
        "157f18ae7db2477da78203875223b249": {
          "model_module": "@jupyter-widgets/controls",
          "model_name": "FloatProgressModel",
          "model_module_version": "1.5.0",
          "state": {
            "_dom_classes": [],
            "_model_module": "@jupyter-widgets/controls",
            "_model_module_version": "1.5.0",
            "_model_name": "FloatProgressModel",
            "_view_count": null,
            "_view_module": "@jupyter-widgets/controls",
            "_view_module_version": "1.5.0",
            "_view_name": "ProgressView",
            "bar_style": "",
            "description": "",
            "description_tooltip": null,
            "layout": "IPY_MODEL_a625652ebf4f4c88bafdf3150339c927",
            "max": 85511,
            "min": 0,
            "orientation": "horizontal",
            "style": "IPY_MODEL_5875335d42a045f0a3e748babed0b253",
            "value": 85511
          }
        },
        "4178661cfe494d669f0e565fa66df6f1": {
          "model_module": "@jupyter-widgets/controls",
          "model_name": "HTMLModel",
          "model_module_version": "1.5.0",
          "state": {
            "_dom_classes": [],
            "_model_module": "@jupyter-widgets/controls",
            "_model_module_version": "1.5.0",
            "_model_name": "HTMLModel",
            "_view_count": null,
            "_view_module": "@jupyter-widgets/controls",
            "_view_module_version": "1.5.0",
            "_view_name": "HTMLView",
            "description": "",
            "description_tooltip": null,
            "layout": "IPY_MODEL_058994fc0b10432fae759fce8af9a09c",
            "placeholder": "​",
            "style": "IPY_MODEL_61eb033fcc0b4f8fa2ca6c81880c7e19",
            "value": " 85092/85511 [00:23&lt;00:00, 3111.72 examples/s]"
          }
        },
        "2dcbb76470824110be4f842f87ca04df": {
          "model_module": "@jupyter-widgets/base",
          "model_name": "LayoutModel",
          "model_module_version": "1.2.0",
          "state": {
            "_model_module": "@jupyter-widgets/base",
            "_model_module_version": "1.2.0",
            "_model_name": "LayoutModel",
            "_view_count": null,
            "_view_module": "@jupyter-widgets/base",
            "_view_module_version": "1.2.0",
            "_view_name": "LayoutView",
            "align_content": null,
            "align_items": null,
            "align_self": null,
            "border": null,
            "bottom": null,
            "display": null,
            "flex": null,
            "flex_flow": null,
            "grid_area": null,
            "grid_auto_columns": null,
            "grid_auto_flow": null,
            "grid_auto_rows": null,
            "grid_column": null,
            "grid_gap": null,
            "grid_row": null,
            "grid_template_areas": null,
            "grid_template_columns": null,
            "grid_template_rows": null,
            "height": null,
            "justify_content": null,
            "justify_items": null,
            "left": null,
            "margin": null,
            "max_height": null,
            "max_width": null,
            "min_height": null,
            "min_width": null,
            "object_fit": null,
            "object_position": null,
            "order": null,
            "overflow": null,
            "overflow_x": null,
            "overflow_y": null,
            "padding": null,
            "right": null,
            "top": null,
            "visibility": "hidden",
            "width": null
          }
        },
        "9982d6a855724f28beea4a90df487c6c": {
          "model_module": "@jupyter-widgets/base",
          "model_name": "LayoutModel",
          "model_module_version": "1.2.0",
          "state": {
            "_model_module": "@jupyter-widgets/base",
            "_model_module_version": "1.2.0",
            "_model_name": "LayoutModel",
            "_view_count": null,
            "_view_module": "@jupyter-widgets/base",
            "_view_module_version": "1.2.0",
            "_view_name": "LayoutView",
            "align_content": null,
            "align_items": null,
            "align_self": null,
            "border": null,
            "bottom": null,
            "display": null,
            "flex": null,
            "flex_flow": null,
            "grid_area": null,
            "grid_auto_columns": null,
            "grid_auto_flow": null,
            "grid_auto_rows": null,
            "grid_column": null,
            "grid_gap": null,
            "grid_row": null,
            "grid_template_areas": null,
            "grid_template_columns": null,
            "grid_template_rows": null,
            "height": null,
            "justify_content": null,
            "justify_items": null,
            "left": null,
            "margin": null,
            "max_height": null,
            "max_width": null,
            "min_height": null,
            "min_width": null,
            "object_fit": null,
            "object_position": null,
            "order": null,
            "overflow": null,
            "overflow_x": null,
            "overflow_y": null,
            "padding": null,
            "right": null,
            "top": null,
            "visibility": null,
            "width": null
          }
        },
        "160aecd9403d4db1b54401a042c4ac4c": {
          "model_module": "@jupyter-widgets/controls",
          "model_name": "DescriptionStyleModel",
          "model_module_version": "1.5.0",
          "state": {
            "_model_module": "@jupyter-widgets/controls",
            "_model_module_version": "1.5.0",
            "_model_name": "DescriptionStyleModel",
            "_view_count": null,
            "_view_module": "@jupyter-widgets/base",
            "_view_module_version": "1.2.0",
            "_view_name": "StyleView",
            "description_width": ""
          }
        },
        "a625652ebf4f4c88bafdf3150339c927": {
          "model_module": "@jupyter-widgets/base",
          "model_name": "LayoutModel",
          "model_module_version": "1.2.0",
          "state": {
            "_model_module": "@jupyter-widgets/base",
            "_model_module_version": "1.2.0",
            "_model_name": "LayoutModel",
            "_view_count": null,
            "_view_module": "@jupyter-widgets/base",
            "_view_module_version": "1.2.0",
            "_view_name": "LayoutView",
            "align_content": null,
            "align_items": null,
            "align_self": null,
            "border": null,
            "bottom": null,
            "display": null,
            "flex": null,
            "flex_flow": null,
            "grid_area": null,
            "grid_auto_columns": null,
            "grid_auto_flow": null,
            "grid_auto_rows": null,
            "grid_column": null,
            "grid_gap": null,
            "grid_row": null,
            "grid_template_areas": null,
            "grid_template_columns": null,
            "grid_template_rows": null,
            "height": null,
            "justify_content": null,
            "justify_items": null,
            "left": null,
            "margin": null,
            "max_height": null,
            "max_width": null,
            "min_height": null,
            "min_width": null,
            "object_fit": null,
            "object_position": null,
            "order": null,
            "overflow": null,
            "overflow_x": null,
            "overflow_y": null,
            "padding": null,
            "right": null,
            "top": null,
            "visibility": null,
            "width": null
          }
        },
        "5875335d42a045f0a3e748babed0b253": {
          "model_module": "@jupyter-widgets/controls",
          "model_name": "ProgressStyleModel",
          "model_module_version": "1.5.0",
          "state": {
            "_model_module": "@jupyter-widgets/controls",
            "_model_module_version": "1.5.0",
            "_model_name": "ProgressStyleModel",
            "_view_count": null,
            "_view_module": "@jupyter-widgets/base",
            "_view_module_version": "1.2.0",
            "_view_name": "StyleView",
            "bar_color": null,
            "description_width": ""
          }
        },
        "058994fc0b10432fae759fce8af9a09c": {
          "model_module": "@jupyter-widgets/base",
          "model_name": "LayoutModel",
          "model_module_version": "1.2.0",
          "state": {
            "_model_module": "@jupyter-widgets/base",
            "_model_module_version": "1.2.0",
            "_model_name": "LayoutModel",
            "_view_count": null,
            "_view_module": "@jupyter-widgets/base",
            "_view_module_version": "1.2.0",
            "_view_name": "LayoutView",
            "align_content": null,
            "align_items": null,
            "align_self": null,
            "border": null,
            "bottom": null,
            "display": null,
            "flex": null,
            "flex_flow": null,
            "grid_area": null,
            "grid_auto_columns": null,
            "grid_auto_flow": null,
            "grid_auto_rows": null,
            "grid_column": null,
            "grid_gap": null,
            "grid_row": null,
            "grid_template_areas": null,
            "grid_template_columns": null,
            "grid_template_rows": null,
            "height": null,
            "justify_content": null,
            "justify_items": null,
            "left": null,
            "margin": null,
            "max_height": null,
            "max_width": null,
            "min_height": null,
            "min_width": null,
            "object_fit": null,
            "object_position": null,
            "order": null,
            "overflow": null,
            "overflow_x": null,
            "overflow_y": null,
            "padding": null,
            "right": null,
            "top": null,
            "visibility": null,
            "width": null
          }
        },
        "61eb033fcc0b4f8fa2ca6c81880c7e19": {
          "model_module": "@jupyter-widgets/controls",
          "model_name": "DescriptionStyleModel",
          "model_module_version": "1.5.0",
          "state": {
            "_model_module": "@jupyter-widgets/controls",
            "_model_module_version": "1.5.0",
            "_model_name": "DescriptionStyleModel",
            "_view_count": null,
            "_view_module": "@jupyter-widgets/base",
            "_view_module_version": "1.2.0",
            "_view_name": "StyleView",
            "description_width": ""
          }
        },
        "7eeb005ae29c455680e828d59c904b01": {
          "model_module": "@jupyter-widgets/controls",
          "model_name": "HBoxModel",
          "model_module_version": "1.5.0",
          "state": {
            "_dom_classes": [],
            "_model_module": "@jupyter-widgets/controls",
            "_model_module_version": "1.5.0",
            "_model_name": "HBoxModel",
            "_view_count": null,
            "_view_module": "@jupyter-widgets/controls",
            "_view_module_version": "1.5.0",
            "_view_name": "HBoxView",
            "box_style": "",
            "children": [
              "IPY_MODEL_09e1d7b92da4487291405cd32b79afbc",
              "IPY_MODEL_48d2789f915540c1ab03fb30f399ddad",
              "IPY_MODEL_d07f4965ef284a448928d86cf43532cc"
            ],
            "layout": "IPY_MODEL_740a246c1ff043f2870b08d0468e3937"
          }
        },
        "09e1d7b92da4487291405cd32b79afbc": {
          "model_module": "@jupyter-widgets/controls",
          "model_name": "HTMLModel",
          "model_module_version": "1.5.0",
          "state": {
            "_dom_classes": [],
            "_model_module": "@jupyter-widgets/controls",
            "_model_module_version": "1.5.0",
            "_model_name": "HTMLModel",
            "_view_count": null,
            "_view_module": "@jupyter-widgets/controls",
            "_view_module_version": "1.5.0",
            "_view_name": "HTMLView",
            "description": "",
            "description_tooltip": null,
            "layout": "IPY_MODEL_49e99c4c50d74ead86a2c534a4f1f74b",
            "placeholder": "​",
            "style": "IPY_MODEL_61da831262b046e3a37ca7fa977ca925",
            "value": "Generating validation examples...: 100%"
          }
        },
        "48d2789f915540c1ab03fb30f399ddad": {
          "model_module": "@jupyter-widgets/controls",
          "model_name": "FloatProgressModel",
          "model_module_version": "1.5.0",
          "state": {
            "_dom_classes": [],
            "_model_module": "@jupyter-widgets/controls",
            "_model_module_version": "1.5.0",
            "_model_name": "FloatProgressModel",
            "_view_count": null,
            "_view_module": "@jupyter-widgets/controls",
            "_view_module_version": "1.5.0",
            "_view_name": "ProgressView",
            "bar_style": "",
            "description": "",
            "description_tooltip": null,
            "layout": "IPY_MODEL_a0556a97f52f4db1955501f8f20cf9a5",
            "max": 10102,
            "min": 0,
            "orientation": "horizontal",
            "style": "IPY_MODEL_9226042910ac49c2a6f62c99a632940c",
            "value": 10102
          }
        },
        "d07f4965ef284a448928d86cf43532cc": {
          "model_module": "@jupyter-widgets/controls",
          "model_name": "HTMLModel",
          "model_module_version": "1.5.0",
          "state": {
            "_dom_classes": [],
            "_model_module": "@jupyter-widgets/controls",
            "_model_module_version": "1.5.0",
            "_model_name": "HTMLModel",
            "_view_count": null,
            "_view_module": "@jupyter-widgets/controls",
            "_view_module_version": "1.5.0",
            "_view_name": "HTMLView",
            "description": "",
            "description_tooltip": null,
            "layout": "IPY_MODEL_81cc13e52544478f8a0a45550f2bf630",
            "placeholder": "​",
            "style": "IPY_MODEL_c84c389df862402aa1aca94576286c84",
            "value": " 10065/10102 [01:40&lt;00:00, 100.57 examples/s]"
          }
        },
        "740a246c1ff043f2870b08d0468e3937": {
          "model_module": "@jupyter-widgets/base",
          "model_name": "LayoutModel",
          "model_module_version": "1.2.0",
          "state": {
            "_model_module": "@jupyter-widgets/base",
            "_model_module_version": "1.2.0",
            "_model_name": "LayoutModel",
            "_view_count": null,
            "_view_module": "@jupyter-widgets/base",
            "_view_module_version": "1.2.0",
            "_view_name": "LayoutView",
            "align_content": null,
            "align_items": null,
            "align_self": null,
            "border": null,
            "bottom": null,
            "display": null,
            "flex": null,
            "flex_flow": null,
            "grid_area": null,
            "grid_auto_columns": null,
            "grid_auto_flow": null,
            "grid_auto_rows": null,
            "grid_column": null,
            "grid_gap": null,
            "grid_row": null,
            "grid_template_areas": null,
            "grid_template_columns": null,
            "grid_template_rows": null,
            "height": null,
            "justify_content": null,
            "justify_items": null,
            "left": null,
            "margin": null,
            "max_height": null,
            "max_width": null,
            "min_height": null,
            "min_width": null,
            "object_fit": null,
            "object_position": null,
            "order": null,
            "overflow": null,
            "overflow_x": null,
            "overflow_y": null,
            "padding": null,
            "right": null,
            "top": null,
            "visibility": "hidden",
            "width": null
          }
        },
        "49e99c4c50d74ead86a2c534a4f1f74b": {
          "model_module": "@jupyter-widgets/base",
          "model_name": "LayoutModel",
          "model_module_version": "1.2.0",
          "state": {
            "_model_module": "@jupyter-widgets/base",
            "_model_module_version": "1.2.0",
            "_model_name": "LayoutModel",
            "_view_count": null,
            "_view_module": "@jupyter-widgets/base",
            "_view_module_version": "1.2.0",
            "_view_name": "LayoutView",
            "align_content": null,
            "align_items": null,
            "align_self": null,
            "border": null,
            "bottom": null,
            "display": null,
            "flex": null,
            "flex_flow": null,
            "grid_area": null,
            "grid_auto_columns": null,
            "grid_auto_flow": null,
            "grid_auto_rows": null,
            "grid_column": null,
            "grid_gap": null,
            "grid_row": null,
            "grid_template_areas": null,
            "grid_template_columns": null,
            "grid_template_rows": null,
            "height": null,
            "justify_content": null,
            "justify_items": null,
            "left": null,
            "margin": null,
            "max_height": null,
            "max_width": null,
            "min_height": null,
            "min_width": null,
            "object_fit": null,
            "object_position": null,
            "order": null,
            "overflow": null,
            "overflow_x": null,
            "overflow_y": null,
            "padding": null,
            "right": null,
            "top": null,
            "visibility": null,
            "width": null
          }
        },
        "61da831262b046e3a37ca7fa977ca925": {
          "model_module": "@jupyter-widgets/controls",
          "model_name": "DescriptionStyleModel",
          "model_module_version": "1.5.0",
          "state": {
            "_model_module": "@jupyter-widgets/controls",
            "_model_module_version": "1.5.0",
            "_model_name": "DescriptionStyleModel",
            "_view_count": null,
            "_view_module": "@jupyter-widgets/base",
            "_view_module_version": "1.2.0",
            "_view_name": "StyleView",
            "description_width": ""
          }
        },
        "a0556a97f52f4db1955501f8f20cf9a5": {
          "model_module": "@jupyter-widgets/base",
          "model_name": "LayoutModel",
          "model_module_version": "1.2.0",
          "state": {
            "_model_module": "@jupyter-widgets/base",
            "_model_module_version": "1.2.0",
            "_model_name": "LayoutModel",
            "_view_count": null,
            "_view_module": "@jupyter-widgets/base",
            "_view_module_version": "1.2.0",
            "_view_name": "LayoutView",
            "align_content": null,
            "align_items": null,
            "align_self": null,
            "border": null,
            "bottom": null,
            "display": null,
            "flex": null,
            "flex_flow": null,
            "grid_area": null,
            "grid_auto_columns": null,
            "grid_auto_flow": null,
            "grid_auto_rows": null,
            "grid_column": null,
            "grid_gap": null,
            "grid_row": null,
            "grid_template_areas": null,
            "grid_template_columns": null,
            "grid_template_rows": null,
            "height": null,
            "justify_content": null,
            "justify_items": null,
            "left": null,
            "margin": null,
            "max_height": null,
            "max_width": null,
            "min_height": null,
            "min_width": null,
            "object_fit": null,
            "object_position": null,
            "order": null,
            "overflow": null,
            "overflow_x": null,
            "overflow_y": null,
            "padding": null,
            "right": null,
            "top": null,
            "visibility": null,
            "width": null
          }
        },
        "9226042910ac49c2a6f62c99a632940c": {
          "model_module": "@jupyter-widgets/controls",
          "model_name": "ProgressStyleModel",
          "model_module_version": "1.5.0",
          "state": {
            "_model_module": "@jupyter-widgets/controls",
            "_model_module_version": "1.5.0",
            "_model_name": "ProgressStyleModel",
            "_view_count": null,
            "_view_module": "@jupyter-widgets/base",
            "_view_module_version": "1.2.0",
            "_view_name": "StyleView",
            "bar_color": null,
            "description_width": ""
          }
        },
        "81cc13e52544478f8a0a45550f2bf630": {
          "model_module": "@jupyter-widgets/base",
          "model_name": "LayoutModel",
          "model_module_version": "1.2.0",
          "state": {
            "_model_module": "@jupyter-widgets/base",
            "_model_module_version": "1.2.0",
            "_model_name": "LayoutModel",
            "_view_count": null,
            "_view_module": "@jupyter-widgets/base",
            "_view_module_version": "1.2.0",
            "_view_name": "LayoutView",
            "align_content": null,
            "align_items": null,
            "align_self": null,
            "border": null,
            "bottom": null,
            "display": null,
            "flex": null,
            "flex_flow": null,
            "grid_area": null,
            "grid_auto_columns": null,
            "grid_auto_flow": null,
            "grid_auto_rows": null,
            "grid_column": null,
            "grid_gap": null,
            "grid_row": null,
            "grid_template_areas": null,
            "grid_template_columns": null,
            "grid_template_rows": null,
            "height": null,
            "justify_content": null,
            "justify_items": null,
            "left": null,
            "margin": null,
            "max_height": null,
            "max_width": null,
            "min_height": null,
            "min_width": null,
            "object_fit": null,
            "object_position": null,
            "order": null,
            "overflow": null,
            "overflow_x": null,
            "overflow_y": null,
            "padding": null,
            "right": null,
            "top": null,
            "visibility": null,
            "width": null
          }
        },
        "c84c389df862402aa1aca94576286c84": {
          "model_module": "@jupyter-widgets/controls",
          "model_name": "DescriptionStyleModel",
          "model_module_version": "1.5.0",
          "state": {
            "_model_module": "@jupyter-widgets/controls",
            "_model_module_version": "1.5.0",
            "_model_name": "DescriptionStyleModel",
            "_view_count": null,
            "_view_module": "@jupyter-widgets/base",
            "_view_module_version": "1.2.0",
            "_view_name": "StyleView",
            "description_width": ""
          }
        },
        "57deec78cd104465ba0237cebbfcc3c1": {
          "model_module": "@jupyter-widgets/controls",
          "model_name": "HBoxModel",
          "model_module_version": "1.5.0",
          "state": {
            "_dom_classes": [],
            "_model_module": "@jupyter-widgets/controls",
            "_model_module_version": "1.5.0",
            "_model_name": "HBoxModel",
            "_view_count": null,
            "_view_module": "@jupyter-widgets/controls",
            "_view_module_version": "1.5.0",
            "_view_name": "HBoxView",
            "box_style": "",
            "children": [
              "IPY_MODEL_faae61211a094cfbb6ca36a2b4b5e031",
              "IPY_MODEL_aec647cf085146b2bba9e3ae9139987e",
              "IPY_MODEL_a2d683ff511342a482b76e019eefd6ec"
            ],
            "layout": "IPY_MODEL_73d3092e807a40369112faa706436c7e"
          }
        },
        "faae61211a094cfbb6ca36a2b4b5e031": {
          "model_module": "@jupyter-widgets/controls",
          "model_name": "HTMLModel",
          "model_module_version": "1.5.0",
          "state": {
            "_dom_classes": [],
            "_model_module": "@jupyter-widgets/controls",
            "_model_module_version": "1.5.0",
            "_model_name": "HTMLModel",
            "_view_count": null,
            "_view_module": "@jupyter-widgets/controls",
            "_view_module_version": "1.5.0",
            "_view_name": "HTMLView",
            "description": "",
            "description_tooltip": null,
            "layout": "IPY_MODEL_d81833b3a0e44d38807b3db58bcb8c34",
            "placeholder": "​",
            "style": "IPY_MODEL_616b7b140b0d40dd94d5ca4d6e8c598d",
            "value": "Shuffling /root/tensorflow_datasets/speech_commands/incomplete.JMNGGT_0.0.3/speech_commands-validation.tfrecord*...:  89%"
          }
        },
        "aec647cf085146b2bba9e3ae9139987e": {
          "model_module": "@jupyter-widgets/controls",
          "model_name": "FloatProgressModel",
          "model_module_version": "1.5.0",
          "state": {
            "_dom_classes": [],
            "_model_module": "@jupyter-widgets/controls",
            "_model_module_version": "1.5.0",
            "_model_name": "FloatProgressModel",
            "_view_count": null,
            "_view_module": "@jupyter-widgets/controls",
            "_view_module_version": "1.5.0",
            "_view_name": "ProgressView",
            "bar_style": "",
            "description": "",
            "description_tooltip": null,
            "layout": "IPY_MODEL_bc289f489d454fa89eb65077fac56707",
            "max": 10102,
            "min": 0,
            "orientation": "horizontal",
            "style": "IPY_MODEL_777aa5a547eb4fef85b7cb65f86ddfa0",
            "value": 10102
          }
        },
        "a2d683ff511342a482b76e019eefd6ec": {
          "model_module": "@jupyter-widgets/controls",
          "model_name": "HTMLModel",
          "model_module_version": "1.5.0",
          "state": {
            "_dom_classes": [],
            "_model_module": "@jupyter-widgets/controls",
            "_model_module_version": "1.5.0",
            "_model_name": "HTMLModel",
            "_view_count": null,
            "_view_module": "@jupyter-widgets/controls",
            "_view_module_version": "1.5.0",
            "_view_name": "HTMLView",
            "description": "",
            "description_tooltip": null,
            "layout": "IPY_MODEL_d1509e9ad1d2451b9fdba2ec5379b016",
            "placeholder": "​",
            "style": "IPY_MODEL_daeb72b82b4043f2bb589fcd35c7d179",
            "value": " 9009/10102 [00:01&lt;00:00, 9008.27 examples/s]"
          }
        },
        "73d3092e807a40369112faa706436c7e": {
          "model_module": "@jupyter-widgets/base",
          "model_name": "LayoutModel",
          "model_module_version": "1.2.0",
          "state": {
            "_model_module": "@jupyter-widgets/base",
            "_model_module_version": "1.2.0",
            "_model_name": "LayoutModel",
            "_view_count": null,
            "_view_module": "@jupyter-widgets/base",
            "_view_module_version": "1.2.0",
            "_view_name": "LayoutView",
            "align_content": null,
            "align_items": null,
            "align_self": null,
            "border": null,
            "bottom": null,
            "display": null,
            "flex": null,
            "flex_flow": null,
            "grid_area": null,
            "grid_auto_columns": null,
            "grid_auto_flow": null,
            "grid_auto_rows": null,
            "grid_column": null,
            "grid_gap": null,
            "grid_row": null,
            "grid_template_areas": null,
            "grid_template_columns": null,
            "grid_template_rows": null,
            "height": null,
            "justify_content": null,
            "justify_items": null,
            "left": null,
            "margin": null,
            "max_height": null,
            "max_width": null,
            "min_height": null,
            "min_width": null,
            "object_fit": null,
            "object_position": null,
            "order": null,
            "overflow": null,
            "overflow_x": null,
            "overflow_y": null,
            "padding": null,
            "right": null,
            "top": null,
            "visibility": "hidden",
            "width": null
          }
        },
        "d81833b3a0e44d38807b3db58bcb8c34": {
          "model_module": "@jupyter-widgets/base",
          "model_name": "LayoutModel",
          "model_module_version": "1.2.0",
          "state": {
            "_model_module": "@jupyter-widgets/base",
            "_model_module_version": "1.2.0",
            "_model_name": "LayoutModel",
            "_view_count": null,
            "_view_module": "@jupyter-widgets/base",
            "_view_module_version": "1.2.0",
            "_view_name": "LayoutView",
            "align_content": null,
            "align_items": null,
            "align_self": null,
            "border": null,
            "bottom": null,
            "display": null,
            "flex": null,
            "flex_flow": null,
            "grid_area": null,
            "grid_auto_columns": null,
            "grid_auto_flow": null,
            "grid_auto_rows": null,
            "grid_column": null,
            "grid_gap": null,
            "grid_row": null,
            "grid_template_areas": null,
            "grid_template_columns": null,
            "grid_template_rows": null,
            "height": null,
            "justify_content": null,
            "justify_items": null,
            "left": null,
            "margin": null,
            "max_height": null,
            "max_width": null,
            "min_height": null,
            "min_width": null,
            "object_fit": null,
            "object_position": null,
            "order": null,
            "overflow": null,
            "overflow_x": null,
            "overflow_y": null,
            "padding": null,
            "right": null,
            "top": null,
            "visibility": null,
            "width": null
          }
        },
        "616b7b140b0d40dd94d5ca4d6e8c598d": {
          "model_module": "@jupyter-widgets/controls",
          "model_name": "DescriptionStyleModel",
          "model_module_version": "1.5.0",
          "state": {
            "_model_module": "@jupyter-widgets/controls",
            "_model_module_version": "1.5.0",
            "_model_name": "DescriptionStyleModel",
            "_view_count": null,
            "_view_module": "@jupyter-widgets/base",
            "_view_module_version": "1.2.0",
            "_view_name": "StyleView",
            "description_width": ""
          }
        },
        "bc289f489d454fa89eb65077fac56707": {
          "model_module": "@jupyter-widgets/base",
          "model_name": "LayoutModel",
          "model_module_version": "1.2.0",
          "state": {
            "_model_module": "@jupyter-widgets/base",
            "_model_module_version": "1.2.0",
            "_model_name": "LayoutModel",
            "_view_count": null,
            "_view_module": "@jupyter-widgets/base",
            "_view_module_version": "1.2.0",
            "_view_name": "LayoutView",
            "align_content": null,
            "align_items": null,
            "align_self": null,
            "border": null,
            "bottom": null,
            "display": null,
            "flex": null,
            "flex_flow": null,
            "grid_area": null,
            "grid_auto_columns": null,
            "grid_auto_flow": null,
            "grid_auto_rows": null,
            "grid_column": null,
            "grid_gap": null,
            "grid_row": null,
            "grid_template_areas": null,
            "grid_template_columns": null,
            "grid_template_rows": null,
            "height": null,
            "justify_content": null,
            "justify_items": null,
            "left": null,
            "margin": null,
            "max_height": null,
            "max_width": null,
            "min_height": null,
            "min_width": null,
            "object_fit": null,
            "object_position": null,
            "order": null,
            "overflow": null,
            "overflow_x": null,
            "overflow_y": null,
            "padding": null,
            "right": null,
            "top": null,
            "visibility": null,
            "width": null
          }
        },
        "777aa5a547eb4fef85b7cb65f86ddfa0": {
          "model_module": "@jupyter-widgets/controls",
          "model_name": "ProgressStyleModel",
          "model_module_version": "1.5.0",
          "state": {
            "_model_module": "@jupyter-widgets/controls",
            "_model_module_version": "1.5.0",
            "_model_name": "ProgressStyleModel",
            "_view_count": null,
            "_view_module": "@jupyter-widgets/base",
            "_view_module_version": "1.2.0",
            "_view_name": "StyleView",
            "bar_color": null,
            "description_width": ""
          }
        },
        "d1509e9ad1d2451b9fdba2ec5379b016": {
          "model_module": "@jupyter-widgets/base",
          "model_name": "LayoutModel",
          "model_module_version": "1.2.0",
          "state": {
            "_model_module": "@jupyter-widgets/base",
            "_model_module_version": "1.2.0",
            "_model_name": "LayoutModel",
            "_view_count": null,
            "_view_module": "@jupyter-widgets/base",
            "_view_module_version": "1.2.0",
            "_view_name": "LayoutView",
            "align_content": null,
            "align_items": null,
            "align_self": null,
            "border": null,
            "bottom": null,
            "display": null,
            "flex": null,
            "flex_flow": null,
            "grid_area": null,
            "grid_auto_columns": null,
            "grid_auto_flow": null,
            "grid_auto_rows": null,
            "grid_column": null,
            "grid_gap": null,
            "grid_row": null,
            "grid_template_areas": null,
            "grid_template_columns": null,
            "grid_template_rows": null,
            "height": null,
            "justify_content": null,
            "justify_items": null,
            "left": null,
            "margin": null,
            "max_height": null,
            "max_width": null,
            "min_height": null,
            "min_width": null,
            "object_fit": null,
            "object_position": null,
            "order": null,
            "overflow": null,
            "overflow_x": null,
            "overflow_y": null,
            "padding": null,
            "right": null,
            "top": null,
            "visibility": null,
            "width": null
          }
        },
        "daeb72b82b4043f2bb589fcd35c7d179": {
          "model_module": "@jupyter-widgets/controls",
          "model_name": "DescriptionStyleModel",
          "model_module_version": "1.5.0",
          "state": {
            "_model_module": "@jupyter-widgets/controls",
            "_model_module_version": "1.5.0",
            "_model_name": "DescriptionStyleModel",
            "_view_count": null,
            "_view_module": "@jupyter-widgets/base",
            "_view_module_version": "1.2.0",
            "_view_name": "StyleView",
            "description_width": ""
          }
        },
        "45d872f390b7492d9634d6650298201a": {
          "model_module": "@jupyter-widgets/controls",
          "model_name": "HBoxModel",
          "model_module_version": "1.5.0",
          "state": {
            "_dom_classes": [],
            "_model_module": "@jupyter-widgets/controls",
            "_model_module_version": "1.5.0",
            "_model_name": "HBoxModel",
            "_view_count": null,
            "_view_module": "@jupyter-widgets/controls",
            "_view_module_version": "1.5.0",
            "_view_name": "HBoxView",
            "box_style": "",
            "children": [
              "IPY_MODEL_03286dc1d7d24845a93c18ba77957daa",
              "IPY_MODEL_267700519ae7496e8984e51d659c7f83",
              "IPY_MODEL_419553392cc5436d9938a4f2b1163902"
            ],
            "layout": "IPY_MODEL_adcbbabe54ef47448334142f2503ba50"
          }
        },
        "03286dc1d7d24845a93c18ba77957daa": {
          "model_module": "@jupyter-widgets/controls",
          "model_name": "HTMLModel",
          "model_module_version": "1.5.0",
          "state": {
            "_dom_classes": [],
            "_model_module": "@jupyter-widgets/controls",
            "_model_module_version": "1.5.0",
            "_model_name": "HTMLModel",
            "_view_count": null,
            "_view_module": "@jupyter-widgets/controls",
            "_view_module_version": "1.5.0",
            "_view_name": "HTMLView",
            "description": "",
            "description_tooltip": null,
            "layout": "IPY_MODEL_be25c60e4f4a4e1da83d90c3ab6bab7a",
            "placeholder": "​",
            "style": "IPY_MODEL_1dfcafe5e4ab409b9835229a1e8faca3",
            "value": "Generating test examples...: 100%"
          }
        },
        "267700519ae7496e8984e51d659c7f83": {
          "model_module": "@jupyter-widgets/controls",
          "model_name": "FloatProgressModel",
          "model_module_version": "1.5.0",
          "state": {
            "_dom_classes": [],
            "_model_module": "@jupyter-widgets/controls",
            "_model_module_version": "1.5.0",
            "_model_name": "FloatProgressModel",
            "_view_count": null,
            "_view_module": "@jupyter-widgets/controls",
            "_view_module_version": "1.5.0",
            "_view_name": "ProgressView",
            "bar_style": "",
            "description": "",
            "description_tooltip": null,
            "layout": "IPY_MODEL_17c448c098844f1088ff42dc98fb5443",
            "max": 4890,
            "min": 0,
            "orientation": "horizontal",
            "style": "IPY_MODEL_f48cff69d1d34bffb0dd400a780f393b",
            "value": 4890
          }
        },
        "419553392cc5436d9938a4f2b1163902": {
          "model_module": "@jupyter-widgets/controls",
          "model_name": "HTMLModel",
          "model_module_version": "1.5.0",
          "state": {
            "_dom_classes": [],
            "_model_module": "@jupyter-widgets/controls",
            "_model_module_version": "1.5.0",
            "_model_name": "HTMLModel",
            "_view_count": null,
            "_view_module": "@jupyter-widgets/controls",
            "_view_module_version": "1.5.0",
            "_view_name": "HTMLView",
            "description": "",
            "description_tooltip": null,
            "layout": "IPY_MODEL_9b3b2c3fb14d41f9a37af2ff6f88676b",
            "placeholder": "​",
            "style": "IPY_MODEL_c903df69d1574242b97e450d30b799b9",
            "value": " 4888/4890 [00:29&lt;00:00, 181.19 examples/s]"
          }
        },
        "adcbbabe54ef47448334142f2503ba50": {
          "model_module": "@jupyter-widgets/base",
          "model_name": "LayoutModel",
          "model_module_version": "1.2.0",
          "state": {
            "_model_module": "@jupyter-widgets/base",
            "_model_module_version": "1.2.0",
            "_model_name": "LayoutModel",
            "_view_count": null,
            "_view_module": "@jupyter-widgets/base",
            "_view_module_version": "1.2.0",
            "_view_name": "LayoutView",
            "align_content": null,
            "align_items": null,
            "align_self": null,
            "border": null,
            "bottom": null,
            "display": null,
            "flex": null,
            "flex_flow": null,
            "grid_area": null,
            "grid_auto_columns": null,
            "grid_auto_flow": null,
            "grid_auto_rows": null,
            "grid_column": null,
            "grid_gap": null,
            "grid_row": null,
            "grid_template_areas": null,
            "grid_template_columns": null,
            "grid_template_rows": null,
            "height": null,
            "justify_content": null,
            "justify_items": null,
            "left": null,
            "margin": null,
            "max_height": null,
            "max_width": null,
            "min_height": null,
            "min_width": null,
            "object_fit": null,
            "object_position": null,
            "order": null,
            "overflow": null,
            "overflow_x": null,
            "overflow_y": null,
            "padding": null,
            "right": null,
            "top": null,
            "visibility": "hidden",
            "width": null
          }
        },
        "be25c60e4f4a4e1da83d90c3ab6bab7a": {
          "model_module": "@jupyter-widgets/base",
          "model_name": "LayoutModel",
          "model_module_version": "1.2.0",
          "state": {
            "_model_module": "@jupyter-widgets/base",
            "_model_module_version": "1.2.0",
            "_model_name": "LayoutModel",
            "_view_count": null,
            "_view_module": "@jupyter-widgets/base",
            "_view_module_version": "1.2.0",
            "_view_name": "LayoutView",
            "align_content": null,
            "align_items": null,
            "align_self": null,
            "border": null,
            "bottom": null,
            "display": null,
            "flex": null,
            "flex_flow": null,
            "grid_area": null,
            "grid_auto_columns": null,
            "grid_auto_flow": null,
            "grid_auto_rows": null,
            "grid_column": null,
            "grid_gap": null,
            "grid_row": null,
            "grid_template_areas": null,
            "grid_template_columns": null,
            "grid_template_rows": null,
            "height": null,
            "justify_content": null,
            "justify_items": null,
            "left": null,
            "margin": null,
            "max_height": null,
            "max_width": null,
            "min_height": null,
            "min_width": null,
            "object_fit": null,
            "object_position": null,
            "order": null,
            "overflow": null,
            "overflow_x": null,
            "overflow_y": null,
            "padding": null,
            "right": null,
            "top": null,
            "visibility": null,
            "width": null
          }
        },
        "1dfcafe5e4ab409b9835229a1e8faca3": {
          "model_module": "@jupyter-widgets/controls",
          "model_name": "DescriptionStyleModel",
          "model_module_version": "1.5.0",
          "state": {
            "_model_module": "@jupyter-widgets/controls",
            "_model_module_version": "1.5.0",
            "_model_name": "DescriptionStyleModel",
            "_view_count": null,
            "_view_module": "@jupyter-widgets/base",
            "_view_module_version": "1.2.0",
            "_view_name": "StyleView",
            "description_width": ""
          }
        },
        "17c448c098844f1088ff42dc98fb5443": {
          "model_module": "@jupyter-widgets/base",
          "model_name": "LayoutModel",
          "model_module_version": "1.2.0",
          "state": {
            "_model_module": "@jupyter-widgets/base",
            "_model_module_version": "1.2.0",
            "_model_name": "LayoutModel",
            "_view_count": null,
            "_view_module": "@jupyter-widgets/base",
            "_view_module_version": "1.2.0",
            "_view_name": "LayoutView",
            "align_content": null,
            "align_items": null,
            "align_self": null,
            "border": null,
            "bottom": null,
            "display": null,
            "flex": null,
            "flex_flow": null,
            "grid_area": null,
            "grid_auto_columns": null,
            "grid_auto_flow": null,
            "grid_auto_rows": null,
            "grid_column": null,
            "grid_gap": null,
            "grid_row": null,
            "grid_template_areas": null,
            "grid_template_columns": null,
            "grid_template_rows": null,
            "height": null,
            "justify_content": null,
            "justify_items": null,
            "left": null,
            "margin": null,
            "max_height": null,
            "max_width": null,
            "min_height": null,
            "min_width": null,
            "object_fit": null,
            "object_position": null,
            "order": null,
            "overflow": null,
            "overflow_x": null,
            "overflow_y": null,
            "padding": null,
            "right": null,
            "top": null,
            "visibility": null,
            "width": null
          }
        },
        "f48cff69d1d34bffb0dd400a780f393b": {
          "model_module": "@jupyter-widgets/controls",
          "model_name": "ProgressStyleModel",
          "model_module_version": "1.5.0",
          "state": {
            "_model_module": "@jupyter-widgets/controls",
            "_model_module_version": "1.5.0",
            "_model_name": "ProgressStyleModel",
            "_view_count": null,
            "_view_module": "@jupyter-widgets/base",
            "_view_module_version": "1.2.0",
            "_view_name": "StyleView",
            "bar_color": null,
            "description_width": ""
          }
        },
        "9b3b2c3fb14d41f9a37af2ff6f88676b": {
          "model_module": "@jupyter-widgets/base",
          "model_name": "LayoutModel",
          "model_module_version": "1.2.0",
          "state": {
            "_model_module": "@jupyter-widgets/base",
            "_model_module_version": "1.2.0",
            "_model_name": "LayoutModel",
            "_view_count": null,
            "_view_module": "@jupyter-widgets/base",
            "_view_module_version": "1.2.0",
            "_view_name": "LayoutView",
            "align_content": null,
            "align_items": null,
            "align_self": null,
            "border": null,
            "bottom": null,
            "display": null,
            "flex": null,
            "flex_flow": null,
            "grid_area": null,
            "grid_auto_columns": null,
            "grid_auto_flow": null,
            "grid_auto_rows": null,
            "grid_column": null,
            "grid_gap": null,
            "grid_row": null,
            "grid_template_areas": null,
            "grid_template_columns": null,
            "grid_template_rows": null,
            "height": null,
            "justify_content": null,
            "justify_items": null,
            "left": null,
            "margin": null,
            "max_height": null,
            "max_width": null,
            "min_height": null,
            "min_width": null,
            "object_fit": null,
            "object_position": null,
            "order": null,
            "overflow": null,
            "overflow_x": null,
            "overflow_y": null,
            "padding": null,
            "right": null,
            "top": null,
            "visibility": null,
            "width": null
          }
        },
        "c903df69d1574242b97e450d30b799b9": {
          "model_module": "@jupyter-widgets/controls",
          "model_name": "DescriptionStyleModel",
          "model_module_version": "1.5.0",
          "state": {
            "_model_module": "@jupyter-widgets/controls",
            "_model_module_version": "1.5.0",
            "_model_name": "DescriptionStyleModel",
            "_view_count": null,
            "_view_module": "@jupyter-widgets/base",
            "_view_module_version": "1.2.0",
            "_view_name": "StyleView",
            "description_width": ""
          }
        },
        "f55b3c88099940ecb76e639d74dfe3e5": {
          "model_module": "@jupyter-widgets/controls",
          "model_name": "HBoxModel",
          "model_module_version": "1.5.0",
          "state": {
            "_dom_classes": [],
            "_model_module": "@jupyter-widgets/controls",
            "_model_module_version": "1.5.0",
            "_model_name": "HBoxModel",
            "_view_count": null,
            "_view_module": "@jupyter-widgets/controls",
            "_view_module_version": "1.5.0",
            "_view_name": "HBoxView",
            "box_style": "",
            "children": [
              "IPY_MODEL_86c33877572a4ce6a5163667cd9c912a",
              "IPY_MODEL_9d15d65e2f0347a5893a3c2292d29dac",
              "IPY_MODEL_77192c5739164abcaa3ead29b4cf8676"
            ],
            "layout": "IPY_MODEL_c42ef1e2760a49cb8d3c68e5037dc3e8"
          }
        },
        "86c33877572a4ce6a5163667cd9c912a": {
          "model_module": "@jupyter-widgets/controls",
          "model_name": "HTMLModel",
          "model_module_version": "1.5.0",
          "state": {
            "_dom_classes": [],
            "_model_module": "@jupyter-widgets/controls",
            "_model_module_version": "1.5.0",
            "_model_name": "HTMLModel",
            "_view_count": null,
            "_view_module": "@jupyter-widgets/controls",
            "_view_module_version": "1.5.0",
            "_view_name": "HTMLView",
            "description": "",
            "description_tooltip": null,
            "layout": "IPY_MODEL_402d5805965b40f99541abe4d00baeb6",
            "placeholder": "​",
            "style": "IPY_MODEL_41b1f1dde6f74f9c8d9616a2e89387f2",
            "value": "Shuffling /root/tensorflow_datasets/speech_commands/incomplete.JMNGGT_0.0.3/speech_commands-test.tfrecord*...:   0%"
          }
        },
        "9d15d65e2f0347a5893a3c2292d29dac": {
          "model_module": "@jupyter-widgets/controls",
          "model_name": "FloatProgressModel",
          "model_module_version": "1.5.0",
          "state": {
            "_dom_classes": [],
            "_model_module": "@jupyter-widgets/controls",
            "_model_module_version": "1.5.0",
            "_model_name": "FloatProgressModel",
            "_view_count": null,
            "_view_module": "@jupyter-widgets/controls",
            "_view_module_version": "1.5.0",
            "_view_name": "ProgressView",
            "bar_style": "",
            "description": "",
            "description_tooltip": null,
            "layout": "IPY_MODEL_dd77710051ea42efbf29cf722699a17b",
            "max": 4890,
            "min": 0,
            "orientation": "horizontal",
            "style": "IPY_MODEL_f345d255cc2742deb21673b726fe52b4",
            "value": 4890
          }
        },
        "77192c5739164abcaa3ead29b4cf8676": {
          "model_module": "@jupyter-widgets/controls",
          "model_name": "HTMLModel",
          "model_module_version": "1.5.0",
          "state": {
            "_dom_classes": [],
            "_model_module": "@jupyter-widgets/controls",
            "_model_module_version": "1.5.0",
            "_model_name": "HTMLModel",
            "_view_count": null,
            "_view_module": "@jupyter-widgets/controls",
            "_view_module_version": "1.5.0",
            "_view_name": "HTMLView",
            "description": "",
            "description_tooltip": null,
            "layout": "IPY_MODEL_90f12fd1dee04c929e470e31a88e8bb6",
            "placeholder": "​",
            "style": "IPY_MODEL_6fa8b2c660ad418c925f82a856aa2779",
            "value": " 0/4890 [00:00&lt;?, ? examples/s]"
          }
        },
        "c42ef1e2760a49cb8d3c68e5037dc3e8": {
          "model_module": "@jupyter-widgets/base",
          "model_name": "LayoutModel",
          "model_module_version": "1.2.0",
          "state": {
            "_model_module": "@jupyter-widgets/base",
            "_model_module_version": "1.2.0",
            "_model_name": "LayoutModel",
            "_view_count": null,
            "_view_module": "@jupyter-widgets/base",
            "_view_module_version": "1.2.0",
            "_view_name": "LayoutView",
            "align_content": null,
            "align_items": null,
            "align_self": null,
            "border": null,
            "bottom": null,
            "display": null,
            "flex": null,
            "flex_flow": null,
            "grid_area": null,
            "grid_auto_columns": null,
            "grid_auto_flow": null,
            "grid_auto_rows": null,
            "grid_column": null,
            "grid_gap": null,
            "grid_row": null,
            "grid_template_areas": null,
            "grid_template_columns": null,
            "grid_template_rows": null,
            "height": null,
            "justify_content": null,
            "justify_items": null,
            "left": null,
            "margin": null,
            "max_height": null,
            "max_width": null,
            "min_height": null,
            "min_width": null,
            "object_fit": null,
            "object_position": null,
            "order": null,
            "overflow": null,
            "overflow_x": null,
            "overflow_y": null,
            "padding": null,
            "right": null,
            "top": null,
            "visibility": "hidden",
            "width": null
          }
        },
        "402d5805965b40f99541abe4d00baeb6": {
          "model_module": "@jupyter-widgets/base",
          "model_name": "LayoutModel",
          "model_module_version": "1.2.0",
          "state": {
            "_model_module": "@jupyter-widgets/base",
            "_model_module_version": "1.2.0",
            "_model_name": "LayoutModel",
            "_view_count": null,
            "_view_module": "@jupyter-widgets/base",
            "_view_module_version": "1.2.0",
            "_view_name": "LayoutView",
            "align_content": null,
            "align_items": null,
            "align_self": null,
            "border": null,
            "bottom": null,
            "display": null,
            "flex": null,
            "flex_flow": null,
            "grid_area": null,
            "grid_auto_columns": null,
            "grid_auto_flow": null,
            "grid_auto_rows": null,
            "grid_column": null,
            "grid_gap": null,
            "grid_row": null,
            "grid_template_areas": null,
            "grid_template_columns": null,
            "grid_template_rows": null,
            "height": null,
            "justify_content": null,
            "justify_items": null,
            "left": null,
            "margin": null,
            "max_height": null,
            "max_width": null,
            "min_height": null,
            "min_width": null,
            "object_fit": null,
            "object_position": null,
            "order": null,
            "overflow": null,
            "overflow_x": null,
            "overflow_y": null,
            "padding": null,
            "right": null,
            "top": null,
            "visibility": null,
            "width": null
          }
        },
        "41b1f1dde6f74f9c8d9616a2e89387f2": {
          "model_module": "@jupyter-widgets/controls",
          "model_name": "DescriptionStyleModel",
          "model_module_version": "1.5.0",
          "state": {
            "_model_module": "@jupyter-widgets/controls",
            "_model_module_version": "1.5.0",
            "_model_name": "DescriptionStyleModel",
            "_view_count": null,
            "_view_module": "@jupyter-widgets/base",
            "_view_module_version": "1.2.0",
            "_view_name": "StyleView",
            "description_width": ""
          }
        },
        "dd77710051ea42efbf29cf722699a17b": {
          "model_module": "@jupyter-widgets/base",
          "model_name": "LayoutModel",
          "model_module_version": "1.2.0",
          "state": {
            "_model_module": "@jupyter-widgets/base",
            "_model_module_version": "1.2.0",
            "_model_name": "LayoutModel",
            "_view_count": null,
            "_view_module": "@jupyter-widgets/base",
            "_view_module_version": "1.2.0",
            "_view_name": "LayoutView",
            "align_content": null,
            "align_items": null,
            "align_self": null,
            "border": null,
            "bottom": null,
            "display": null,
            "flex": null,
            "flex_flow": null,
            "grid_area": null,
            "grid_auto_columns": null,
            "grid_auto_flow": null,
            "grid_auto_rows": null,
            "grid_column": null,
            "grid_gap": null,
            "grid_row": null,
            "grid_template_areas": null,
            "grid_template_columns": null,
            "grid_template_rows": null,
            "height": null,
            "justify_content": null,
            "justify_items": null,
            "left": null,
            "margin": null,
            "max_height": null,
            "max_width": null,
            "min_height": null,
            "min_width": null,
            "object_fit": null,
            "object_position": null,
            "order": null,
            "overflow": null,
            "overflow_x": null,
            "overflow_y": null,
            "padding": null,
            "right": null,
            "top": null,
            "visibility": null,
            "width": null
          }
        },
        "f345d255cc2742deb21673b726fe52b4": {
          "model_module": "@jupyter-widgets/controls",
          "model_name": "ProgressStyleModel",
          "model_module_version": "1.5.0",
          "state": {
            "_model_module": "@jupyter-widgets/controls",
            "_model_module_version": "1.5.0",
            "_model_name": "ProgressStyleModel",
            "_view_count": null,
            "_view_module": "@jupyter-widgets/base",
            "_view_module_version": "1.2.0",
            "_view_name": "StyleView",
            "bar_color": null,
            "description_width": ""
          }
        },
        "90f12fd1dee04c929e470e31a88e8bb6": {
          "model_module": "@jupyter-widgets/base",
          "model_name": "LayoutModel",
          "model_module_version": "1.2.0",
          "state": {
            "_model_module": "@jupyter-widgets/base",
            "_model_module_version": "1.2.0",
            "_model_name": "LayoutModel",
            "_view_count": null,
            "_view_module": "@jupyter-widgets/base",
            "_view_module_version": "1.2.0",
            "_view_name": "LayoutView",
            "align_content": null,
            "align_items": null,
            "align_self": null,
            "border": null,
            "bottom": null,
            "display": null,
            "flex": null,
            "flex_flow": null,
            "grid_area": null,
            "grid_auto_columns": null,
            "grid_auto_flow": null,
            "grid_auto_rows": null,
            "grid_column": null,
            "grid_gap": null,
            "grid_row": null,
            "grid_template_areas": null,
            "grid_template_columns": null,
            "grid_template_rows": null,
            "height": null,
            "justify_content": null,
            "justify_items": null,
            "left": null,
            "margin": null,
            "max_height": null,
            "max_width": null,
            "min_height": null,
            "min_width": null,
            "object_fit": null,
            "object_position": null,
            "order": null,
            "overflow": null,
            "overflow_x": null,
            "overflow_y": null,
            "padding": null,
            "right": null,
            "top": null,
            "visibility": null,
            "width": null
          }
        },
        "6fa8b2c660ad418c925f82a856aa2779": {
          "model_module": "@jupyter-widgets/controls",
          "model_name": "DescriptionStyleModel",
          "model_module_version": "1.5.0",
          "state": {
            "_model_module": "@jupyter-widgets/controls",
            "_model_module_version": "1.5.0",
            "_model_name": "DescriptionStyleModel",
            "_view_count": null,
            "_view_module": "@jupyter-widgets/base",
            "_view_module_version": "1.2.0",
            "_view_name": "StyleView",
            "description_width": ""
          }
        }
      }
    }
  },
  "nbformat": 4,
  "nbformat_minor": 5
}